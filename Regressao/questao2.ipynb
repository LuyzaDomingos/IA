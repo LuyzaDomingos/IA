{
 "cells": [
  {
   "cell_type": "markdown",
   "metadata": {},
   "source": [
    "# Regressão \n",
    "Teste dois métodos de aprendizagem de máquina para identificar o que apresenta melhores resultados na previsão do volume de tráfego. Avaliem o impacto de usar validação cruzada (com 10 grupos) e split (70% para treinamento e 30% para teste). Para esse último, execute o experimento duas vezes selecionando as instâncias aleatoriamente para o treinamento e teste e avalie o impacto nos resultados.\n",
    "\n",
    "Outras informações como dia da semana podem ser inclusas.\n"
   ]
  },
  {
   "cell_type": "markdown",
   "metadata": {},
   "source": [
    "# Bibliotecas"
   ]
  },
  {
   "cell_type": "code",
   "execution_count": 7,
   "metadata": {},
   "outputs": [],
   "source": [
    "import datetime\n",
    "\n",
    "import pandas as pd\n",
    "import numpy as np\n",
    "import matplotlib.pyplot as plt\n",
    "import seaborn as sns\n",
    "\n",
    "from sklearn import preprocessing,neighbors,model_selection, metrics,tree"
   ]
  },
  {
   "cell_type": "markdown",
   "metadata": {},
   "source": [
    "# Base de Dados"
   ]
  },
  {
   "cell_type": "code",
   "execution_count": 18,
   "metadata": {},
   "outputs": [
    {
     "data": {
      "text/html": [
       "<div>\n",
       "<style scoped>\n",
       "    .dataframe tbody tr th:only-of-type {\n",
       "        vertical-align: middle;\n",
       "    }\n",
       "\n",
       "    .dataframe tbody tr th {\n",
       "        vertical-align: top;\n",
       "    }\n",
       "\n",
       "    .dataframe thead th {\n",
       "        text-align: right;\n",
       "    }\n",
       "</style>\n",
       "<table border=\"1\" class=\"dataframe\">\n",
       "  <thead>\n",
       "    <tr style=\"text-align: right;\">\n",
       "      <th></th>\n",
       "      <th>holiday</th>\n",
       "      <th>temp</th>\n",
       "      <th>rain_1h</th>\n",
       "      <th>snow_1h</th>\n",
       "      <th>clouds_all</th>\n",
       "      <th>weather_main</th>\n",
       "      <th>weather_description</th>\n",
       "      <th>date_time</th>\n",
       "      <th>traffic_volume</th>\n",
       "    </tr>\n",
       "  </thead>\n",
       "  <tbody>\n",
       "    <tr>\n",
       "      <td>0</td>\n",
       "      <td>None</td>\n",
       "      <td>288.28</td>\n",
       "      <td>0.0</td>\n",
       "      <td>0.0</td>\n",
       "      <td>40</td>\n",
       "      <td>Clouds</td>\n",
       "      <td>scattered clouds</td>\n",
       "      <td>2012-10-02 09:00:00</td>\n",
       "      <td>5545</td>\n",
       "    </tr>\n",
       "    <tr>\n",
       "      <td>1</td>\n",
       "      <td>None</td>\n",
       "      <td>289.36</td>\n",
       "      <td>0.0</td>\n",
       "      <td>0.0</td>\n",
       "      <td>75</td>\n",
       "      <td>Clouds</td>\n",
       "      <td>broken clouds</td>\n",
       "      <td>2012-10-02 10:00:00</td>\n",
       "      <td>4516</td>\n",
       "    </tr>\n",
       "    <tr>\n",
       "      <td>2</td>\n",
       "      <td>None</td>\n",
       "      <td>289.58</td>\n",
       "      <td>0.0</td>\n",
       "      <td>0.0</td>\n",
       "      <td>90</td>\n",
       "      <td>Clouds</td>\n",
       "      <td>overcast clouds</td>\n",
       "      <td>2012-10-02 11:00:00</td>\n",
       "      <td>4767</td>\n",
       "    </tr>\n",
       "    <tr>\n",
       "      <td>3</td>\n",
       "      <td>None</td>\n",
       "      <td>290.13</td>\n",
       "      <td>0.0</td>\n",
       "      <td>0.0</td>\n",
       "      <td>90</td>\n",
       "      <td>Clouds</td>\n",
       "      <td>overcast clouds</td>\n",
       "      <td>2012-10-02 12:00:00</td>\n",
       "      <td>5026</td>\n",
       "    </tr>\n",
       "    <tr>\n",
       "      <td>4</td>\n",
       "      <td>None</td>\n",
       "      <td>291.14</td>\n",
       "      <td>0.0</td>\n",
       "      <td>0.0</td>\n",
       "      <td>75</td>\n",
       "      <td>Clouds</td>\n",
       "      <td>broken clouds</td>\n",
       "      <td>2012-10-02 13:00:00</td>\n",
       "      <td>4918</td>\n",
       "    </tr>\n",
       "    <tr>\n",
       "      <td>...</td>\n",
       "      <td>...</td>\n",
       "      <td>...</td>\n",
       "      <td>...</td>\n",
       "      <td>...</td>\n",
       "      <td>...</td>\n",
       "      <td>...</td>\n",
       "      <td>...</td>\n",
       "      <td>...</td>\n",
       "      <td>...</td>\n",
       "    </tr>\n",
       "    <tr>\n",
       "      <td>48199</td>\n",
       "      <td>None</td>\n",
       "      <td>283.45</td>\n",
       "      <td>0.0</td>\n",
       "      <td>0.0</td>\n",
       "      <td>75</td>\n",
       "      <td>Clouds</td>\n",
       "      <td>broken clouds</td>\n",
       "      <td>2018-09-30 19:00:00</td>\n",
       "      <td>3543</td>\n",
       "    </tr>\n",
       "    <tr>\n",
       "      <td>48200</td>\n",
       "      <td>None</td>\n",
       "      <td>282.76</td>\n",
       "      <td>0.0</td>\n",
       "      <td>0.0</td>\n",
       "      <td>90</td>\n",
       "      <td>Clouds</td>\n",
       "      <td>overcast clouds</td>\n",
       "      <td>2018-09-30 20:00:00</td>\n",
       "      <td>2781</td>\n",
       "    </tr>\n",
       "    <tr>\n",
       "      <td>48201</td>\n",
       "      <td>None</td>\n",
       "      <td>282.73</td>\n",
       "      <td>0.0</td>\n",
       "      <td>0.0</td>\n",
       "      <td>90</td>\n",
       "      <td>Thunderstorm</td>\n",
       "      <td>proximity thunderstorm</td>\n",
       "      <td>2018-09-30 21:00:00</td>\n",
       "      <td>2159</td>\n",
       "    </tr>\n",
       "    <tr>\n",
       "      <td>48202</td>\n",
       "      <td>None</td>\n",
       "      <td>282.09</td>\n",
       "      <td>0.0</td>\n",
       "      <td>0.0</td>\n",
       "      <td>90</td>\n",
       "      <td>Clouds</td>\n",
       "      <td>overcast clouds</td>\n",
       "      <td>2018-09-30 22:00:00</td>\n",
       "      <td>1450</td>\n",
       "    </tr>\n",
       "    <tr>\n",
       "      <td>48203</td>\n",
       "      <td>None</td>\n",
       "      <td>282.12</td>\n",
       "      <td>0.0</td>\n",
       "      <td>0.0</td>\n",
       "      <td>90</td>\n",
       "      <td>Clouds</td>\n",
       "      <td>overcast clouds</td>\n",
       "      <td>2018-09-30 23:00:00</td>\n",
       "      <td>954</td>\n",
       "    </tr>\n",
       "  </tbody>\n",
       "</table>\n",
       "<p>48204 rows × 9 columns</p>\n",
       "</div>"
      ],
      "text/plain": [
       "      holiday    temp  rain_1h  snow_1h  clouds_all  weather_main  \\\n",
       "0        None  288.28      0.0      0.0          40        Clouds   \n",
       "1        None  289.36      0.0      0.0          75        Clouds   \n",
       "2        None  289.58      0.0      0.0          90        Clouds   \n",
       "3        None  290.13      0.0      0.0          90        Clouds   \n",
       "4        None  291.14      0.0      0.0          75        Clouds   \n",
       "...       ...     ...      ...      ...         ...           ...   \n",
       "48199    None  283.45      0.0      0.0          75        Clouds   \n",
       "48200    None  282.76      0.0      0.0          90        Clouds   \n",
       "48201    None  282.73      0.0      0.0          90  Thunderstorm   \n",
       "48202    None  282.09      0.0      0.0          90        Clouds   \n",
       "48203    None  282.12      0.0      0.0          90        Clouds   \n",
       "\n",
       "          weather_description            date_time  traffic_volume  \n",
       "0            scattered clouds  2012-10-02 09:00:00            5545  \n",
       "1               broken clouds  2012-10-02 10:00:00            4516  \n",
       "2             overcast clouds  2012-10-02 11:00:00            4767  \n",
       "3             overcast clouds  2012-10-02 12:00:00            5026  \n",
       "4               broken clouds  2012-10-02 13:00:00            4918  \n",
       "...                       ...                  ...             ...  \n",
       "48199           broken clouds  2018-09-30 19:00:00            3543  \n",
       "48200         overcast clouds  2018-09-30 20:00:00            2781  \n",
       "48201  proximity thunderstorm  2018-09-30 21:00:00            2159  \n",
       "48202         overcast clouds  2018-09-30 22:00:00            1450  \n",
       "48203         overcast clouds  2018-09-30 23:00:00             954  \n",
       "\n",
       "[48204 rows x 9 columns]"
      ]
     },
     "execution_count": 18,
     "metadata": {},
     "output_type": "execute_result"
    }
   ],
   "source": [
    "df_base = pd.read_csv('Metro_Interstate_Traffic_Volume.csv',delimiter=',') \n",
    "df_base"
   ]
  },
  {
   "cell_type": "code",
   "execution_count": 19,
   "metadata": {},
   "outputs": [
    {
     "name": "stdout",
     "output_type": "stream",
     "text": [
      "<class 'pandas.core.frame.DataFrame'>\n",
      "RangeIndex: 48204 entries, 0 to 48203\n",
      "Data columns (total 9 columns):\n",
      "holiday                48204 non-null object\n",
      "temp                   48204 non-null float64\n",
      "rain_1h                48204 non-null float64\n",
      "snow_1h                48204 non-null float64\n",
      "clouds_all             48204 non-null int64\n",
      "weather_main           48204 non-null object\n",
      "weather_description    48204 non-null object\n",
      "date_time              48204 non-null object\n",
      "traffic_volume         48204 non-null int64\n",
      "dtypes: float64(3), int64(2), object(4)\n",
      "memory usage: 3.3+ MB\n"
     ]
    }
   ],
   "source": [
    "df_base.info()"
   ]
  },
  {
   "cell_type": "markdown",
   "metadata": {},
   "source": [
    "A base de dados possui tanto dados numéricos como dados não numéricos."
   ]
  },
  {
   "cell_type": "markdown",
   "metadata": {},
   "source": [
    "# Verificando Base de Dados"
   ]
  },
  {
   "cell_type": "markdown",
   "metadata": {},
   "source": [
    "## Dados Faltosos"
   ]
  },
  {
   "cell_type": "code",
   "execution_count": 20,
   "metadata": {},
   "outputs": [
    {
     "data": {
      "text/plain": [
       "holiday                0\n",
       "temp                   0\n",
       "rain_1h                0\n",
       "snow_1h                0\n",
       "clouds_all             0\n",
       "weather_main           0\n",
       "weather_description    0\n",
       "date_time              0\n",
       "traffic_volume         0\n",
       "dtype: int64"
      ]
     },
     "execution_count": 20,
     "metadata": {},
     "output_type": "execute_result"
    }
   ],
   "source": [
    "df_base.isnull().sum()"
   ]
  },
  {
   "cell_type": "markdown",
   "metadata": {},
   "source": [
    "Não há nenhuma instância nula nos atributos."
   ]
  },
  {
   "cell_type": "markdown",
   "metadata": {},
   "source": [
    "## Dados Duplicados"
   ]
  },
  {
   "cell_type": "code",
   "execution_count": 21,
   "metadata": {},
   "outputs": [
    {
     "data": {
      "text/plain": [
       "0        False\n",
       "1        False\n",
       "2        False\n",
       "3        False\n",
       "4        False\n",
       "         ...  \n",
       "48199    False\n",
       "48200    False\n",
       "48201    False\n",
       "48202    False\n",
       "48203    False\n",
       "Length: 48204, dtype: bool"
      ]
     },
     "execution_count": 21,
     "metadata": {},
     "output_type": "execute_result"
    }
   ],
   "source": [
    "df_base.duplicated()"
   ]
  },
  {
   "cell_type": "markdown",
   "metadata": {},
   "source": [
    "Não há dados duplicados!\n"
   ]
  },
  {
   "cell_type": "markdown",
   "metadata": {},
   "source": [
    "## Dados Não Numéricos"
   ]
  },
  {
   "cell_type": "code",
   "execution_count": 22,
   "metadata": {},
   "outputs": [
    {
     "name": "stdout",
     "output_type": "stream",
     "text": [
      "Valores não numéricos presentes em 'holiday': ['None' 'Columbus Day' 'Veterans Day' 'Thanksgiving Day' 'Christmas Day'\n",
      " 'New Years Day' 'Washingtons Birthday' 'Memorial Day' 'Independence Day'\n",
      " 'State Fair' 'Labor Day' 'Martin Luther King Jr Day'] \n",
      "\n",
      "\n",
      "Valores não numéricos presentes em 'weather_main': ['Clouds' 'Clear' 'Rain' 'Drizzle' 'Mist' 'Haze' 'Fog' 'Thunderstorm'\n",
      " 'Snow' 'Squall' 'Smoke'] \n",
      "\n",
      "\n",
      "Valores não numéricos presentes em 'weather_description': ['scattered clouds' 'broken clouds' 'overcast clouds' 'sky is clear'\n",
      " 'few clouds' 'light rain' 'light intensity drizzle' 'mist' 'haze' 'fog'\n",
      " 'proximity shower rain' 'drizzle' 'moderate rain' 'heavy intensity rain'\n",
      " 'proximity thunderstorm' 'thunderstorm with light rain'\n",
      " 'proximity thunderstorm with rain' 'heavy snow' 'heavy intensity drizzle'\n",
      " 'snow' 'thunderstorm with heavy rain' 'freezing rain' 'shower snow'\n",
      " 'light rain and snow' 'light intensity shower rain' 'SQUALLS'\n",
      " 'thunderstorm with rain' 'proximity thunderstorm with drizzle'\n",
      " 'thunderstorm' 'Sky is Clear' 'very heavy rain'\n",
      " 'thunderstorm with light drizzle' 'light snow'\n",
      " 'thunderstorm with drizzle' 'smoke' 'shower drizzle' 'light shower snow'\n",
      " 'sleet'] \n",
      "\n",
      "\n"
     ]
    }
   ],
   "source": [
    "print(\"Valores não numéricos presentes em 'holiday':\",df_base['holiday'].unique(), \"\\n\\n\")\n",
    "print(\"Valores não numéricos presentes em 'weather_main':\",df_base['weather_main'].unique(), \"\\n\\n\")\n",
    "print(\"Valores não numéricos presentes em 'weather_description':\",df_base['weather_description'].unique(), \"\\n\\n\")"
   ]
  },
  {
   "cell_type": "markdown",
   "metadata": {},
   "source": [
    "## Separando o Date_Time"
   ]
  },
  {
   "cell_type": "code",
   "execution_count": 23,
   "metadata": {},
   "outputs": [
    {
     "data": {
      "text/html": [
       "<div>\n",
       "<style scoped>\n",
       "    .dataframe tbody tr th:only-of-type {\n",
       "        vertical-align: middle;\n",
       "    }\n",
       "\n",
       "    .dataframe tbody tr th {\n",
       "        vertical-align: top;\n",
       "    }\n",
       "\n",
       "    .dataframe thead th {\n",
       "        text-align: right;\n",
       "    }\n",
       "</style>\n",
       "<table border=\"1\" class=\"dataframe\">\n",
       "  <thead>\n",
       "    <tr style=\"text-align: right;\">\n",
       "      <th></th>\n",
       "      <th>holiday</th>\n",
       "      <th>temp</th>\n",
       "      <th>rain_1h</th>\n",
       "      <th>snow_1h</th>\n",
       "      <th>clouds_all</th>\n",
       "      <th>weather_main</th>\n",
       "      <th>weather_description</th>\n",
       "      <th>date_time</th>\n",
       "      <th>traffic_volume</th>\n",
       "      <th>year</th>\n",
       "      <th>month</th>\n",
       "      <th>day</th>\n",
       "      <th>hour</th>\n",
       "      <th>weekday</th>\n",
       "    </tr>\n",
       "  </thead>\n",
       "  <tbody>\n",
       "    <tr>\n",
       "      <td>0</td>\n",
       "      <td>None</td>\n",
       "      <td>288.28</td>\n",
       "      <td>0.0</td>\n",
       "      <td>0.0</td>\n",
       "      <td>40</td>\n",
       "      <td>Clouds</td>\n",
       "      <td>scattered clouds</td>\n",
       "      <td>2012-10-02 09:00:00</td>\n",
       "      <td>5545</td>\n",
       "      <td>2012</td>\n",
       "      <td>10</td>\n",
       "      <td>2</td>\n",
       "      <td>9</td>\n",
       "      <td>1</td>\n",
       "    </tr>\n",
       "    <tr>\n",
       "      <td>1</td>\n",
       "      <td>None</td>\n",
       "      <td>289.36</td>\n",
       "      <td>0.0</td>\n",
       "      <td>0.0</td>\n",
       "      <td>75</td>\n",
       "      <td>Clouds</td>\n",
       "      <td>broken clouds</td>\n",
       "      <td>2012-10-02 10:00:00</td>\n",
       "      <td>4516</td>\n",
       "      <td>2012</td>\n",
       "      <td>10</td>\n",
       "      <td>2</td>\n",
       "      <td>10</td>\n",
       "      <td>1</td>\n",
       "    </tr>\n",
       "    <tr>\n",
       "      <td>2</td>\n",
       "      <td>None</td>\n",
       "      <td>289.58</td>\n",
       "      <td>0.0</td>\n",
       "      <td>0.0</td>\n",
       "      <td>90</td>\n",
       "      <td>Clouds</td>\n",
       "      <td>overcast clouds</td>\n",
       "      <td>2012-10-02 11:00:00</td>\n",
       "      <td>4767</td>\n",
       "      <td>2012</td>\n",
       "      <td>10</td>\n",
       "      <td>2</td>\n",
       "      <td>11</td>\n",
       "      <td>1</td>\n",
       "    </tr>\n",
       "    <tr>\n",
       "      <td>3</td>\n",
       "      <td>None</td>\n",
       "      <td>290.13</td>\n",
       "      <td>0.0</td>\n",
       "      <td>0.0</td>\n",
       "      <td>90</td>\n",
       "      <td>Clouds</td>\n",
       "      <td>overcast clouds</td>\n",
       "      <td>2012-10-02 12:00:00</td>\n",
       "      <td>5026</td>\n",
       "      <td>2012</td>\n",
       "      <td>10</td>\n",
       "      <td>2</td>\n",
       "      <td>12</td>\n",
       "      <td>1</td>\n",
       "    </tr>\n",
       "    <tr>\n",
       "      <td>4</td>\n",
       "      <td>None</td>\n",
       "      <td>291.14</td>\n",
       "      <td>0.0</td>\n",
       "      <td>0.0</td>\n",
       "      <td>75</td>\n",
       "      <td>Clouds</td>\n",
       "      <td>broken clouds</td>\n",
       "      <td>2012-10-02 13:00:00</td>\n",
       "      <td>4918</td>\n",
       "      <td>2012</td>\n",
       "      <td>10</td>\n",
       "      <td>2</td>\n",
       "      <td>13</td>\n",
       "      <td>1</td>\n",
       "    </tr>\n",
       "    <tr>\n",
       "      <td>...</td>\n",
       "      <td>...</td>\n",
       "      <td>...</td>\n",
       "      <td>...</td>\n",
       "      <td>...</td>\n",
       "      <td>...</td>\n",
       "      <td>...</td>\n",
       "      <td>...</td>\n",
       "      <td>...</td>\n",
       "      <td>...</td>\n",
       "      <td>...</td>\n",
       "      <td>...</td>\n",
       "      <td>...</td>\n",
       "      <td>...</td>\n",
       "      <td>...</td>\n",
       "    </tr>\n",
       "    <tr>\n",
       "      <td>48199</td>\n",
       "      <td>None</td>\n",
       "      <td>283.45</td>\n",
       "      <td>0.0</td>\n",
       "      <td>0.0</td>\n",
       "      <td>75</td>\n",
       "      <td>Clouds</td>\n",
       "      <td>broken clouds</td>\n",
       "      <td>2018-09-30 19:00:00</td>\n",
       "      <td>3543</td>\n",
       "      <td>2018</td>\n",
       "      <td>9</td>\n",
       "      <td>30</td>\n",
       "      <td>19</td>\n",
       "      <td>6</td>\n",
       "    </tr>\n",
       "    <tr>\n",
       "      <td>48200</td>\n",
       "      <td>None</td>\n",
       "      <td>282.76</td>\n",
       "      <td>0.0</td>\n",
       "      <td>0.0</td>\n",
       "      <td>90</td>\n",
       "      <td>Clouds</td>\n",
       "      <td>overcast clouds</td>\n",
       "      <td>2018-09-30 20:00:00</td>\n",
       "      <td>2781</td>\n",
       "      <td>2018</td>\n",
       "      <td>9</td>\n",
       "      <td>30</td>\n",
       "      <td>20</td>\n",
       "      <td>6</td>\n",
       "    </tr>\n",
       "    <tr>\n",
       "      <td>48201</td>\n",
       "      <td>None</td>\n",
       "      <td>282.73</td>\n",
       "      <td>0.0</td>\n",
       "      <td>0.0</td>\n",
       "      <td>90</td>\n",
       "      <td>Thunderstorm</td>\n",
       "      <td>proximity thunderstorm</td>\n",
       "      <td>2018-09-30 21:00:00</td>\n",
       "      <td>2159</td>\n",
       "      <td>2018</td>\n",
       "      <td>9</td>\n",
       "      <td>30</td>\n",
       "      <td>21</td>\n",
       "      <td>6</td>\n",
       "    </tr>\n",
       "    <tr>\n",
       "      <td>48202</td>\n",
       "      <td>None</td>\n",
       "      <td>282.09</td>\n",
       "      <td>0.0</td>\n",
       "      <td>0.0</td>\n",
       "      <td>90</td>\n",
       "      <td>Clouds</td>\n",
       "      <td>overcast clouds</td>\n",
       "      <td>2018-09-30 22:00:00</td>\n",
       "      <td>1450</td>\n",
       "      <td>2018</td>\n",
       "      <td>9</td>\n",
       "      <td>30</td>\n",
       "      <td>22</td>\n",
       "      <td>6</td>\n",
       "    </tr>\n",
       "    <tr>\n",
       "      <td>48203</td>\n",
       "      <td>None</td>\n",
       "      <td>282.12</td>\n",
       "      <td>0.0</td>\n",
       "      <td>0.0</td>\n",
       "      <td>90</td>\n",
       "      <td>Clouds</td>\n",
       "      <td>overcast clouds</td>\n",
       "      <td>2018-09-30 23:00:00</td>\n",
       "      <td>954</td>\n",
       "      <td>2018</td>\n",
       "      <td>9</td>\n",
       "      <td>30</td>\n",
       "      <td>23</td>\n",
       "      <td>6</td>\n",
       "    </tr>\n",
       "  </tbody>\n",
       "</table>\n",
       "<p>48204 rows × 14 columns</p>\n",
       "</div>"
      ],
      "text/plain": [
       "      holiday    temp  rain_1h  snow_1h  clouds_all  weather_main  \\\n",
       "0        None  288.28      0.0      0.0          40        Clouds   \n",
       "1        None  289.36      0.0      0.0          75        Clouds   \n",
       "2        None  289.58      0.0      0.0          90        Clouds   \n",
       "3        None  290.13      0.0      0.0          90        Clouds   \n",
       "4        None  291.14      0.0      0.0          75        Clouds   \n",
       "...       ...     ...      ...      ...         ...           ...   \n",
       "48199    None  283.45      0.0      0.0          75        Clouds   \n",
       "48200    None  282.76      0.0      0.0          90        Clouds   \n",
       "48201    None  282.73      0.0      0.0          90  Thunderstorm   \n",
       "48202    None  282.09      0.0      0.0          90        Clouds   \n",
       "48203    None  282.12      0.0      0.0          90        Clouds   \n",
       "\n",
       "          weather_description           date_time  traffic_volume  year  \\\n",
       "0            scattered clouds 2012-10-02 09:00:00            5545  2012   \n",
       "1               broken clouds 2012-10-02 10:00:00            4516  2012   \n",
       "2             overcast clouds 2012-10-02 11:00:00            4767  2012   \n",
       "3             overcast clouds 2012-10-02 12:00:00            5026  2012   \n",
       "4               broken clouds 2012-10-02 13:00:00            4918  2012   \n",
       "...                       ...                 ...             ...   ...   \n",
       "48199           broken clouds 2018-09-30 19:00:00            3543  2018   \n",
       "48200         overcast clouds 2018-09-30 20:00:00            2781  2018   \n",
       "48201  proximity thunderstorm 2018-09-30 21:00:00            2159  2018   \n",
       "48202         overcast clouds 2018-09-30 22:00:00            1450  2018   \n",
       "48203         overcast clouds 2018-09-30 23:00:00             954  2018   \n",
       "\n",
       "       month  day  hour  weekday  \n",
       "0         10    2     9        1  \n",
       "1         10    2    10        1  \n",
       "2         10    2    11        1  \n",
       "3         10    2    12        1  \n",
       "4         10    2    13        1  \n",
       "...      ...  ...   ...      ...  \n",
       "48199      9   30    19        6  \n",
       "48200      9   30    20        6  \n",
       "48201      9   30    21        6  \n",
       "48202      9   30    22        6  \n",
       "48203      9   30    23        6  \n",
       "\n",
       "[48204 rows x 14 columns]"
      ]
     },
     "execution_count": 23,
     "metadata": {},
     "output_type": "execute_result"
    }
   ],
   "source": [
    "df_base['date_time'] = pd.to_datetime(df_base['date_time'])\n",
    "df_base['year'] = df_base['date_time'].dt.year\n",
    "df_base['month'] = df_base['date_time'].dt.month\n",
    "df_base['day'] = df_base['date_time'].dt.day\n",
    "df_base['hour'] = df_base['date_time'].dt.hour\n",
    "df_base['weekday'] = df_base['date_time'].dt.weekday\n",
    "df_base\n"
   ]
  },
  {
   "cell_type": "markdown",
   "metadata": {},
   "source": [
    "O **date_time** foi expandido em 5 atributos (ano, mês, dia, hora e dia da semana). ISso foi feito para que se possa avaliar, da mehor forma, como a data influencia no volume de tráfego.\n",
    "\n",
    "Sendo assim, não se faz mais necessário manter o atributo **date_time** na base de dados. "
   ]
  },
  {
   "cell_type": "code",
   "execution_count": 24,
   "metadata": {},
   "outputs": [
    {
     "data": {
      "text/html": [
       "<div>\n",
       "<style scoped>\n",
       "    .dataframe tbody tr th:only-of-type {\n",
       "        vertical-align: middle;\n",
       "    }\n",
       "\n",
       "    .dataframe tbody tr th {\n",
       "        vertical-align: top;\n",
       "    }\n",
       "\n",
       "    .dataframe thead th {\n",
       "        text-align: right;\n",
       "    }\n",
       "</style>\n",
       "<table border=\"1\" class=\"dataframe\">\n",
       "  <thead>\n",
       "    <tr style=\"text-align: right;\">\n",
       "      <th></th>\n",
       "      <th>holiday</th>\n",
       "      <th>temp</th>\n",
       "      <th>rain_1h</th>\n",
       "      <th>snow_1h</th>\n",
       "      <th>clouds_all</th>\n",
       "      <th>weather_main</th>\n",
       "      <th>weather_description</th>\n",
       "      <th>traffic_volume</th>\n",
       "      <th>year</th>\n",
       "      <th>month</th>\n",
       "      <th>day</th>\n",
       "      <th>hour</th>\n",
       "      <th>weekday</th>\n",
       "    </tr>\n",
       "  </thead>\n",
       "  <tbody>\n",
       "    <tr>\n",
       "      <td>0</td>\n",
       "      <td>None</td>\n",
       "      <td>288.28</td>\n",
       "      <td>0.0</td>\n",
       "      <td>0.0</td>\n",
       "      <td>40</td>\n",
       "      <td>Clouds</td>\n",
       "      <td>scattered clouds</td>\n",
       "      <td>5545</td>\n",
       "      <td>2012</td>\n",
       "      <td>10</td>\n",
       "      <td>2</td>\n",
       "      <td>9</td>\n",
       "      <td>1</td>\n",
       "    </tr>\n",
       "    <tr>\n",
       "      <td>1</td>\n",
       "      <td>None</td>\n",
       "      <td>289.36</td>\n",
       "      <td>0.0</td>\n",
       "      <td>0.0</td>\n",
       "      <td>75</td>\n",
       "      <td>Clouds</td>\n",
       "      <td>broken clouds</td>\n",
       "      <td>4516</td>\n",
       "      <td>2012</td>\n",
       "      <td>10</td>\n",
       "      <td>2</td>\n",
       "      <td>10</td>\n",
       "      <td>1</td>\n",
       "    </tr>\n",
       "    <tr>\n",
       "      <td>2</td>\n",
       "      <td>None</td>\n",
       "      <td>289.58</td>\n",
       "      <td>0.0</td>\n",
       "      <td>0.0</td>\n",
       "      <td>90</td>\n",
       "      <td>Clouds</td>\n",
       "      <td>overcast clouds</td>\n",
       "      <td>4767</td>\n",
       "      <td>2012</td>\n",
       "      <td>10</td>\n",
       "      <td>2</td>\n",
       "      <td>11</td>\n",
       "      <td>1</td>\n",
       "    </tr>\n",
       "    <tr>\n",
       "      <td>3</td>\n",
       "      <td>None</td>\n",
       "      <td>290.13</td>\n",
       "      <td>0.0</td>\n",
       "      <td>0.0</td>\n",
       "      <td>90</td>\n",
       "      <td>Clouds</td>\n",
       "      <td>overcast clouds</td>\n",
       "      <td>5026</td>\n",
       "      <td>2012</td>\n",
       "      <td>10</td>\n",
       "      <td>2</td>\n",
       "      <td>12</td>\n",
       "      <td>1</td>\n",
       "    </tr>\n",
       "    <tr>\n",
       "      <td>4</td>\n",
       "      <td>None</td>\n",
       "      <td>291.14</td>\n",
       "      <td>0.0</td>\n",
       "      <td>0.0</td>\n",
       "      <td>75</td>\n",
       "      <td>Clouds</td>\n",
       "      <td>broken clouds</td>\n",
       "      <td>4918</td>\n",
       "      <td>2012</td>\n",
       "      <td>10</td>\n",
       "      <td>2</td>\n",
       "      <td>13</td>\n",
       "      <td>1</td>\n",
       "    </tr>\n",
       "  </tbody>\n",
       "</table>\n",
       "</div>"
      ],
      "text/plain": [
       "  holiday    temp  rain_1h  snow_1h  clouds_all weather_main  \\\n",
       "0    None  288.28      0.0      0.0          40       Clouds   \n",
       "1    None  289.36      0.0      0.0          75       Clouds   \n",
       "2    None  289.58      0.0      0.0          90       Clouds   \n",
       "3    None  290.13      0.0      0.0          90       Clouds   \n",
       "4    None  291.14      0.0      0.0          75       Clouds   \n",
       "\n",
       "  weather_description  traffic_volume  year  month  day  hour  weekday  \n",
       "0    scattered clouds            5545  2012     10    2     9        1  \n",
       "1       broken clouds            4516  2012     10    2    10        1  \n",
       "2     overcast clouds            4767  2012     10    2    11        1  \n",
       "3     overcast clouds            5026  2012     10    2    12        1  \n",
       "4       broken clouds            4918  2012     10    2    13        1  "
      ]
     },
     "execution_count": 24,
     "metadata": {},
     "output_type": "execute_result"
    }
   ],
   "source": [
    "df_base = df_base.drop(columns=['date_time'])\n",
    "df_base.head()"
   ]
  },
  {
   "cell_type": "markdown",
   "metadata": {},
   "source": [
    "## Histograma dos Dados Não Numéricos"
   ]
  },
  {
   "cell_type": "markdown",
   "metadata": {},
   "source": [
    "### Holiday"
   ]
  },
  {
   "cell_type": "code",
   "execution_count": 25,
   "metadata": {},
   "outputs": [
    {
     "name": "stdout",
     "output_type": "stream",
     "text": [
      "None                         48143\n",
      "Labor Day                        7\n",
      "New Years Day                    6\n",
      "Thanksgiving Day                 6\n",
      "Martin Luther King Jr Day        6\n",
      "Christmas Day                    6\n",
      "Columbus Day                     5\n",
      "Veterans Day                     5\n",
      "Memorial Day                     5\n",
      "Independence Day                 5\n",
      "State Fair                       5\n",
      "Washingtons Birthday             5\n",
      "Name: holiday, dtype: int64\n"
     ]
    },
    {
     "data": {
      "image/png": "[encoded data removed]",
      "text/plain": [
       "<Figure size 432x288 with 1 Axes>"
      ]
     },
     "metadata": {
      "needs_background": "light"
     },
     "output_type": "display_data"
    }
   ],
   "source": [
    "sns.countplot(df_base['holiday'])\n",
    "qtde = df_base['holiday'].value_counts()\n",
    "print(qtde)"
   ]
  },
  {
   "cell_type": "markdown",
   "metadata": {},
   "source": [
    "Esse atributo se mostrar bastante desbalanceado. Sendo assim, ele será removida da base de dados. \n",
    "O desbalanceamento já era esperado, pois não acontece muitos feriados em um ano. "
   ]
  },
  {
   "cell_type": "code",
   "execution_count": 26,
   "metadata": {},
   "outputs": [
    {
     "data": {
      "text/html": [
       "<div>\n",
       "<style scoped>\n",
       "    .dataframe tbody tr th:only-of-type {\n",
       "        vertical-align: middle;\n",
       "    }\n",
       "\n",
       "    .dataframe tbody tr th {\n",
       "        vertical-align: top;\n",
       "    }\n",
       "\n",
       "    .dataframe thead th {\n",
       "        text-align: right;\n",
       "    }\n",
       "</style>\n",
       "<table border=\"1\" class=\"dataframe\">\n",
       "  <thead>\n",
       "    <tr style=\"text-align: right;\">\n",
       "      <th></th>\n",
       "      <th>temp</th>\n",
       "      <th>rain_1h</th>\n",
       "      <th>snow_1h</th>\n",
       "      <th>clouds_all</th>\n",
       "      <th>weather_main</th>\n",
       "      <th>weather_description</th>\n",
       "      <th>traffic_volume</th>\n",
       "      <th>year</th>\n",
       "      <th>month</th>\n",
       "      <th>day</th>\n",
       "      <th>hour</th>\n",
       "      <th>weekday</th>\n",
       "    </tr>\n",
       "  </thead>\n",
       "  <tbody>\n",
       "    <tr>\n",
       "      <td>0</td>\n",
       "      <td>288.28</td>\n",
       "      <td>0.0</td>\n",
       "      <td>0.0</td>\n",
       "      <td>40</td>\n",
       "      <td>Clouds</td>\n",
       "      <td>scattered clouds</td>\n",
       "      <td>5545</td>\n",
       "      <td>2012</td>\n",
       "      <td>10</td>\n",
       "      <td>2</td>\n",
       "      <td>9</td>\n",
       "      <td>1</td>\n",
       "    </tr>\n",
       "    <tr>\n",
       "      <td>1</td>\n",
       "      <td>289.36</td>\n",
       "      <td>0.0</td>\n",
       "      <td>0.0</td>\n",
       "      <td>75</td>\n",
       "      <td>Clouds</td>\n",
       "      <td>broken clouds</td>\n",
       "      <td>4516</td>\n",
       "      <td>2012</td>\n",
       "      <td>10</td>\n",
       "      <td>2</td>\n",
       "      <td>10</td>\n",
       "      <td>1</td>\n",
       "    </tr>\n",
       "    <tr>\n",
       "      <td>2</td>\n",
       "      <td>289.58</td>\n",
       "      <td>0.0</td>\n",
       "      <td>0.0</td>\n",
       "      <td>90</td>\n",
       "      <td>Clouds</td>\n",
       "      <td>overcast clouds</td>\n",
       "      <td>4767</td>\n",
       "      <td>2012</td>\n",
       "      <td>10</td>\n",
       "      <td>2</td>\n",
       "      <td>11</td>\n",
       "      <td>1</td>\n",
       "    </tr>\n",
       "    <tr>\n",
       "      <td>3</td>\n",
       "      <td>290.13</td>\n",
       "      <td>0.0</td>\n",
       "      <td>0.0</td>\n",
       "      <td>90</td>\n",
       "      <td>Clouds</td>\n",
       "      <td>overcast clouds</td>\n",
       "      <td>5026</td>\n",
       "      <td>2012</td>\n",
       "      <td>10</td>\n",
       "      <td>2</td>\n",
       "      <td>12</td>\n",
       "      <td>1</td>\n",
       "    </tr>\n",
       "    <tr>\n",
       "      <td>4</td>\n",
       "      <td>291.14</td>\n",
       "      <td>0.0</td>\n",
       "      <td>0.0</td>\n",
       "      <td>75</td>\n",
       "      <td>Clouds</td>\n",
       "      <td>broken clouds</td>\n",
       "      <td>4918</td>\n",
       "      <td>2012</td>\n",
       "      <td>10</td>\n",
       "      <td>2</td>\n",
       "      <td>13</td>\n",
       "      <td>1</td>\n",
       "    </tr>\n",
       "  </tbody>\n",
       "</table>\n",
       "</div>"
      ],
      "text/plain": [
       "     temp  rain_1h  snow_1h  clouds_all weather_main weather_description  \\\n",
       "0  288.28      0.0      0.0          40       Clouds    scattered clouds   \n",
       "1  289.36      0.0      0.0          75       Clouds       broken clouds   \n",
       "2  289.58      0.0      0.0          90       Clouds     overcast clouds   \n",
       "3  290.13      0.0      0.0          90       Clouds     overcast clouds   \n",
       "4  291.14      0.0      0.0          75       Clouds       broken clouds   \n",
       "\n",
       "   traffic_volume  year  month  day  hour  weekday  \n",
       "0            5545  2012     10    2     9        1  \n",
       "1            4516  2012     10    2    10        1  \n",
       "2            4767  2012     10    2    11        1  \n",
       "3            5026  2012     10    2    12        1  \n",
       "4            4918  2012     10    2    13        1  "
      ]
     },
     "execution_count": 26,
     "metadata": {},
     "output_type": "execute_result"
    }
   ],
   "source": [
    "df_base = df_base.drop(columns=['holiday'])\n",
    "df_base.head()"
   ]
  },
  {
   "cell_type": "markdown",
   "metadata": {},
   "source": [
    "### Weather_main e Weather_description"
   ]
  },
  {
   "cell_type": "code",
   "execution_count": 27,
   "metadata": {},
   "outputs": [
    {
     "name": "stdout",
     "output_type": "stream",
     "text": [
      "Clouds          15164\n",
      "Clear           13391\n",
      "Mist             5950\n",
      "Rain             5672\n",
      "Snow             2876\n",
      "Drizzle          1821\n",
      "Haze             1360\n",
      "Thunderstorm     1034\n",
      "Fog               912\n",
      "Smoke              20\n",
      "Squall              4\n",
      "Name: weather_main, dtype: int64\n"
     ]
    },
    {
     "data": {
      "image/png": "[encoded data removed]",
      "text/plain": [
       "<Figure size 432x288 with 1 Axes>"
      ]
     },
     "metadata": {
      "needs_background": "light"
     },
     "output_type": "display_data"
    }
   ],
   "source": [
    "sns.countplot(df_base['weather_main'])\n",
    "qtde = df_base['weather_main'].value_counts()\n",
    "print(qtde)"
   ]
  },
  {
   "cell_type": "code",
   "execution_count": 19,
   "metadata": {},
   "outputs": [
    {
     "name": "stdout",
     "output_type": "stream",
     "text": [
      "sky is clear                           11665\n",
      "mist                                    5950\n",
      "overcast clouds                         5081\n",
      "broken clouds                           4666\n",
      "scattered clouds                        3461\n",
      "light rain                              3372\n",
      "few clouds                              1956\n",
      "light snow                              1946\n",
      "Sky is Clear                            1726\n",
      "moderate rain                           1664\n",
      "haze                                    1360\n",
      "light intensity drizzle                 1100\n",
      "fog                                      912\n",
      "proximity thunderstorm                   673\n",
      "drizzle                                  651\n",
      "heavy snow                               616\n",
      "heavy intensity rain                     467\n",
      "snow                                     293\n",
      "proximity shower rain                    136\n",
      "thunderstorm                             125\n",
      "heavy intensity drizzle                   64\n",
      "thunderstorm with heavy rain              63\n",
      "thunderstorm with light rain              54\n",
      "proximity thunderstorm with rain          52\n",
      "thunderstorm with rain                    37\n",
      "smoke                                     20\n",
      "very heavy rain                           18\n",
      "thunderstorm with light drizzle           15\n",
      "proximity thunderstorm with drizzle       13\n",
      "light intensity shower rain               13\n",
      "light shower snow                         11\n",
      "shower drizzle                             6\n",
      "light rain and snow                        6\n",
      "SQUALLS                                    4\n",
      "sleet                                      3\n",
      "freezing rain                              2\n",
      "thunderstorm with drizzle                  2\n",
      "shower snow                                1\n",
      "Name: weather_description, dtype: int64\n"
     ]
    },
    {
     "data": {
      "image/png": "[encoded data removed]",
      "text/plain": [
       "<Figure size 432x288 with 1 Axes>"
      ]
     },
     "metadata": {
      "needs_background": "light"
     },
     "output_type": "display_data"
    }
   ],
   "source": [
    "sns.countplot(df_base['weather_description'])\n",
    "qtde = df_base['weather_description'].value_counts()\n",
    "print(qtde)"
   ]
  },
  {
   "cell_type": "markdown",
   "metadata": {},
   "source": [
    "É possível percebe que tanto o **weather_main*** quanto o **weather_description** são atributos desbalanceados, principalemnte este último. Foi percebido, que esses dois atributos estão ligados entre si. Cada _description_ está ligado a um weather. "
   ]
  },
  {
   "cell_type": "code",
   "execution_count": 28,
   "metadata": {},
   "outputs": [
    {
     "name": "stdout",
     "output_type": "stream",
     "text": [
      "Descricoes para  Clouds : ['scattered clouds' 'broken clouds' 'overcast clouds' 'few clouds']\n",
      "Descricoes para  Clear : ['sky is clear' 'Sky is Clear']\n",
      "Descricoes para  Rain : ['light rain' 'proximity shower rain' 'moderate rain'\n",
      " 'heavy intensity rain' 'freezing rain' 'light intensity shower rain'\n",
      " 'very heavy rain']\n",
      "Descricoes para  Drizzle : ['light intensity drizzle' 'drizzle' 'heavy intensity drizzle'\n",
      " 'shower drizzle']\n",
      "Descricoes para  Mist : ['mist']\n",
      "Descricoes para  Haze : ['haze']\n",
      "Descricoes para  Fog : ['fog']\n",
      "Descricoes para  Thunderstorm : ['proximity thunderstorm' 'thunderstorm with light rain'\n",
      " 'proximity thunderstorm with rain' 'thunderstorm with heavy rain'\n",
      " 'thunderstorm with rain' 'proximity thunderstorm with drizzle'\n",
      " 'thunderstorm' 'thunderstorm with light drizzle'\n",
      " 'thunderstorm with drizzle']\n",
      "Descricoes para  Snow : ['heavy snow' 'snow' 'shower snow' 'light rain and snow' 'light snow'\n",
      " 'light shower snow' 'sleet']\n",
      "Descricoes para  Squall : ['SQUALLS']\n",
      "Descricoes para  Smoke : ['smoke']\n"
     ]
    }
   ],
   "source": [
    "for weather in df_base['weather_main'].unique():\n",
    "    loc = df_base.loc[df_base['weather_main']== weather]\n",
    "    print(\"Descricoes para \", weather, \":\", loc['weather_description'].unique())\n",
    "    \n",
    "#loc https://medium.com/horadecodar/data-science-tips-02-como-usar-loc-e-iloc-no-pandas-fab58e214d87"
   ]
  },
  {
   "cell_type": "markdown",
   "metadata": {},
   "source": [
    "Sendo assim, esses dois atributos(**weater_main e weather_description**) serão retirados  da base de dados. "
   ]
  },
  {
   "cell_type": "code",
   "execution_count": 29,
   "metadata": {},
   "outputs": [
    {
     "data": {
      "text/html": [
       "<div>\n",
       "<style scoped>\n",
       "    .dataframe tbody tr th:only-of-type {\n",
       "        vertical-align: middle;\n",
       "    }\n",
       "\n",
       "    .dataframe tbody tr th {\n",
       "        vertical-align: top;\n",
       "    }\n",
       "\n",
       "    .dataframe thead th {\n",
       "        text-align: right;\n",
       "    }\n",
       "</style>\n",
       "<table border=\"1\" class=\"dataframe\">\n",
       "  <thead>\n",
       "    <tr style=\"text-align: right;\">\n",
       "      <th></th>\n",
       "      <th>temp</th>\n",
       "      <th>rain_1h</th>\n",
       "      <th>snow_1h</th>\n",
       "      <th>clouds_all</th>\n",
       "      <th>traffic_volume</th>\n",
       "      <th>year</th>\n",
       "      <th>month</th>\n",
       "      <th>day</th>\n",
       "      <th>hour</th>\n",
       "      <th>weekday</th>\n",
       "    </tr>\n",
       "  </thead>\n",
       "  <tbody>\n",
       "    <tr>\n",
       "      <td>0</td>\n",
       "      <td>288.28</td>\n",
       "      <td>0.0</td>\n",
       "      <td>0.0</td>\n",
       "      <td>40</td>\n",
       "      <td>5545</td>\n",
       "      <td>2012</td>\n",
       "      <td>10</td>\n",
       "      <td>2</td>\n",
       "      <td>9</td>\n",
       "      <td>1</td>\n",
       "    </tr>\n",
       "    <tr>\n",
       "      <td>1</td>\n",
       "      <td>289.36</td>\n",
       "      <td>0.0</td>\n",
       "      <td>0.0</td>\n",
       "      <td>75</td>\n",
       "      <td>4516</td>\n",
       "      <td>2012</td>\n",
       "      <td>10</td>\n",
       "      <td>2</td>\n",
       "      <td>10</td>\n",
       "      <td>1</td>\n",
       "    </tr>\n",
       "    <tr>\n",
       "      <td>2</td>\n",
       "      <td>289.58</td>\n",
       "      <td>0.0</td>\n",
       "      <td>0.0</td>\n",
       "      <td>90</td>\n",
       "      <td>4767</td>\n",
       "      <td>2012</td>\n",
       "      <td>10</td>\n",
       "      <td>2</td>\n",
       "      <td>11</td>\n",
       "      <td>1</td>\n",
       "    </tr>\n",
       "    <tr>\n",
       "      <td>3</td>\n",
       "      <td>290.13</td>\n",
       "      <td>0.0</td>\n",
       "      <td>0.0</td>\n",
       "      <td>90</td>\n",
       "      <td>5026</td>\n",
       "      <td>2012</td>\n",
       "      <td>10</td>\n",
       "      <td>2</td>\n",
       "      <td>12</td>\n",
       "      <td>1</td>\n",
       "    </tr>\n",
       "    <tr>\n",
       "      <td>4</td>\n",
       "      <td>291.14</td>\n",
       "      <td>0.0</td>\n",
       "      <td>0.0</td>\n",
       "      <td>75</td>\n",
       "      <td>4918</td>\n",
       "      <td>2012</td>\n",
       "      <td>10</td>\n",
       "      <td>2</td>\n",
       "      <td>13</td>\n",
       "      <td>1</td>\n",
       "    </tr>\n",
       "  </tbody>\n",
       "</table>\n",
       "</div>"
      ],
      "text/plain": [
       "     temp  rain_1h  snow_1h  clouds_all  traffic_volume  year  month  day  \\\n",
       "0  288.28      0.0      0.0          40            5545  2012     10    2   \n",
       "1  289.36      0.0      0.0          75            4516  2012     10    2   \n",
       "2  289.58      0.0      0.0          90            4767  2012     10    2   \n",
       "3  290.13      0.0      0.0          90            5026  2012     10    2   \n",
       "4  291.14      0.0      0.0          75            4918  2012     10    2   \n",
       "\n",
       "   hour  weekday  \n",
       "0     9        1  \n",
       "1    10        1  \n",
       "2    11        1  \n",
       "3    12        1  \n",
       "4    13        1  "
      ]
     },
     "execution_count": 29,
     "metadata": {},
     "output_type": "execute_result"
    }
   ],
   "source": [
    "df_base = df_base.drop(columns=['weather_main'])\n",
    "df_base = df_base.drop(columns=['weather_description'])\n",
    "df_base.head()"
   ]
  },
  {
   "cell_type": "markdown",
   "metadata": {},
   "source": [
    "# Correlação"
   ]
  },
  {
   "cell_type": "code",
   "execution_count": 30,
   "metadata": {},
   "outputs": [
    {
     "data": {
      "text/plain": [
       "<matplotlib.axes._subplots.AxesSubplot at 0x7fc9af65c650>"
      ]
     },
     "execution_count": 30,
     "metadata": {},
     "output_type": "execute_result"
    },
    {
     "data": {
      "image/png": "[encoded data removed]",
      "text/plain": [
       "<Figure size 1080x216 with 1 Axes>"
      ]
     },
     "metadata": {
      "needs_background": "light"
     },
     "output_type": "display_data"
    }
   ],
   "source": [
    "df_base.corr().abs()[\"traffic_volume\"].sort_values().plot.bar(figsize=[15, 3])"
   ]
  },
  {
   "cell_type": "markdown",
   "metadata": {},
   "source": [
    "Diante do gráfico de correlação, pode-se perceber que os atributos que mais possuem impacto relevante no **traffic_volume**, são: **hour**, **weekday**, **temp** e **clouds_all**"
   ]
  },
  {
   "cell_type": "code",
   "execution_count": 31,
   "metadata": {},
   "outputs": [
    {
     "data": {
      "text/html": [
       "<style  type=\"text/css\" >\n",
       "    #T_dc6afa2c_56cc_11ea_b137_ffb6ef82ec73row0_col0 {\n",
       "            background-color:  #b40426;\n",
       "            color:  #f1f1f1;\n",
       "        }    #T_dc6afa2c_56cc_11ea_b137_ffb6ef82ec73row0_col1 {\n",
       "            background-color:  #3f53c6;\n",
       "            color:  #f1f1f1;\n",
       "        }    #T_dc6afa2c_56cc_11ea_b137_ffb6ef82ec73row0_col2 {\n",
       "            background-color:  #3b4cc0;\n",
       "            color:  #f1f1f1;\n",
       "        }    #T_dc6afa2c_56cc_11ea_b137_ffb6ef82ec73row0_col3 {\n",
       "            background-color:  #3b4cc0;\n",
       "            color:  #f1f1f1;\n",
       "        }    #T_dc6afa2c_56cc_11ea_b137_ffb6ef82ec73row0_col4 {\n",
       "            background-color:  #8badfd;\n",
       "            color:  #000000;\n",
       "        }    #T_dc6afa2c_56cc_11ea_b137_ffb6ef82ec73row0_col5 {\n",
       "            background-color:  #8db0fe;\n",
       "            color:  #000000;\n",
       "        }    #T_dc6afa2c_56cc_11ea_b137_ffb6ef82ec73row0_col6 {\n",
       "            background-color:  #a9c6fd;\n",
       "            color:  #000000;\n",
       "        }    #T_dc6afa2c_56cc_11ea_b137_ffb6ef82ec73row0_col7 {\n",
       "            background-color:  #445acc;\n",
       "            color:  #f1f1f1;\n",
       "        }    #T_dc6afa2c_56cc_11ea_b137_ffb6ef82ec73row0_col8 {\n",
       "            background-color:  #5f7fe8;\n",
       "            color:  #000000;\n",
       "        }    #T_dc6afa2c_56cc_11ea_b137_ffb6ef82ec73row0_col9 {\n",
       "            background-color:  #6180e9;\n",
       "            color:  #000000;\n",
       "        }    #T_dc6afa2c_56cc_11ea_b137_ffb6ef82ec73row1_col0 {\n",
       "            background-color:  #5977e3;\n",
       "            color:  #000000;\n",
       "        }    #T_dc6afa2c_56cc_11ea_b137_ffb6ef82ec73row1_col1 {\n",
       "            background-color:  #b40426;\n",
       "            color:  #f1f1f1;\n",
       "        }    #T_dc6afa2c_56cc_11ea_b137_ffb6ef82ec73row1_col2 {\n",
       "            background-color:  #3f53c6;\n",
       "            color:  #f1f1f1;\n",
       "        }    #T_dc6afa2c_56cc_11ea_b137_ffb6ef82ec73row1_col3 {\n",
       "            background-color:  #5875e1;\n",
       "            color:  #000000;\n",
       "        }    #T_dc6afa2c_56cc_11ea_b137_ffb6ef82ec73row1_col4 {\n",
       "            background-color:  #6485ec;\n",
       "            color:  #000000;\n",
       "        }    #T_dc6afa2c_56cc_11ea_b137_ffb6ef82ec73row1_col5 {\n",
       "            background-color:  #6687ed;\n",
       "            color:  #000000;\n",
       "        }    #T_dc6afa2c_56cc_11ea_b137_ffb6ef82ec73row1_col6 {\n",
       "            background-color:  #6687ed;\n",
       "            color:  #000000;\n",
       "        }    #T_dc6afa2c_56cc_11ea_b137_ffb6ef82ec73row1_col7 {\n",
       "            background-color:  #3c4ec2;\n",
       "            color:  #f1f1f1;\n",
       "        }    #T_dc6afa2c_56cc_11ea_b137_ffb6ef82ec73row1_col8 {\n",
       "            background-color:  #3e51c5;\n",
       "            color:  #f1f1f1;\n",
       "        }    #T_dc6afa2c_56cc_11ea_b137_ffb6ef82ec73row1_col9 {\n",
       "            background-color:  #6180e9;\n",
       "            color:  #000000;\n",
       "        }    #T_dc6afa2c_56cc_11ea_b137_ffb6ef82ec73row2_col0 {\n",
       "            background-color:  #516ddb;\n",
       "            color:  #000000;\n",
       "        }    #T_dc6afa2c_56cc_11ea_b137_ffb6ef82ec73row2_col1 {\n",
       "            background-color:  #3c4ec2;\n",
       "            color:  #f1f1f1;\n",
       "        }    #T_dc6afa2c_56cc_11ea_b137_ffb6ef82ec73row2_col2 {\n",
       "            background-color:  #b40426;\n",
       "            color:  #f1f1f1;\n",
       "        }    #T_dc6afa2c_56cc_11ea_b137_ffb6ef82ec73row2_col3 {\n",
       "            background-color:  #5f7fe8;\n",
       "            color:  #000000;\n",
       "        }    #T_dc6afa2c_56cc_11ea_b137_ffb6ef82ec73row2_col4 {\n",
       "            background-color:  #6384eb;\n",
       "            color:  #000000;\n",
       "        }    #T_dc6afa2c_56cc_11ea_b137_ffb6ef82ec73row2_col5 {\n",
       "            background-color:  #6485ec;\n",
       "            color:  #000000;\n",
       "        }    #T_dc6afa2c_56cc_11ea_b137_ffb6ef82ec73row2_col6 {\n",
       "            background-color:  #6b8df0;\n",
       "            color:  #000000;\n",
       "        }    #T_dc6afa2c_56cc_11ea_b137_ffb6ef82ec73row2_col7 {\n",
       "            background-color:  #4257c9;\n",
       "            color:  #f1f1f1;\n",
       "        }    #T_dc6afa2c_56cc_11ea_b137_ffb6ef82ec73row2_col8 {\n",
       "            background-color:  #3f53c6;\n",
       "            color:  #f1f1f1;\n",
       "        }    #T_dc6afa2c_56cc_11ea_b137_ffb6ef82ec73row2_col9 {\n",
       "            background-color:  #5e7de7;\n",
       "            color:  #000000;\n",
       "        }    #T_dc6afa2c_56cc_11ea_b137_ffb6ef82ec73row3_col0 {\n",
       "            background-color:  #3b4cc0;\n",
       "            color:  #f1f1f1;\n",
       "        }    #T_dc6afa2c_56cc_11ea_b137_ffb6ef82ec73row3_col1 {\n",
       "            background-color:  #3d50c3;\n",
       "            color:  #f1f1f1;\n",
       "        }    #T_dc6afa2c_56cc_11ea_b137_ffb6ef82ec73row3_col2 {\n",
       "            background-color:  #485fd1;\n",
       "            color:  #f1f1f1;\n",
       "        }    #T_dc6afa2c_56cc_11ea_b137_ffb6ef82ec73row3_col3 {\n",
       "            background-color:  #b40426;\n",
       "            color:  #f1f1f1;\n",
       "        }    #T_dc6afa2c_56cc_11ea_b137_ffb6ef82ec73row3_col4 {\n",
       "            background-color:  #779af7;\n",
       "            color:  #000000;\n",
       "        }    #T_dc6afa2c_56cc_11ea_b137_ffb6ef82ec73row3_col5 {\n",
       "            background-color:  #506bda;\n",
       "            color:  #000000;\n",
       "        }    #T_dc6afa2c_56cc_11ea_b137_ffb6ef82ec73row3_col6 {\n",
       "            background-color:  #6384eb;\n",
       "            color:  #000000;\n",
       "        }    #T_dc6afa2c_56cc_11ea_b137_ffb6ef82ec73row3_col7 {\n",
       "            background-color:  #4b64d5;\n",
       "            color:  #f1f1f1;\n",
       "        }    #T_dc6afa2c_56cc_11ea_b137_ffb6ef82ec73row3_col8 {\n",
       "            background-color:  #4e68d8;\n",
       "            color:  #000000;\n",
       "        }    #T_dc6afa2c_56cc_11ea_b137_ffb6ef82ec73row3_col9 {\n",
       "            background-color:  #5875e1;\n",
       "            color:  #000000;\n",
       "        }    #T_dc6afa2c_56cc_11ea_b137_ffb6ef82ec73row4_col0 {\n",
       "            background-color:  #7ea1fa;\n",
       "            color:  #000000;\n",
       "        }    #T_dc6afa2c_56cc_11ea_b137_ffb6ef82ec73row4_col1 {\n",
       "            background-color:  #3d50c3;\n",
       "            color:  #f1f1f1;\n",
       "        }    #T_dc6afa2c_56cc_11ea_b137_ffb6ef82ec73row4_col2 {\n",
       "            background-color:  #4055c8;\n",
       "            color:  #f1f1f1;\n",
       "        }    #T_dc6afa2c_56cc_11ea_b137_ffb6ef82ec73row4_col3 {\n",
       "            background-color:  #6b8df0;\n",
       "            color:  #000000;\n",
       "        }    #T_dc6afa2c_56cc_11ea_b137_ffb6ef82ec73row4_col4 {\n",
       "            background-color:  #b40426;\n",
       "            color:  #f1f1f1;\n",
       "        }    #T_dc6afa2c_56cc_11ea_b137_ffb6ef82ec73row4_col5 {\n",
       "            background-color:  #6788ee;\n",
       "            color:  #000000;\n",
       "        }    #T_dc6afa2c_56cc_11ea_b137_ffb6ef82ec73row4_col6 {\n",
       "            background-color:  #6485ec;\n",
       "            color:  #000000;\n",
       "        }    #T_dc6afa2c_56cc_11ea_b137_ffb6ef82ec73row4_col7 {\n",
       "            background-color:  #3b4cc0;\n",
       "            color:  #f1f1f1;\n",
       "        }    #T_dc6afa2c_56cc_11ea_b137_ffb6ef82ec73row4_col8 {\n",
       "            background-color:  #b2ccfb;\n",
       "            color:  #000000;\n",
       "        }    #T_dc6afa2c_56cc_11ea_b137_ffb6ef82ec73row4_col9 {\n",
       "            background-color:  #3b4cc0;\n",
       "            color:  #f1f1f1;\n",
       "        }    #T_dc6afa2c_56cc_11ea_b137_ffb6ef82ec73row5_col0 {\n",
       "            background-color:  #81a4fb;\n",
       "            color:  #000000;\n",
       "        }    #T_dc6afa2c_56cc_11ea_b137_ffb6ef82ec73row5_col1 {\n",
       "            background-color:  #3c4ec2;\n",
       "            color:  #f1f1f1;\n",
       "        }    #T_dc6afa2c_56cc_11ea_b137_ffb6ef82ec73row5_col2 {\n",
       "            background-color:  #3f53c6;\n",
       "            color:  #f1f1f1;\n",
       "        }    #T_dc6afa2c_56cc_11ea_b137_ffb6ef82ec73row5_col3 {\n",
       "            background-color:  #4257c9;\n",
       "            color:  #f1f1f1;\n",
       "        }    #T_dc6afa2c_56cc_11ea_b137_ffb6ef82ec73row5_col4 {\n",
       "            background-color:  #6485ec;\n",
       "            color:  #000000;\n",
       "        }    #T_dc6afa2c_56cc_11ea_b137_ffb6ef82ec73row5_col5 {\n",
       "            background-color:  #b40426;\n",
       "            color:  #f1f1f1;\n",
       "        }    #T_dc6afa2c_56cc_11ea_b137_ffb6ef82ec73row5_col6 {\n",
       "            background-color:  #3b4cc0;\n",
       "            color:  #f1f1f1;\n",
       "        }    #T_dc6afa2c_56cc_11ea_b137_ffb6ef82ec73row5_col7 {\n",
       "            background-color:  #4055c8;\n",
       "            color:  #f1f1f1;\n",
       "        }    #T_dc6afa2c_56cc_11ea_b137_ffb6ef82ec73row5_col8 {\n",
       "            background-color:  #3b4cc0;\n",
       "            color:  #f1f1f1;\n",
       "        }    #T_dc6afa2c_56cc_11ea_b137_ffb6ef82ec73row5_col9 {\n",
       "            background-color:  #5f7fe8;\n",
       "            color:  #000000;\n",
       "        }    #T_dc6afa2c_56cc_11ea_b137_ffb6ef82ec73row6_col0 {\n",
       "            background-color:  #9dbdff;\n",
       "            color:  #000000;\n",
       "        }    #T_dc6afa2c_56cc_11ea_b137_ffb6ef82ec73row6_col1 {\n",
       "            background-color:  #3d50c3;\n",
       "            color:  #f1f1f1;\n",
       "        }    #T_dc6afa2c_56cc_11ea_b137_ffb6ef82ec73row6_col2 {\n",
       "            background-color:  #465ecf;\n",
       "            color:  #f1f1f1;\n",
       "        }    #T_dc6afa2c_56cc_11ea_b137_ffb6ef82ec73row6_col3 {\n",
       "            background-color:  #5470de;\n",
       "            color:  #000000;\n",
       "        }    #T_dc6afa2c_56cc_11ea_b137_ffb6ef82ec73row6_col4 {\n",
       "            background-color:  #6282ea;\n",
       "            color:  #000000;\n",
       "        }    #T_dc6afa2c_56cc_11ea_b137_ffb6ef82ec73row6_col5 {\n",
       "            background-color:  #3b4cc0;\n",
       "            color:  #f1f1f1;\n",
       "        }    #T_dc6afa2c_56cc_11ea_b137_ffb6ef82ec73row6_col6 {\n",
       "            background-color:  #b40426;\n",
       "            color:  #f1f1f1;\n",
       "        }    #T_dc6afa2c_56cc_11ea_b137_ffb6ef82ec73row6_col7 {\n",
       "            background-color:  #3f53c6;\n",
       "            color:  #f1f1f1;\n",
       "        }    #T_dc6afa2c_56cc_11ea_b137_ffb6ef82ec73row6_col8 {\n",
       "            background-color:  #3d50c3;\n",
       "            color:  #f1f1f1;\n",
       "        }    #T_dc6afa2c_56cc_11ea_b137_ffb6ef82ec73row6_col9 {\n",
       "            background-color:  #6687ed;\n",
       "            color:  #000000;\n",
       "        }    #T_dc6afa2c_56cc_11ea_b137_ffb6ef82ec73row7_col0 {\n",
       "            background-color:  #5e7de7;\n",
       "            color:  #000000;\n",
       "        }    #T_dc6afa2c_56cc_11ea_b137_ffb6ef82ec73row7_col1 {\n",
       "            background-color:  #3c4ec2;\n",
       "            color:  #f1f1f1;\n",
       "        }    #T_dc6afa2c_56cc_11ea_b137_ffb6ef82ec73row7_col2 {\n",
       "            background-color:  #445acc;\n",
       "            color:  #f1f1f1;\n",
       "        }    #T_dc6afa2c_56cc_11ea_b137_ffb6ef82ec73row7_col3 {\n",
       "            background-color:  #6485ec;\n",
       "            color:  #000000;\n",
       "        }    #T_dc6afa2c_56cc_11ea_b137_ffb6ef82ec73row7_col4 {\n",
       "            background-color:  #6180e9;\n",
       "            color:  #000000;\n",
       "        }    #T_dc6afa2c_56cc_11ea_b137_ffb6ef82ec73row7_col5 {\n",
       "            background-color:  #688aef;\n",
       "            color:  #000000;\n",
       "        }    #T_dc6afa2c_56cc_11ea_b137_ffb6ef82ec73row7_col6 {\n",
       "            background-color:  #6788ee;\n",
       "            color:  #000000;\n",
       "        }    #T_dc6afa2c_56cc_11ea_b137_ffb6ef82ec73row7_col7 {\n",
       "            background-color:  #b40426;\n",
       "            color:  #f1f1f1;\n",
       "        }    #T_dc6afa2c_56cc_11ea_b137_ffb6ef82ec73row7_col8 {\n",
       "            background-color:  #3b4cc0;\n",
       "            color:  #f1f1f1;\n",
       "        }    #T_dc6afa2c_56cc_11ea_b137_ffb6ef82ec73row7_col9 {\n",
       "            background-color:  #6687ed;\n",
       "            color:  #000000;\n",
       "        }    #T_dc6afa2c_56cc_11ea_b137_ffb6ef82ec73row8_col0 {\n",
       "            background-color:  #799cf8;\n",
       "            color:  #000000;\n",
       "        }    #T_dc6afa2c_56cc_11ea_b137_ffb6ef82ec73row8_col1 {\n",
       "            background-color:  #3d50c3;\n",
       "            color:  #f1f1f1;\n",
       "        }    #T_dc6afa2c_56cc_11ea_b137_ffb6ef82ec73row8_col2 {\n",
       "            background-color:  #4358cb;\n",
       "            color:  #f1f1f1;\n",
       "        }    #T_dc6afa2c_56cc_11ea_b137_ffb6ef82ec73row8_col3 {\n",
       "            background-color:  #6788ee;\n",
       "            color:  #000000;\n",
       "        }    #T_dc6afa2c_56cc_11ea_b137_ffb6ef82ec73row8_col4 {\n",
       "            background-color:  #cbd8ee;\n",
       "            color:  #000000;\n",
       "        }    #T_dc6afa2c_56cc_11ea_b137_ffb6ef82ec73row8_col5 {\n",
       "            background-color:  #6384eb;\n",
       "            color:  #000000;\n",
       "        }    #T_dc6afa2c_56cc_11ea_b137_ffb6ef82ec73row8_col6 {\n",
       "            background-color:  #6687ed;\n",
       "            color:  #000000;\n",
       "        }    #T_dc6afa2c_56cc_11ea_b137_ffb6ef82ec73row8_col7 {\n",
       "            background-color:  #3b4cc0;\n",
       "            color:  #f1f1f1;\n",
       "        }    #T_dc6afa2c_56cc_11ea_b137_ffb6ef82ec73row8_col8 {\n",
       "            background-color:  #b40426;\n",
       "            color:  #f1f1f1;\n",
       "        }    #T_dc6afa2c_56cc_11ea_b137_ffb6ef82ec73row8_col9 {\n",
       "            background-color:  #6282ea;\n",
       "            color:  #000000;\n",
       "        }    #T_dc6afa2c_56cc_11ea_b137_ffb6ef82ec73row9_col0 {\n",
       "            background-color:  #5470de;\n",
       "            color:  #000000;\n",
       "        }    #T_dc6afa2c_56cc_11ea_b137_ffb6ef82ec73row9_col1 {\n",
       "            background-color:  #3b4cc0;\n",
       "            color:  #f1f1f1;\n",
       "        }    #T_dc6afa2c_56cc_11ea_b137_ffb6ef82ec73row9_col2 {\n",
       "            background-color:  #3c4ec2;\n",
       "            color:  #f1f1f1;\n",
       "        }    #T_dc6afa2c_56cc_11ea_b137_ffb6ef82ec73row9_col3 {\n",
       "            background-color:  #4b64d5;\n",
       "            color:  #f1f1f1;\n",
       "        }    #T_dc6afa2c_56cc_11ea_b137_ffb6ef82ec73row9_col4 {\n",
       "            background-color:  #3b4cc0;\n",
       "            color:  #f1f1f1;\n",
       "        }    #T_dc6afa2c_56cc_11ea_b137_ffb6ef82ec73row9_col5 {\n",
       "            background-color:  #6282ea;\n",
       "            color:  #000000;\n",
       "        }    #T_dc6afa2c_56cc_11ea_b137_ffb6ef82ec73row9_col6 {\n",
       "            background-color:  #688aef;\n",
       "            color:  #000000;\n",
       "        }    #T_dc6afa2c_56cc_11ea_b137_ffb6ef82ec73row9_col7 {\n",
       "            background-color:  #3f53c6;\n",
       "            color:  #f1f1f1;\n",
       "        }    #T_dc6afa2c_56cc_11ea_b137_ffb6ef82ec73row9_col8 {\n",
       "            background-color:  #3c4ec2;\n",
       "            color:  #f1f1f1;\n",
       "        }    #T_dc6afa2c_56cc_11ea_b137_ffb6ef82ec73row9_col9 {\n",
       "            background-color:  #b40426;\n",
       "            color:  #f1f1f1;\n",
       "        }</style><table id=\"T_dc6afa2c_56cc_11ea_b137_ffb6ef82ec73\" ><thead>    <tr>        <th class=\"blank level0\" ></th>        <th class=\"col_heading level0 col0\" >temp</th>        <th class=\"col_heading level0 col1\" >rain_1h</th>        <th class=\"col_heading level0 col2\" >snow_1h</th>        <th class=\"col_heading level0 col3\" >clouds_all</th>        <th class=\"col_heading level0 col4\" >traffic_volume</th>        <th class=\"col_heading level0 col5\" >year</th>        <th class=\"col_heading level0 col6\" >month</th>        <th class=\"col_heading level0 col7\" >day</th>        <th class=\"col_heading level0 col8\" >hour</th>        <th class=\"col_heading level0 col9\" >weekday</th>    </tr></thead><tbody>\n",
       "                <tr>\n",
       "                        <th id=\"T_dc6afa2c_56cc_11ea_b137_ffb6ef82ec73level0_row0\" class=\"row_heading level0 row0\" >temp</th>\n",
       "                        <td id=\"T_dc6afa2c_56cc_11ea_b137_ffb6ef82ec73row0_col0\" class=\"data row0 col0\" >1</td>\n",
       "                        <td id=\"T_dc6afa2c_56cc_11ea_b137_ffb6ef82ec73row0_col1\" class=\"data row0 col1\" >0.00906854</td>\n",
       "                        <td id=\"T_dc6afa2c_56cc_11ea_b137_ffb6ef82ec73row0_col2\" class=\"data row0 col2\" >-0.0197552</td>\n",
       "                        <td id=\"T_dc6afa2c_56cc_11ea_b137_ffb6ef82ec73row0_col3\" class=\"data row0 col3\" >-0.101976</td>\n",
       "                        <td id=\"T_dc6afa2c_56cc_11ea_b137_ffb6ef82ec73row0_col4\" class=\"data row0 col4\" >0.130299</td>\n",
       "                        <td id=\"T_dc6afa2c_56cc_11ea_b137_ffb6ef82ec73row0_col5\" class=\"data row0 col5\" >0.134945</td>\n",
       "                        <td id=\"T_dc6afa2c_56cc_11ea_b137_ffb6ef82ec73row0_col6\" class=\"data row0 col6\" >0.223738</td>\n",
       "                        <td id=\"T_dc6afa2c_56cc_11ea_b137_ffb6ef82ec73row0_col7\" class=\"data row0 col7\" >0.0229017</td>\n",
       "                        <td id=\"T_dc6afa2c_56cc_11ea_b137_ffb6ef82ec73row0_col8\" class=\"data row0 col8\" >0.112089</td>\n",
       "                        <td id=\"T_dc6afa2c_56cc_11ea_b137_ffb6ef82ec73row0_col9\" class=\"data row0 col9\" >-0.00770762</td>\n",
       "            </tr>\n",
       "            <tr>\n",
       "                        <th id=\"T_dc6afa2c_56cc_11ea_b137_ffb6ef82ec73level0_row1\" class=\"row_heading level0 row1\" >rain_1h</th>\n",
       "                        <td id=\"T_dc6afa2c_56cc_11ea_b137_ffb6ef82ec73row1_col0\" class=\"data row1 col0\" >0.00906854</td>\n",
       "                        <td id=\"T_dc6afa2c_56cc_11ea_b137_ffb6ef82ec73row1_col1\" class=\"data row1 col1\" >1</td>\n",
       "                        <td id=\"T_dc6afa2c_56cc_11ea_b137_ffb6ef82ec73row1_col2\" class=\"data row1 col2\" >-8.98346e-05</td>\n",
       "                        <td id=\"T_dc6afa2c_56cc_11ea_b137_ffb6ef82ec73row1_col3\" class=\"data row1 col3\" >0.00481813</td>\n",
       "                        <td id=\"T_dc6afa2c_56cc_11ea_b137_ffb6ef82ec73row1_col4\" class=\"data row1 col4\" >0.0047137</td>\n",
       "                        <td id=\"T_dc6afa2c_56cc_11ea_b137_ffb6ef82ec73row1_col5\" class=\"data row1 col5\" >0.000441939</td>\n",
       "                        <td id=\"T_dc6afa2c_56cc_11ea_b137_ffb6ef82ec73row1_col6\" class=\"data row1 col6\" >0.00129768</td>\n",
       "                        <td id=\"T_dc6afa2c_56cc_11ea_b137_ffb6ef82ec73row1_col7\" class=\"data row1 col7\" >-0.00229363</td>\n",
       "                        <td id=\"T_dc6afa2c_56cc_11ea_b137_ffb6ef82ec73row1_col8\" class=\"data row1 col8\" >0.00342121</td>\n",
       "                        <td id=\"T_dc6afa2c_56cc_11ea_b137_ffb6ef82ec73row1_col9\" class=\"data row1 col9\" >-0.00691954</td>\n",
       "            </tr>\n",
       "            <tr>\n",
       "                        <th id=\"T_dc6afa2c_56cc_11ea_b137_ffb6ef82ec73level0_row2\" class=\"row_heading level0 row2\" >snow_1h</th>\n",
       "                        <td id=\"T_dc6afa2c_56cc_11ea_b137_ffb6ef82ec73row2_col0\" class=\"data row2 col0\" >-0.0197552</td>\n",
       "                        <td id=\"T_dc6afa2c_56cc_11ea_b137_ffb6ef82ec73row2_col1\" class=\"data row2 col1\" >-8.98346e-05</td>\n",
       "                        <td id=\"T_dc6afa2c_56cc_11ea_b137_ffb6ef82ec73row2_col2\" class=\"data row2 col2\" >1</td>\n",
       "                        <td id=\"T_dc6afa2c_56cc_11ea_b137_ffb6ef82ec73row2_col3\" class=\"data row2 col3\" >0.0279309</td>\n",
       "                        <td id=\"T_dc6afa2c_56cc_11ea_b137_ffb6ef82ec73row2_col4\" class=\"data row2 col4\" >0.000733435</td>\n",
       "                        <td id=\"T_dc6afa2c_56cc_11ea_b137_ffb6ef82ec73row2_col5\" class=\"data row2 col5\" >-0.00351937</td>\n",
       "                        <td id=\"T_dc6afa2c_56cc_11ea_b137_ffb6ef82ec73row2_col6\" class=\"data row2 col6\" >0.0204121</td>\n",
       "                        <td id=\"T_dc6afa2c_56cc_11ea_b137_ffb6ef82ec73row2_col7\" class=\"data row2 col7\" >0.0157888</td>\n",
       "                        <td id=\"T_dc6afa2c_56cc_11ea_b137_ffb6ef82ec73row2_col8\" class=\"data row2 col8\" >0.00984913</td>\n",
       "                        <td id=\"T_dc6afa2c_56cc_11ea_b137_ffb6ef82ec73row2_col9\" class=\"data row2 col9\" >-0.0149276</td>\n",
       "            </tr>\n",
       "            <tr>\n",
       "                        <th id=\"T_dc6afa2c_56cc_11ea_b137_ffb6ef82ec73level0_row3\" class=\"row_heading level0 row3\" >clouds_all</th>\n",
       "                        <td id=\"T_dc6afa2c_56cc_11ea_b137_ffb6ef82ec73row3_col0\" class=\"data row3 col0\" >-0.101976</td>\n",
       "                        <td id=\"T_dc6afa2c_56cc_11ea_b137_ffb6ef82ec73row3_col1\" class=\"data row3 col1\" >0.00481813</td>\n",
       "                        <td id=\"T_dc6afa2c_56cc_11ea_b137_ffb6ef82ec73row3_col2\" class=\"data row3 col2\" >0.0279309</td>\n",
       "                        <td id=\"T_dc6afa2c_56cc_11ea_b137_ffb6ef82ec73row3_col3\" class=\"data row3 col3\" >1</td>\n",
       "                        <td id=\"T_dc6afa2c_56cc_11ea_b137_ffb6ef82ec73row3_col4\" class=\"data row3 col4\" >0.0670538</td>\n",
       "                        <td id=\"T_dc6afa2c_56cc_11ea_b137_ffb6ef82ec73row3_col5\" class=\"data row3 col5\" >-0.0728609</td>\n",
       "                        <td id=\"T_dc6afa2c_56cc_11ea_b137_ffb6ef82ec73row3_col6\" class=\"data row3 col6\" >-0.00913346</td>\n",
       "                        <td id=\"T_dc6afa2c_56cc_11ea_b137_ffb6ef82ec73row3_col7\" class=\"data row3 col7\" >0.0481116</td>\n",
       "                        <td id=\"T_dc6afa2c_56cc_11ea_b137_ffb6ef82ec73row3_col8\" class=\"data row3 col8\" >0.054418</td>\n",
       "                        <td id=\"T_dc6afa2c_56cc_11ea_b137_ffb6ef82ec73row3_col9\" class=\"data row3 col9\" >-0.0397152</td>\n",
       "            </tr>\n",
       "            <tr>\n",
       "                        <th id=\"T_dc6afa2c_56cc_11ea_b137_ffb6ef82ec73level0_row4\" class=\"row_heading level0 row4\" >traffic_volume</th>\n",
       "                        <td id=\"T_dc6afa2c_56cc_11ea_b137_ffb6ef82ec73row4_col0\" class=\"data row4 col0\" >0.130299</td>\n",
       "                        <td id=\"T_dc6afa2c_56cc_11ea_b137_ffb6ef82ec73row4_col1\" class=\"data row4 col1\" >0.0047137</td>\n",
       "                        <td id=\"T_dc6afa2c_56cc_11ea_b137_ffb6ef82ec73row4_col2\" class=\"data row4 col2\" >0.000733435</td>\n",
       "                        <td id=\"T_dc6afa2c_56cc_11ea_b137_ffb6ef82ec73row4_col3\" class=\"data row4 col3\" >0.0670538</td>\n",
       "                        <td id=\"T_dc6afa2c_56cc_11ea_b137_ffb6ef82ec73row4_col4\" class=\"data row4 col4\" >1</td>\n",
       "                        <td id=\"T_dc6afa2c_56cc_11ea_b137_ffb6ef82ec73row4_col5\" class=\"data row4 col5\" >0.00475323</td>\n",
       "                        <td id=\"T_dc6afa2c_56cc_11ea_b137_ffb6ef82ec73row4_col6\" class=\"data row4 col6\" >-0.00253292</td>\n",
       "                        <td id=\"T_dc6afa2c_56cc_11ea_b137_ffb6ef82ec73row4_col7\" class=\"data row4 col7\" >-0.00758739</td>\n",
       "                        <td id=\"T_dc6afa2c_56cc_11ea_b137_ffb6ef82ec73row4_col8\" class=\"data row4 col8\" >0.352401</td>\n",
       "                        <td id=\"T_dc6afa2c_56cc_11ea_b137_ffb6ef82ec73row4_col9\" class=\"data row4 col9\" >-0.149544</td>\n",
       "            </tr>\n",
       "            <tr>\n",
       "                        <th id=\"T_dc6afa2c_56cc_11ea_b137_ffb6ef82ec73level0_row5\" class=\"row_heading level0 row5\" >year</th>\n",
       "                        <td id=\"T_dc6afa2c_56cc_11ea_b137_ffb6ef82ec73row5_col0\" class=\"data row5 col0\" >0.134945</td>\n",
       "                        <td id=\"T_dc6afa2c_56cc_11ea_b137_ffb6ef82ec73row5_col1\" class=\"data row5 col1\" >0.000441939</td>\n",
       "                        <td id=\"T_dc6afa2c_56cc_11ea_b137_ffb6ef82ec73row5_col2\" class=\"data row5 col2\" >-0.00351937</td>\n",
       "                        <td id=\"T_dc6afa2c_56cc_11ea_b137_ffb6ef82ec73row5_col3\" class=\"data row5 col3\" >-0.0728609</td>\n",
       "                        <td id=\"T_dc6afa2c_56cc_11ea_b137_ffb6ef82ec73row5_col4\" class=\"data row5 col4\" >0.00475323</td>\n",
       "                        <td id=\"T_dc6afa2c_56cc_11ea_b137_ffb6ef82ec73row5_col5\" class=\"data row5 col5\" >1</td>\n",
       "                        <td id=\"T_dc6afa2c_56cc_11ea_b137_ffb6ef82ec73row5_col6\" class=\"data row5 col6\" >-0.158688</td>\n",
       "                        <td id=\"T_dc6afa2c_56cc_11ea_b137_ffb6ef82ec73row5_col7\" class=\"data row5 col7\" >0.0121924</td>\n",
       "                        <td id=\"T_dc6afa2c_56cc_11ea_b137_ffb6ef82ec73row5_col8\" class=\"data row5 col8\" >-0.00754237</td>\n",
       "                        <td id=\"T_dc6afa2c_56cc_11ea_b137_ffb6ef82ec73row5_col9\" class=\"data row5 col9\" >-0.012313</td>\n",
       "            </tr>\n",
       "            <tr>\n",
       "                        <th id=\"T_dc6afa2c_56cc_11ea_b137_ffb6ef82ec73level0_row6\" class=\"row_heading level0 row6\" >month</th>\n",
       "                        <td id=\"T_dc6afa2c_56cc_11ea_b137_ffb6ef82ec73row6_col0\" class=\"data row6 col0\" >0.223738</td>\n",
       "                        <td id=\"T_dc6afa2c_56cc_11ea_b137_ffb6ef82ec73row6_col1\" class=\"data row6 col1\" >0.00129768</td>\n",
       "                        <td id=\"T_dc6afa2c_56cc_11ea_b137_ffb6ef82ec73row6_col2\" class=\"data row6 col2\" >0.0204121</td>\n",
       "                        <td id=\"T_dc6afa2c_56cc_11ea_b137_ffb6ef82ec73row6_col3\" class=\"data row6 col3\" >-0.00913346</td>\n",
       "                        <td id=\"T_dc6afa2c_56cc_11ea_b137_ffb6ef82ec73row6_col4\" class=\"data row6 col4\" >-0.00253292</td>\n",
       "                        <td id=\"T_dc6afa2c_56cc_11ea_b137_ffb6ef82ec73row6_col5\" class=\"data row6 col5\" >-0.158688</td>\n",
       "                        <td id=\"T_dc6afa2c_56cc_11ea_b137_ffb6ef82ec73row6_col6\" class=\"data row6 col6\" >1</td>\n",
       "                        <td id=\"T_dc6afa2c_56cc_11ea_b137_ffb6ef82ec73row6_col7\" class=\"data row6 col7\" >0.00861361</td>\n",
       "                        <td id=\"T_dc6afa2c_56cc_11ea_b137_ffb6ef82ec73row6_col8\" class=\"data row6 col8\" >0.00186516</td>\n",
       "                        <td id=\"T_dc6afa2c_56cc_11ea_b137_ffb6ef82ec73row6_col9\" class=\"data row6 col9\" >0.010741</td>\n",
       "            </tr>\n",
       "            <tr>\n",
       "                        <th id=\"T_dc6afa2c_56cc_11ea_b137_ffb6ef82ec73level0_row7\" class=\"row_heading level0 row7\" >day</th>\n",
       "                        <td id=\"T_dc6afa2c_56cc_11ea_b137_ffb6ef82ec73row7_col0\" class=\"data row7 col0\" >0.0229017</td>\n",
       "                        <td id=\"T_dc6afa2c_56cc_11ea_b137_ffb6ef82ec73row7_col1\" class=\"data row7 col1\" >-0.00229363</td>\n",
       "                        <td id=\"T_dc6afa2c_56cc_11ea_b137_ffb6ef82ec73row7_col2\" class=\"data row7 col2\" >0.0157888</td>\n",
       "                        <td id=\"T_dc6afa2c_56cc_11ea_b137_ffb6ef82ec73row7_col3\" class=\"data row7 col3\" >0.0481116</td>\n",
       "                        <td id=\"T_dc6afa2c_56cc_11ea_b137_ffb6ef82ec73row7_col4\" class=\"data row7 col4\" >-0.00758739</td>\n",
       "                        <td id=\"T_dc6afa2c_56cc_11ea_b137_ffb6ef82ec73row7_col5\" class=\"data row7 col5\" >0.0121924</td>\n",
       "                        <td id=\"T_dc6afa2c_56cc_11ea_b137_ffb6ef82ec73row7_col6\" class=\"data row7 col6\" >0.00861361</td>\n",
       "                        <td id=\"T_dc6afa2c_56cc_11ea_b137_ffb6ef82ec73row7_col7\" class=\"data row7 col7\" >1</td>\n",
       "                        <td id=\"T_dc6afa2c_56cc_11ea_b137_ffb6ef82ec73row7_col8\" class=\"data row7 col8\" >-0.00937314</td>\n",
       "                        <td id=\"T_dc6afa2c_56cc_11ea_b137_ffb6ef82ec73row7_col9\" class=\"data row7 col9\" >0.0086776</td>\n",
       "            </tr>\n",
       "            <tr>\n",
       "                        <th id=\"T_dc6afa2c_56cc_11ea_b137_ffb6ef82ec73level0_row8\" class=\"row_heading level0 row8\" >hour</th>\n",
       "                        <td id=\"T_dc6afa2c_56cc_11ea_b137_ffb6ef82ec73row8_col0\" class=\"data row8 col0\" >0.112089</td>\n",
       "                        <td id=\"T_dc6afa2c_56cc_11ea_b137_ffb6ef82ec73row8_col1\" class=\"data row8 col1\" >0.00342121</td>\n",
       "                        <td id=\"T_dc6afa2c_56cc_11ea_b137_ffb6ef82ec73row8_col2\" class=\"data row8 col2\" >0.00984913</td>\n",
       "                        <td id=\"T_dc6afa2c_56cc_11ea_b137_ffb6ef82ec73row8_col3\" class=\"data row8 col3\" >0.054418</td>\n",
       "                        <td id=\"T_dc6afa2c_56cc_11ea_b137_ffb6ef82ec73row8_col4\" class=\"data row8 col4\" >0.352401</td>\n",
       "                        <td id=\"T_dc6afa2c_56cc_11ea_b137_ffb6ef82ec73row8_col5\" class=\"data row8 col5\" >-0.00754237</td>\n",
       "                        <td id=\"T_dc6afa2c_56cc_11ea_b137_ffb6ef82ec73row8_col6\" class=\"data row8 col6\" >0.00186516</td>\n",
       "                        <td id=\"T_dc6afa2c_56cc_11ea_b137_ffb6ef82ec73row8_col7\" class=\"data row8 col7\" >-0.00937314</td>\n",
       "                        <td id=\"T_dc6afa2c_56cc_11ea_b137_ffb6ef82ec73row8_col8\" class=\"data row8 col8\" >1</td>\n",
       "                        <td id=\"T_dc6afa2c_56cc_11ea_b137_ffb6ef82ec73row8_col9\" class=\"data row8 col9\" >-0.00385763</td>\n",
       "            </tr>\n",
       "            <tr>\n",
       "                        <th id=\"T_dc6afa2c_56cc_11ea_b137_ffb6ef82ec73level0_row9\" class=\"row_heading level0 row9\" >weekday</th>\n",
       "                        <td id=\"T_dc6afa2c_56cc_11ea_b137_ffb6ef82ec73row9_col0\" class=\"data row9 col0\" >-0.00770762</td>\n",
       "                        <td id=\"T_dc6afa2c_56cc_11ea_b137_ffb6ef82ec73row9_col1\" class=\"data row9 col1\" >-0.00691954</td>\n",
       "                        <td id=\"T_dc6afa2c_56cc_11ea_b137_ffb6ef82ec73row9_col2\" class=\"data row9 col2\" >-0.0149276</td>\n",
       "                        <td id=\"T_dc6afa2c_56cc_11ea_b137_ffb6ef82ec73row9_col3\" class=\"data row9 col3\" >-0.0397152</td>\n",
       "                        <td id=\"T_dc6afa2c_56cc_11ea_b137_ffb6ef82ec73row9_col4\" class=\"data row9 col4\" >-0.149544</td>\n",
       "                        <td id=\"T_dc6afa2c_56cc_11ea_b137_ffb6ef82ec73row9_col5\" class=\"data row9 col5\" >-0.012313</td>\n",
       "                        <td id=\"T_dc6afa2c_56cc_11ea_b137_ffb6ef82ec73row9_col6\" class=\"data row9 col6\" >0.010741</td>\n",
       "                        <td id=\"T_dc6afa2c_56cc_11ea_b137_ffb6ef82ec73row9_col7\" class=\"data row9 col7\" >0.0086776</td>\n",
       "                        <td id=\"T_dc6afa2c_56cc_11ea_b137_ffb6ef82ec73row9_col8\" class=\"data row9 col8\" >-0.00385763</td>\n",
       "                        <td id=\"T_dc6afa2c_56cc_11ea_b137_ffb6ef82ec73row9_col9\" class=\"data row9 col9\" >1</td>\n",
       "            </tr>\n",
       "    </tbody></table>"
      ],
      "text/plain": [
       "<pandas.io.formats.style.Styler at 0x7fc9afc77810>"
      ]
     },
     "execution_count": 31,
     "metadata": {},
     "output_type": "execute_result"
    }
   ],
   "source": [
    "correl = df_base.corr()\n",
    "correl.style.background_gradient(cmap = 'coolwarm')"
   ]
  },
  {
   "cell_type": "markdown",
   "metadata": {},
   "source": [
    "E aqui temos matriz de correlação. Agora podemos vizualizar, numericamente, a correlação entre os atributos. \n",
    "Os atributos que possuem correlações desprezéveis, são: **day**, **month**, **year**, **snow_1h**, **rain_1h**. E E eles são removidos da base de dados."
   ]
  },
  {
   "cell_type": "code",
   "execution_count": 32,
   "metadata": {},
   "outputs": [],
   "source": [
    "df_base = df_base.drop(columns=['day'])\n",
    "df_base = df_base.drop(columns=['month'])\n",
    "df_base = df_base.drop(columns=['year'])\n",
    "df_base = df_base.drop(columns=['snow_1h'])\n",
    "df_base = df_base.drop(columns=['rain_1h'])"
   ]
  },
  {
   "cell_type": "code",
   "execution_count": 33,
   "metadata": {},
   "outputs": [
    {
     "data": {
      "text/html": [
       "<div>\n",
       "<style scoped>\n",
       "    .dataframe tbody tr th:only-of-type {\n",
       "        vertical-align: middle;\n",
       "    }\n",
       "\n",
       "    .dataframe tbody tr th {\n",
       "        vertical-align: top;\n",
       "    }\n",
       "\n",
       "    .dataframe thead th {\n",
       "        text-align: right;\n",
       "    }\n",
       "</style>\n",
       "<table border=\"1\" class=\"dataframe\">\n",
       "  <thead>\n",
       "    <tr style=\"text-align: right;\">\n",
       "      <th></th>\n",
       "      <th>temp</th>\n",
       "      <th>clouds_all</th>\n",
       "      <th>traffic_volume</th>\n",
       "      <th>hour</th>\n",
       "      <th>weekday</th>\n",
       "    </tr>\n",
       "  </thead>\n",
       "  <tbody>\n",
       "    <tr>\n",
       "      <td>0</td>\n",
       "      <td>288.28</td>\n",
       "      <td>40</td>\n",
       "      <td>5545</td>\n",
       "      <td>9</td>\n",
       "      <td>1</td>\n",
       "    </tr>\n",
       "    <tr>\n",
       "      <td>1</td>\n",
       "      <td>289.36</td>\n",
       "      <td>75</td>\n",
       "      <td>4516</td>\n",
       "      <td>10</td>\n",
       "      <td>1</td>\n",
       "    </tr>\n",
       "    <tr>\n",
       "      <td>2</td>\n",
       "      <td>289.58</td>\n",
       "      <td>90</td>\n",
       "      <td>4767</td>\n",
       "      <td>11</td>\n",
       "      <td>1</td>\n",
       "    </tr>\n",
       "    <tr>\n",
       "      <td>3</td>\n",
       "      <td>290.13</td>\n",
       "      <td>90</td>\n",
       "      <td>5026</td>\n",
       "      <td>12</td>\n",
       "      <td>1</td>\n",
       "    </tr>\n",
       "    <tr>\n",
       "      <td>4</td>\n",
       "      <td>291.14</td>\n",
       "      <td>75</td>\n",
       "      <td>4918</td>\n",
       "      <td>13</td>\n",
       "      <td>1</td>\n",
       "    </tr>\n",
       "  </tbody>\n",
       "</table>\n",
       "</div>"
      ],
      "text/plain": [
       "     temp  clouds_all  traffic_volume  hour  weekday\n",
       "0  288.28          40            5545     9        1\n",
       "1  289.36          75            4516    10        1\n",
       "2  289.58          90            4767    11        1\n",
       "3  290.13          90            5026    12        1\n",
       "4  291.14          75            4918    13        1"
      ]
     },
     "execution_count": 33,
     "metadata": {},
     "output_type": "execute_result"
    }
   ],
   "source": [
    "df_base.head()"
   ]
  },
  {
   "cell_type": "markdown",
   "metadata": {},
   "source": [
    "# Identificando Outliers"
   ]
  },
  {
   "cell_type": "code",
   "execution_count": 34,
   "metadata": {},
   "outputs": [
    {
     "data": {
      "text/plain": [
       "array([[<matplotlib.axes._subplots.AxesSubplot object at 0x7fc9af68f610>]],\n",
       "      dtype=object)"
      ]
     },
     "execution_count": 34,
     "metadata": {},
     "output_type": "execute_result"
    },
    {
     "data": {
      "image/png": "[encoded data removed]",
      "text/plain": [
       "<Figure size 432x288 with 1 Axes>"
      ]
     },
     "metadata": {
      "needs_background": "light"
     },
     "output_type": "display_data"
    },
    {
     "data": {
      "image/png": "[encoded data removed]",
      "text/plain": [
       "<Figure size 432x288 with 1 Axes>"
      ]
     },
     "metadata": {
      "needs_background": "light"
     },
     "output_type": "display_data"
    }
   ],
   "source": [
    "df_base['temp'].plot.box()\n",
    "df_base.hist(column='temp')"
   ]
  },
  {
   "cell_type": "markdown",
   "metadata": {},
   "source": [
    "Há alguns outliers em **temp**, provavelmente com valores próximos a _0_. No entanto, não será tratados agora. O histograma mostra a distribuição dos valores do mesmo. "
   ]
  },
  {
   "cell_type": "code",
   "execution_count": 35,
   "metadata": {},
   "outputs": [
    {
     "data": {
      "text/plain": [
       "array([[<matplotlib.axes._subplots.AxesSubplot object at 0x7fc9afa67190>]],\n",
       "      dtype=object)"
      ]
     },
     "execution_count": 35,
     "metadata": {},
     "output_type": "execute_result"
    },
    {
     "data": {
      "image/png": "[encoded data removed]",
      "text/plain": [
       "<Figure size 432x288 with 1 Axes>"
      ]
     },
     "metadata": {
      "needs_background": "light"
     },
     "output_type": "display_data"
    },
    {
     "data": {
      "image/png": "[encoded data removed]",
      "text/plain": [
       "<Figure size 432x288 with 1 Axes>"
      ]
     },
     "metadata": {
      "needs_background": "light"
     },
     "output_type": "display_data"
    }
   ],
   "source": [
    "df_base['clouds_all'].plot.box()\n",
    "df_base.hist(column='clouds_all')\n"
   ]
  },
  {
   "cell_type": "markdown",
   "metadata": {},
   "source": [
    "Não há outliers. "
   ]
  },
  {
   "cell_type": "code",
   "execution_count": 36,
   "metadata": {},
   "outputs": [
    {
     "data": {
      "text/plain": [
       "array([[<matplotlib.axes._subplots.AxesSubplot object at 0x7fc9b5282610>]],\n",
       "      dtype=object)"
      ]
     },
     "execution_count": 36,
     "metadata": {},
     "output_type": "execute_result"
    },
    {
     "data": {
      "image/png": "[encoded data removed]",
      "text/plain": [
       "<Figure size 432x288 with 1 Axes>"
      ]
     },
     "metadata": {
      "needs_background": "light"
     },
     "output_type": "display_data"
    },
    {
     "data": {
      "image/png": "[encoded data removed]",
      "text/plain": [
       "<Figure size 432x288 with 1 Axes>"
      ]
     },
     "metadata": {
      "needs_background": "light"
     },
     "output_type": "display_data"
    }
   ],
   "source": [
    "df_base['hour'].plot.box()\n",
    "df_base.hist(column='hour')"
   ]
  },
  {
   "cell_type": "code",
   "execution_count": null,
   "metadata": {},
   "outputs": [],
   "source": [
    "Não tem outliers"
   ]
  },
  {
   "cell_type": "code",
   "execution_count": 37,
   "metadata": {},
   "outputs": [
    {
     "data": {
      "text/plain": [
       "array([[<matplotlib.axes._subplots.AxesSubplot object at 0x7fc9af95a850>]],\n",
       "      dtype=object)"
      ]
     },
     "execution_count": 37,
     "metadata": {},
     "output_type": "execute_result"
    },
    {
     "data": {
      "image/png": "[encoded data removed]",
      "text/plain": [
       "<Figure size 432x288 with 1 Axes>"
      ]
     },
     "metadata": {
      "needs_background": "light"
     },
     "output_type": "display_data"
    },
    {
     "data": {
      "image/png": "[encoded data removed]",
      "text/plain": [
       "<Figure size 432x288 with 1 Axes>"
      ]
     },
     "metadata": {
      "needs_background": "light"
     },
     "output_type": "display_data"
    }
   ],
   "source": [
    "df_base['weekday'].plot.box()\n",
    "df_base.hist(column='weekday')"
   ]
  },
  {
   "cell_type": "markdown",
   "metadata": {},
   "source": [
    "Também não há a presença de outliers!"
   ]
  },
  {
   "cell_type": "code",
   "execution_count": 38,
   "metadata": {},
   "outputs": [
    {
     "data": {
      "text/plain": [
       "array([[<matplotlib.axes._subplots.AxesSubplot object at 0x7fc9afd583d0>]],\n",
       "      dtype=object)"
      ]
     },
     "execution_count": 38,
     "metadata": {},
     "output_type": "execute_result"
    },
    {
     "data": {
      "image/png": "[encoded data removed]",
      "text/plain": [
       "<Figure size 432x288 with 1 Axes>"
      ]
     },
     "metadata": {
      "needs_background": "light"
     },
     "output_type": "display_data"
    },
    {
     "data": {
      "image/png": "[encoded data removed]",
      "text/plain": [
       "<Figure size 432x288 with 1 Axes>"
      ]
     },
     "metadata": {
      "needs_background": "light"
     },
     "output_type": "display_data"
    }
   ],
   "source": [
    "df_base['traffic_volume'].plot.box()\n",
    "df_base.hist(column='traffic_volume')"
   ]
  },
  {
   "cell_type": "markdown",
   "metadata": {},
   "source": [
    "Não há outliers em traffic_volume"
   ]
  },
  {
   "cell_type": "markdown",
   "metadata": {},
   "source": [
    "## Impacto de cada atribuito no Volume de Tráfego"
   ]
  },
  {
   "cell_type": "markdown",
   "metadata": {},
   "source": [
    "Mesmo já sabendo quais os atributos mais correlacionados a **traffic_volume**.\n",
    "Será mostrado como esses atributos interferem no volume de tráfego."
   ]
  },
  {
   "cell_type": "markdown",
   "metadata": {},
   "source": [
    "### Temp"
   ]
  },
  {
   "cell_type": "code",
   "execution_count": 43,
   "metadata": {},
   "outputs": [
    {
     "data": {
      "text/plain": [
       "Text(0, 0.5, 'Tráfego')"
      ]
     },
     "execution_count": 43,
     "metadata": {},
     "output_type": "execute_result"
    },
    {
     "data": {
      "image/png": "[encoded data removed]",
      "text/plain": [
       "<Figure size 432x288 with 1 Axes>"
      ]
     },
     "metadata": {
      "needs_background": "light"
     },
     "output_type": "display_data"
    }
   ],
   "source": [
    "plt.scatter(df_base['temp'],df_base['traffic_volume'],alpha = 0.2)\n",
    "plt.xlabel('Temperatura')\n",
    "plt.ylabel('Tráfego')"
   ]
  },
  {
   "cell_type": "markdown",
   "metadata": {},
   "source": [
    "Quando a temperatura está alta, há um maior volume de tráfego. No entanto, podemos perceber que quando a temperatura está baixa, também há um volume de tráfego, mas não tão grande. Neste caso, alguns outliers, como já citado anteriormente."
   ]
  },
  {
   "cell_type": "markdown",
   "metadata": {},
   "source": [
    "### Clouds_all"
   ]
  },
  {
   "cell_type": "code",
   "execution_count": 46,
   "metadata": {},
   "outputs": [
    {
     "data": {
      "text/plain": [
       "Text(0, 0.5, 'Tráfego')"
      ]
     },
     "execution_count": 46,
     "metadata": {},
     "output_type": "execute_result"
    },
    {
     "data": {
      "image/png": "[encoded data removed]",
      "text/plain": [
       "<Figure size 432x288 with 1 Axes>"
      ]
     },
     "metadata": {
      "needs_background": "light"
     },
     "output_type": "display_data"
    }
   ],
   "source": [
    "plt.scatter(df_base['clouds_all'],df_base['traffic_volume'],alpha = 0.2)\n",
    "plt.xlabel('Clouds_All')\n",
    "plt.ylabel('Tráfego')"
   ]
  },
  {
   "cell_type": "markdown",
   "metadata": {},
   "source": [
    "Pode-se perceber o tamanho da nuvem mais correlaciodos ao volume de tráfego. Há uma distribuição, quase que, uniforme. "
   ]
  },
  {
   "cell_type": "markdown",
   "metadata": {},
   "source": [
    "### Hour"
   ]
  },
  {
   "cell_type": "code",
   "execution_count": 48,
   "metadata": {},
   "outputs": [
    {
     "data": {
      "text/plain": [
       "Text(0, 0.5, 'Tráfego')"
      ]
     },
     "execution_count": 48,
     "metadata": {},
     "output_type": "execute_result"
    },
    {
     "data": {
      "image/png": "[encoded data removed]",
      "text/plain": [
       "<Figure size 432x288 with 1 Axes>"
      ]
     },
     "metadata": {
      "needs_background": "light"
     },
     "output_type": "display_data"
    }
   ],
   "source": [
    "plt.scatter(df_base['hour'],df_base['traffic_volume'],alpha = 0.2)\n",
    "plt.xlabel('Hour')\n",
    "plt.ylabel('Tráfego')"
   ]
  },
  {
   "cell_type": "markdown",
   "metadata": {},
   "source": [
    "Foram identificados que os horários que possuem mais volume de tráfego, foram: **6h, 7h, 8h, 9h, 11h, 12h, 13h, 16h, 17h, 18h**. Então, o tráfego está relacionado aos horários de pico."
   ]
  },
  {
   "cell_type": "markdown",
   "metadata": {},
   "source": [
    "### Weekday"
   ]
  },
  {
   "cell_type": "code",
   "execution_count": 49,
   "metadata": {},
   "outputs": [
    {
     "data": {
      "text/plain": [
       "Text(0, 0.5, 'Tráfego')"
      ]
     },
     "execution_count": 49,
     "metadata": {},
     "output_type": "execute_result"
    },
    {
     "data": {
      "image/png": "[encoded data removed]",
      "text/plain": [
       "<Figure size 432x288 with 1 Axes>"
      ]
     },
     "metadata": {
      "needs_background": "light"
     },
     "output_type": "display_data"
    }
   ],
   "source": [
    "plt.scatter(df_base['weekday'],df_base['traffic_volume'],alpha = 0.2)\n",
    "plt.xlabel('Weekday')\n",
    "plt.ylabel('Tráfego')"
   ]
  },
  {
   "cell_type": "markdown",
   "metadata": {},
   "source": [
    "Pode-se ver que há uma distribuição bem uniforme. Só não há muito "
   ]
  },
  {
   "cell_type": "markdown",
   "metadata": {},
   "source": [
    "# Normalização dos Dados"
   ]
  },
  {
   "cell_type": "markdown",
   "metadata": {},
   "source": [
    "A  aplicação da normalização de dados se faz necessária para evitar que alguns atributos predominem sobre outros. E a normalização de dados também trata melhor dos outliers, e na base de dados foram encontrados outliers.  "
   ]
  },
  {
   "cell_type": "code",
   "execution_count": 51,
   "metadata": {},
   "outputs": [
    {
     "data": {
      "text/html": [
       "<div>\n",
       "<style scoped>\n",
       "    .dataframe tbody tr th:only-of-type {\n",
       "        vertical-align: middle;\n",
       "    }\n",
       "\n",
       "    .dataframe tbody tr th {\n",
       "        vertical-align: top;\n",
       "    }\n",
       "\n",
       "    .dataframe thead th {\n",
       "        text-align: right;\n",
       "    }\n",
       "</style>\n",
       "<table border=\"1\" class=\"dataframe\">\n",
       "  <thead>\n",
       "    <tr style=\"text-align: right;\">\n",
       "      <th></th>\n",
       "      <th>temp</th>\n",
       "      <th>clouds_all</th>\n",
       "      <th>hour</th>\n",
       "      <th>weekday</th>\n",
       "      <th>traffic_volume</th>\n",
       "    </tr>\n",
       "  </thead>\n",
       "  <tbody>\n",
       "    <tr>\n",
       "      <td>0</td>\n",
       "      <td>0.296753</td>\n",
       "      <td>-0.269663</td>\n",
       "      <td>-0.166667</td>\n",
       "      <td>-0.5</td>\n",
       "      <td>5545</td>\n",
       "    </tr>\n",
       "    <tr>\n",
       "      <td>1</td>\n",
       "      <td>0.351726</td>\n",
       "      <td>0.123596</td>\n",
       "      <td>-0.083333</td>\n",
       "      <td>-0.5</td>\n",
       "      <td>4516</td>\n",
       "    </tr>\n",
       "    <tr>\n",
       "      <td>2</td>\n",
       "      <td>0.362924</td>\n",
       "      <td>0.292135</td>\n",
       "      <td>0.000000</td>\n",
       "      <td>-0.5</td>\n",
       "      <td>4767</td>\n",
       "    </tr>\n",
       "    <tr>\n",
       "      <td>3</td>\n",
       "      <td>0.390919</td>\n",
       "      <td>0.292135</td>\n",
       "      <td>0.083333</td>\n",
       "      <td>-0.5</td>\n",
       "      <td>5026</td>\n",
       "    </tr>\n",
       "    <tr>\n",
       "      <td>4</td>\n",
       "      <td>0.442329</td>\n",
       "      <td>0.123596</td>\n",
       "      <td>0.166667</td>\n",
       "      <td>-0.5</td>\n",
       "      <td>4918</td>\n",
       "    </tr>\n",
       "  </tbody>\n",
       "</table>\n",
       "</div>"
      ],
      "text/plain": [
       "       temp  clouds_all      hour  weekday  traffic_volume\n",
       "0  0.296753   -0.269663 -0.166667     -0.5            5545\n",
       "1  0.351726    0.123596 -0.083333     -0.5            4516\n",
       "2  0.362924    0.292135  0.000000     -0.5            4767\n",
       "3  0.390919    0.292135  0.083333     -0.5            5026\n",
       "4  0.442329    0.123596  0.166667     -0.5            4918"
      ]
     },
     "execution_count": 51,
     "metadata": {},
     "output_type": "execute_result"
    }
   ],
   "source": [
    "num = df_base.select_dtypes(['float64', 'int64']).columns.values\n",
    "num = np.delete(num, np.argwhere(num == 'traffic_volume'))\n",
    "\n",
    "scaler = preprocessing.RobustScaler()\n",
    "scaled = pd.concat([pd.DataFrame(scaler.fit_transform(df_base[num]), columns = num), df_base['traffic_volume']], axis=1)\n",
    "\n",
    "scaled.head()"
   ]
  },
  {
   "cell_type": "markdown",
   "metadata": {},
   "source": [
    "# Divisão da Base de Dados - 70/30"
   ]
  },
  {
   "cell_type": "markdown",
   "metadata": {},
   "source": [
    "# Aplicação do KNN"
   ]
  },
  {
   "cell_type": "code",
   "execution_count": null,
   "metadata": {},
   "outputs": [],
   "source": []
  },
  {
   "cell_type": "code",
   "execution_count": null,
   "metadata": {},
   "outputs": [],
   "source": []
  },
  {
   "cell_type": "markdown",
   "metadata": {},
   "source": [
    "# Árvore de Decisão"
   ]
  },
  {
   "cell_type": "code",
   "execution_count": null,
   "metadata": {},
   "outputs": [],
   "source": []
  },
  {
   "cell_type": "code",
   "execution_count": null,
   "metadata": {},
   "outputs": [],
   "source": []
  },
  {
   "cell_type": "markdown",
   "metadata": {},
   "source": [
    "# Validação Cruzada"
   ]
  },
  {
   "cell_type": "code",
   "execution_count": null,
   "metadata": {},
   "outputs": [],
   "source": []
  },
  {
   "cell_type": "code",
   "execution_count": null,
   "metadata": {},
   "outputs": [],
   "source": []
  }
 ],
 "metadata": {
  "kernelspec": {
   "display_name": "Python 3",
   "language": "python",
   "name": "python3"
  },
  "language_info": {
   "codemirror_mode": {
    "name": "ipython",
    "version": 3
   },
   "file_extension": ".py",
   "mimetype": "text/x-python",
   "name": "python",
   "nbconvert_exporter": "python",
   "pygments_lexer": "ipython3",
   "version": "3.7.4"
  }
 },
 "nbformat": 4,
 "nbformat_minor": 2
}
