{
 "cells": [
  {
   "cell_type": "markdown",
   "metadata": {},
   "source": [
    "# Regressão \n",
    "Teste dois métodos de aprendizagem de máquina para identificar o que apresenta melhores resultados na previsão do volume de tráfego. Avaliem o impacto de usar validação cruzada (com 10 grupos) e split (70% para treinamento e 30% para teste). Para esse último, execute o experimento duas vezes selecionando as instâncias aleatoriamente para o treinamento e teste e avalie o impacto nos resultados.\n",
    "\n",
    "Outras informações como dia da semana podem ser inclusas.\n"
   ]
  },
  {
   "cell_type": "markdown",
   "metadata": {},
   "source": [
    "# Bibliotecas"
   ]
  },
  {
   "cell_type": "code",
   "execution_count": 4,
   "metadata": {},
   "outputs": [],
   "source": [
    "import datetime\n",
    "\n",
    "import pandas as pd\n",
    "import numpy as np\n",
    "import matplotlib.pyplot as plt\n",
    "import matplotlib.lines as mlines\n",
    "import matplotlib.transforms as mtransforms\n",
    "import seaborn as sns\n",
    "\n",
    "from sklearn import preprocessing, neighbors, model_selection, metrics, tree"
   ]
  },
  {
   "cell_type": "markdown",
   "metadata": {},
   "source": [
    "# Base de Dados"
   ]
  },
  {
   "cell_type": "code",
   "execution_count": 6,
   "metadata": {
    "scrolled": true
   },
   "outputs": [
    {
     "data": {
      "text/html": [
       "<div>\n",
       "<style scoped>\n",
       "    .dataframe tbody tr th:only-of-type {\n",
       "        vertical-align: middle;\n",
       "    }\n",
       "\n",
       "    .dataframe tbody tr th {\n",
       "        vertical-align: top;\n",
       "    }\n",
       "\n",
       "    .dataframe thead th {\n",
       "        text-align: right;\n",
       "    }\n",
       "</style>\n",
       "<table border=\"1\" class=\"dataframe\">\n",
       "  <thead>\n",
       "    <tr style=\"text-align: right;\">\n",
       "      <th></th>\n",
       "      <th>holiday</th>\n",
       "      <th>temp</th>\n",
       "      <th>rain_1h</th>\n",
       "      <th>snow_1h</th>\n",
       "      <th>clouds_all</th>\n",
       "      <th>weather_main</th>\n",
       "      <th>weather_description</th>\n",
       "      <th>date_time</th>\n",
       "      <th>traffic_volume</th>\n",
       "    </tr>\n",
       "  </thead>\n",
       "  <tbody>\n",
       "    <tr>\n",
       "      <td>0</td>\n",
       "      <td>None</td>\n",
       "      <td>288.28</td>\n",
       "      <td>0.0</td>\n",
       "      <td>0.0</td>\n",
       "      <td>40</td>\n",
       "      <td>Clouds</td>\n",
       "      <td>scattered clouds</td>\n",
       "      <td>2012-10-02 09:00:00</td>\n",
       "      <td>5545</td>\n",
       "    </tr>\n",
       "    <tr>\n",
       "      <td>1</td>\n",
       "      <td>None</td>\n",
       "      <td>289.36</td>\n",
       "      <td>0.0</td>\n",
       "      <td>0.0</td>\n",
       "      <td>75</td>\n",
       "      <td>Clouds</td>\n",
       "      <td>broken clouds</td>\n",
       "      <td>2012-10-02 10:00:00</td>\n",
       "      <td>4516</td>\n",
       "    </tr>\n",
       "    <tr>\n",
       "      <td>2</td>\n",
       "      <td>None</td>\n",
       "      <td>289.58</td>\n",
       "      <td>0.0</td>\n",
       "      <td>0.0</td>\n",
       "      <td>90</td>\n",
       "      <td>Clouds</td>\n",
       "      <td>overcast clouds</td>\n",
       "      <td>2012-10-02 11:00:00</td>\n",
       "      <td>4767</td>\n",
       "    </tr>\n",
       "    <tr>\n",
       "      <td>3</td>\n",
       "      <td>None</td>\n",
       "      <td>290.13</td>\n",
       "      <td>0.0</td>\n",
       "      <td>0.0</td>\n",
       "      <td>90</td>\n",
       "      <td>Clouds</td>\n",
       "      <td>overcast clouds</td>\n",
       "      <td>2012-10-02 12:00:00</td>\n",
       "      <td>5026</td>\n",
       "    </tr>\n",
       "    <tr>\n",
       "      <td>4</td>\n",
       "      <td>None</td>\n",
       "      <td>291.14</td>\n",
       "      <td>0.0</td>\n",
       "      <td>0.0</td>\n",
       "      <td>75</td>\n",
       "      <td>Clouds</td>\n",
       "      <td>broken clouds</td>\n",
       "      <td>2012-10-02 13:00:00</td>\n",
       "      <td>4918</td>\n",
       "    </tr>\n",
       "    <tr>\n",
       "      <td>...</td>\n",
       "      <td>...</td>\n",
       "      <td>...</td>\n",
       "      <td>...</td>\n",
       "      <td>...</td>\n",
       "      <td>...</td>\n",
       "      <td>...</td>\n",
       "      <td>...</td>\n",
       "      <td>...</td>\n",
       "      <td>...</td>\n",
       "    </tr>\n",
       "    <tr>\n",
       "      <td>48199</td>\n",
       "      <td>None</td>\n",
       "      <td>283.45</td>\n",
       "      <td>0.0</td>\n",
       "      <td>0.0</td>\n",
       "      <td>75</td>\n",
       "      <td>Clouds</td>\n",
       "      <td>broken clouds</td>\n",
       "      <td>2018-09-30 19:00:00</td>\n",
       "      <td>3543</td>\n",
       "    </tr>\n",
       "    <tr>\n",
       "      <td>48200</td>\n",
       "      <td>None</td>\n",
       "      <td>282.76</td>\n",
       "      <td>0.0</td>\n",
       "      <td>0.0</td>\n",
       "      <td>90</td>\n",
       "      <td>Clouds</td>\n",
       "      <td>overcast clouds</td>\n",
       "      <td>2018-09-30 20:00:00</td>\n",
       "      <td>2781</td>\n",
       "    </tr>\n",
       "    <tr>\n",
       "      <td>48201</td>\n",
       "      <td>None</td>\n",
       "      <td>282.73</td>\n",
       "      <td>0.0</td>\n",
       "      <td>0.0</td>\n",
       "      <td>90</td>\n",
       "      <td>Thunderstorm</td>\n",
       "      <td>proximity thunderstorm</td>\n",
       "      <td>2018-09-30 21:00:00</td>\n",
       "      <td>2159</td>\n",
       "    </tr>\n",
       "    <tr>\n",
       "      <td>48202</td>\n",
       "      <td>None</td>\n",
       "      <td>282.09</td>\n",
       "      <td>0.0</td>\n",
       "      <td>0.0</td>\n",
       "      <td>90</td>\n",
       "      <td>Clouds</td>\n",
       "      <td>overcast clouds</td>\n",
       "      <td>2018-09-30 22:00:00</td>\n",
       "      <td>1450</td>\n",
       "    </tr>\n",
       "    <tr>\n",
       "      <td>48203</td>\n",
       "      <td>None</td>\n",
       "      <td>282.12</td>\n",
       "      <td>0.0</td>\n",
       "      <td>0.0</td>\n",
       "      <td>90</td>\n",
       "      <td>Clouds</td>\n",
       "      <td>overcast clouds</td>\n",
       "      <td>2018-09-30 23:00:00</td>\n",
       "      <td>954</td>\n",
       "    </tr>\n",
       "  </tbody>\n",
       "</table>\n",
       "<p>48204 rows × 9 columns</p>\n",
       "</div>"
      ],
      "text/plain": [
       "      holiday    temp  rain_1h  snow_1h  clouds_all  weather_main  \\\n",
       "0        None  288.28      0.0      0.0          40        Clouds   \n",
       "1        None  289.36      0.0      0.0          75        Clouds   \n",
       "2        None  289.58      0.0      0.0          90        Clouds   \n",
       "3        None  290.13      0.0      0.0          90        Clouds   \n",
       "4        None  291.14      0.0      0.0          75        Clouds   \n",
       "...       ...     ...      ...      ...         ...           ...   \n",
       "48199    None  283.45      0.0      0.0          75        Clouds   \n",
       "48200    None  282.76      0.0      0.0          90        Clouds   \n",
       "48201    None  282.73      0.0      0.0          90  Thunderstorm   \n",
       "48202    None  282.09      0.0      0.0          90        Clouds   \n",
       "48203    None  282.12      0.0      0.0          90        Clouds   \n",
       "\n",
       "          weather_description            date_time  traffic_volume  \n",
       "0            scattered clouds  2012-10-02 09:00:00            5545  \n",
       "1               broken clouds  2012-10-02 10:00:00            4516  \n",
       "2             overcast clouds  2012-10-02 11:00:00            4767  \n",
       "3             overcast clouds  2012-10-02 12:00:00            5026  \n",
       "4               broken clouds  2012-10-02 13:00:00            4918  \n",
       "...                       ...                  ...             ...  \n",
       "48199           broken clouds  2018-09-30 19:00:00            3543  \n",
       "48200         overcast clouds  2018-09-30 20:00:00            2781  \n",
       "48201  proximity thunderstorm  2018-09-30 21:00:00            2159  \n",
       "48202         overcast clouds  2018-09-30 22:00:00            1450  \n",
       "48203         overcast clouds  2018-09-30 23:00:00             954  \n",
       "\n",
       "[48204 rows x 9 columns]"
      ]
     },
     "execution_count": 6,
     "metadata": {},
     "output_type": "execute_result"
    }
   ],
   "source": [
    "df_base = pd.read_csv('Metro_Interstate_Traffic_Volume.csv',delimiter=',') \n",
    "df_base"
   ]
  },
  {
   "cell_type": "code",
   "execution_count": 7,
   "metadata": {},
   "outputs": [
    {
     "name": "stdout",
     "output_type": "stream",
     "text": [
      "<class 'pandas.core.frame.DataFrame'>\n",
      "RangeIndex: 48204 entries, 0 to 48203\n",
      "Data columns (total 9 columns):\n",
      "holiday                48204 non-null object\n",
      "temp                   48204 non-null float64\n",
      "rain_1h                48204 non-null float64\n",
      "snow_1h                48204 non-null float64\n",
      "clouds_all             48204 non-null int64\n",
      "weather_main           48204 non-null object\n",
      "weather_description    48204 non-null object\n",
      "date_time              48204 non-null object\n",
      "traffic_volume         48204 non-null int64\n",
      "dtypes: float64(3), int64(2), object(4)\n",
      "memory usage: 3.3+ MB\n"
     ]
    }
   ],
   "source": [
    "df_base.info()"
   ]
  },
  {
   "cell_type": "markdown",
   "metadata": {},
   "source": [
    "A base de dados possui tanto dados numéricos como dados não numéricos."
   ]
  },
  {
   "cell_type": "markdown",
   "metadata": {},
   "source": [
    "# Verificando Base de Dados"
   ]
  },
  {
   "cell_type": "markdown",
   "metadata": {},
   "source": [
    "## Dados Faltosos"
   ]
  },
  {
   "cell_type": "code",
   "execution_count": 8,
   "metadata": {},
   "outputs": [
    {
     "data": {
      "text/plain": [
       "holiday                0\n",
       "temp                   0\n",
       "rain_1h                0\n",
       "snow_1h                0\n",
       "clouds_all             0\n",
       "weather_main           0\n",
       "weather_description    0\n",
       "date_time              0\n",
       "traffic_volume         0\n",
       "dtype: int64"
      ]
     },
     "execution_count": 8,
     "metadata": {},
     "output_type": "execute_result"
    }
   ],
   "source": [
    "df_base.isnull().sum()"
   ]
  },
  {
   "cell_type": "markdown",
   "metadata": {},
   "source": [
    "Não há nenhuma instância nula nos atributos."
   ]
  },
  {
   "cell_type": "markdown",
   "metadata": {},
   "source": [
    "## Dados Duplicados"
   ]
  },
  {
   "cell_type": "code",
   "execution_count": 9,
   "metadata": {},
   "outputs": [
    {
     "data": {
      "text/html": [
       "<div>\n",
       "<style scoped>\n",
       "    .dataframe tbody tr th:only-of-type {\n",
       "        vertical-align: middle;\n",
       "    }\n",
       "\n",
       "    .dataframe tbody tr th {\n",
       "        vertical-align: top;\n",
       "    }\n",
       "\n",
       "    .dataframe thead th {\n",
       "        text-align: right;\n",
       "    }\n",
       "</style>\n",
       "<table border=\"1\" class=\"dataframe\">\n",
       "  <thead>\n",
       "    <tr style=\"text-align: right;\">\n",
       "      <th></th>\n",
       "      <th>holiday</th>\n",
       "      <th>temp</th>\n",
       "      <th>rain_1h</th>\n",
       "      <th>snow_1h</th>\n",
       "      <th>clouds_all</th>\n",
       "      <th>weather_main</th>\n",
       "      <th>weather_description</th>\n",
       "      <th>date_time</th>\n",
       "      <th>traffic_volume</th>\n",
       "    </tr>\n",
       "  </thead>\n",
       "  <tbody>\n",
       "    <tr>\n",
       "      <td>18696</td>\n",
       "      <td>None</td>\n",
       "      <td>286.290</td>\n",
       "      <td>0.0</td>\n",
       "      <td>0.0</td>\n",
       "      <td>1</td>\n",
       "      <td>Clear</td>\n",
       "      <td>sky is clear</td>\n",
       "      <td>2015-09-30 19:00:00</td>\n",
       "      <td>3679</td>\n",
       "    </tr>\n",
       "    <tr>\n",
       "      <td>18697</td>\n",
       "      <td>None</td>\n",
       "      <td>286.290</td>\n",
       "      <td>0.0</td>\n",
       "      <td>0.0</td>\n",
       "      <td>1</td>\n",
       "      <td>Clear</td>\n",
       "      <td>sky is clear</td>\n",
       "      <td>2015-09-30 19:00:00</td>\n",
       "      <td>3679</td>\n",
       "    </tr>\n",
       "    <tr>\n",
       "      <td>23850</td>\n",
       "      <td>None</td>\n",
       "      <td>289.060</td>\n",
       "      <td>0.0</td>\n",
       "      <td>0.0</td>\n",
       "      <td>90</td>\n",
       "      <td>Clouds</td>\n",
       "      <td>overcast clouds</td>\n",
       "      <td>2016-06-01 10:00:00</td>\n",
       "      <td>4831</td>\n",
       "    </tr>\n",
       "    <tr>\n",
       "      <td>23851</td>\n",
       "      <td>None</td>\n",
       "      <td>289.060</td>\n",
       "      <td>0.0</td>\n",
       "      <td>0.0</td>\n",
       "      <td>90</td>\n",
       "      <td>Clouds</td>\n",
       "      <td>overcast clouds</td>\n",
       "      <td>2016-06-01 10:00:00</td>\n",
       "      <td>4831</td>\n",
       "    </tr>\n",
       "    <tr>\n",
       "      <td>26783</td>\n",
       "      <td>None</td>\n",
       "      <td>289.775</td>\n",
       "      <td>0.0</td>\n",
       "      <td>0.0</td>\n",
       "      <td>56</td>\n",
       "      <td>Clouds</td>\n",
       "      <td>broken clouds</td>\n",
       "      <td>2016-09-21 15:00:00</td>\n",
       "      <td>5365</td>\n",
       "    </tr>\n",
       "    <tr>\n",
       "      <td>26784</td>\n",
       "      <td>None</td>\n",
       "      <td>289.775</td>\n",
       "      <td>0.0</td>\n",
       "      <td>0.0</td>\n",
       "      <td>56</td>\n",
       "      <td>Clouds</td>\n",
       "      <td>broken clouds</td>\n",
       "      <td>2016-09-21 15:00:00</td>\n",
       "      <td>5365</td>\n",
       "    </tr>\n",
       "    <tr>\n",
       "      <td>26979</td>\n",
       "      <td>None</td>\n",
       "      <td>287.860</td>\n",
       "      <td>0.0</td>\n",
       "      <td>0.0</td>\n",
       "      <td>0</td>\n",
       "      <td>Clear</td>\n",
       "      <td>Sky is Clear</td>\n",
       "      <td>2016-09-29 19:00:00</td>\n",
       "      <td>3435</td>\n",
       "    </tr>\n",
       "    <tr>\n",
       "      <td>26980</td>\n",
       "      <td>None</td>\n",
       "      <td>287.860</td>\n",
       "      <td>0.0</td>\n",
       "      <td>0.0</td>\n",
       "      <td>0</td>\n",
       "      <td>Clear</td>\n",
       "      <td>Sky is Clear</td>\n",
       "      <td>2016-09-29 19:00:00</td>\n",
       "      <td>3435</td>\n",
       "    </tr>\n",
       "    <tr>\n",
       "      <td>27170</td>\n",
       "      <td>None</td>\n",
       "      <td>279.287</td>\n",
       "      <td>0.0</td>\n",
       "      <td>0.0</td>\n",
       "      <td>56</td>\n",
       "      <td>Clouds</td>\n",
       "      <td>broken clouds</td>\n",
       "      <td>2016-10-07 18:00:00</td>\n",
       "      <td>4642</td>\n",
       "    </tr>\n",
       "    <tr>\n",
       "      <td>27171</td>\n",
       "      <td>None</td>\n",
       "      <td>279.287</td>\n",
       "      <td>0.0</td>\n",
       "      <td>0.0</td>\n",
       "      <td>56</td>\n",
       "      <td>Clouds</td>\n",
       "      <td>broken clouds</td>\n",
       "      <td>2016-10-07 18:00:00</td>\n",
       "      <td>4642</td>\n",
       "    </tr>\n",
       "    <tr>\n",
       "      <td>28878</td>\n",
       "      <td>None</td>\n",
       "      <td>267.890</td>\n",
       "      <td>0.0</td>\n",
       "      <td>0.0</td>\n",
       "      <td>90</td>\n",
       "      <td>Snow</td>\n",
       "      <td>light snow</td>\n",
       "      <td>2016-12-06 18:00:00</td>\n",
       "      <td>4520</td>\n",
       "    </tr>\n",
       "    <tr>\n",
       "      <td>28879</td>\n",
       "      <td>None</td>\n",
       "      <td>267.890</td>\n",
       "      <td>0.0</td>\n",
       "      <td>0.0</td>\n",
       "      <td>90</td>\n",
       "      <td>Snow</td>\n",
       "      <td>light snow</td>\n",
       "      <td>2016-12-06 18:00:00</td>\n",
       "      <td>4520</td>\n",
       "    </tr>\n",
       "    <tr>\n",
       "      <td>29267</td>\n",
       "      <td>None</td>\n",
       "      <td>254.220</td>\n",
       "      <td>0.0</td>\n",
       "      <td>0.0</td>\n",
       "      <td>1</td>\n",
       "      <td>Clear</td>\n",
       "      <td>sky is clear</td>\n",
       "      <td>2016-12-19 00:00:00</td>\n",
       "      <td>420</td>\n",
       "    </tr>\n",
       "    <tr>\n",
       "      <td>29268</td>\n",
       "      <td>None</td>\n",
       "      <td>254.220</td>\n",
       "      <td>0.0</td>\n",
       "      <td>0.0</td>\n",
       "      <td>1</td>\n",
       "      <td>Clear</td>\n",
       "      <td>sky is clear</td>\n",
       "      <td>2016-12-19 00:00:00</td>\n",
       "      <td>420</td>\n",
       "    </tr>\n",
       "    <tr>\n",
       "      <td>34710</td>\n",
       "      <td>None</td>\n",
       "      <td>295.010</td>\n",
       "      <td>0.0</td>\n",
       "      <td>0.0</td>\n",
       "      <td>40</td>\n",
       "      <td>Clouds</td>\n",
       "      <td>scattered clouds</td>\n",
       "      <td>2017-06-21 11:00:00</td>\n",
       "      <td>4808</td>\n",
       "    </tr>\n",
       "    <tr>\n",
       "      <td>34711</td>\n",
       "      <td>None</td>\n",
       "      <td>295.010</td>\n",
       "      <td>0.0</td>\n",
       "      <td>0.0</td>\n",
       "      <td>40</td>\n",
       "      <td>Clouds</td>\n",
       "      <td>scattered clouds</td>\n",
       "      <td>2017-06-21 11:00:00</td>\n",
       "      <td>4808</td>\n",
       "    </tr>\n",
       "    <tr>\n",
       "      <td>34966</td>\n",
       "      <td>None</td>\n",
       "      <td>292.840</td>\n",
       "      <td>0.0</td>\n",
       "      <td>0.0</td>\n",
       "      <td>1</td>\n",
       "      <td>Clear</td>\n",
       "      <td>sky is clear</td>\n",
       "      <td>2017-06-30 10:00:00</td>\n",
       "      <td>4638</td>\n",
       "    </tr>\n",
       "    <tr>\n",
       "      <td>34967</td>\n",
       "      <td>None</td>\n",
       "      <td>292.840</td>\n",
       "      <td>0.0</td>\n",
       "      <td>0.0</td>\n",
       "      <td>1</td>\n",
       "      <td>Clear</td>\n",
       "      <td>sky is clear</td>\n",
       "      <td>2017-06-30 10:00:00</td>\n",
       "      <td>4638</td>\n",
       "    </tr>\n",
       "    <tr>\n",
       "      <td>34968</td>\n",
       "      <td>None</td>\n",
       "      <td>294.520</td>\n",
       "      <td>0.0</td>\n",
       "      <td>0.0</td>\n",
       "      <td>1</td>\n",
       "      <td>Clear</td>\n",
       "      <td>sky is clear</td>\n",
       "      <td>2017-06-30 11:00:00</td>\n",
       "      <td>4725</td>\n",
       "    </tr>\n",
       "    <tr>\n",
       "      <td>34969</td>\n",
       "      <td>None</td>\n",
       "      <td>294.520</td>\n",
       "      <td>0.0</td>\n",
       "      <td>0.0</td>\n",
       "      <td>1</td>\n",
       "      <td>Clear</td>\n",
       "      <td>sky is clear</td>\n",
       "      <td>2017-06-30 11:00:00</td>\n",
       "      <td>4725</td>\n",
       "    </tr>\n",
       "    <tr>\n",
       "      <td>34970</td>\n",
       "      <td>None</td>\n",
       "      <td>295.770</td>\n",
       "      <td>0.0</td>\n",
       "      <td>0.0</td>\n",
       "      <td>75</td>\n",
       "      <td>Clouds</td>\n",
       "      <td>broken clouds</td>\n",
       "      <td>2017-06-30 12:00:00</td>\n",
       "      <td>5229</td>\n",
       "    </tr>\n",
       "    <tr>\n",
       "      <td>34971</td>\n",
       "      <td>None</td>\n",
       "      <td>295.770</td>\n",
       "      <td>0.0</td>\n",
       "      <td>0.0</td>\n",
       "      <td>75</td>\n",
       "      <td>Clouds</td>\n",
       "      <td>broken clouds</td>\n",
       "      <td>2017-06-30 12:00:00</td>\n",
       "      <td>5229</td>\n",
       "    </tr>\n",
       "    <tr>\n",
       "      <td>34972</td>\n",
       "      <td>None</td>\n",
       "      <td>296.950</td>\n",
       "      <td>0.0</td>\n",
       "      <td>0.0</td>\n",
       "      <td>1</td>\n",
       "      <td>Thunderstorm</td>\n",
       "      <td>thunderstorm</td>\n",
       "      <td>2017-06-30 13:00:00</td>\n",
       "      <td>5263</td>\n",
       "    </tr>\n",
       "    <tr>\n",
       "      <td>34973</td>\n",
       "      <td>None</td>\n",
       "      <td>296.950</td>\n",
       "      <td>0.0</td>\n",
       "      <td>0.0</td>\n",
       "      <td>1</td>\n",
       "      <td>Thunderstorm</td>\n",
       "      <td>thunderstorm</td>\n",
       "      <td>2017-06-30 13:00:00</td>\n",
       "      <td>5263</td>\n",
       "    </tr>\n",
       "    <tr>\n",
       "      <td>37571</td>\n",
       "      <td>None</td>\n",
       "      <td>288.890</td>\n",
       "      <td>0.0</td>\n",
       "      <td>0.0</td>\n",
       "      <td>1</td>\n",
       "      <td>Clear</td>\n",
       "      <td>sky is clear</td>\n",
       "      <td>2017-09-29 19:00:00</td>\n",
       "      <td>4498</td>\n",
       "    </tr>\n",
       "    <tr>\n",
       "      <td>37572</td>\n",
       "      <td>None</td>\n",
       "      <td>288.890</td>\n",
       "      <td>0.0</td>\n",
       "      <td>0.0</td>\n",
       "      <td>1</td>\n",
       "      <td>Clear</td>\n",
       "      <td>sky is clear</td>\n",
       "      <td>2017-09-29 19:00:00</td>\n",
       "      <td>4498</td>\n",
       "    </tr>\n",
       "    <tr>\n",
       "      <td>38674</td>\n",
       "      <td>None</td>\n",
       "      <td>278.720</td>\n",
       "      <td>0.0</td>\n",
       "      <td>0.0</td>\n",
       "      <td>90</td>\n",
       "      <td>Drizzle</td>\n",
       "      <td>light intensity drizzle</td>\n",
       "      <td>2017-11-05 01:00:00</td>\n",
       "      <td>629</td>\n",
       "    </tr>\n",
       "    <tr>\n",
       "      <td>38675</td>\n",
       "      <td>None</td>\n",
       "      <td>278.720</td>\n",
       "      <td>0.0</td>\n",
       "      <td>0.0</td>\n",
       "      <td>90</td>\n",
       "      <td>Mist</td>\n",
       "      <td>mist</td>\n",
       "      <td>2017-11-05 01:00:00</td>\n",
       "      <td>629</td>\n",
       "    </tr>\n",
       "    <tr>\n",
       "      <td>38676</td>\n",
       "      <td>None</td>\n",
       "      <td>278.720</td>\n",
       "      <td>0.0</td>\n",
       "      <td>0.0</td>\n",
       "      <td>90</td>\n",
       "      <td>Drizzle</td>\n",
       "      <td>light intensity drizzle</td>\n",
       "      <td>2017-11-05 01:00:00</td>\n",
       "      <td>629</td>\n",
       "    </tr>\n",
       "    <tr>\n",
       "      <td>38677</td>\n",
       "      <td>None</td>\n",
       "      <td>278.720</td>\n",
       "      <td>0.0</td>\n",
       "      <td>0.0</td>\n",
       "      <td>90</td>\n",
       "      <td>Mist</td>\n",
       "      <td>mist</td>\n",
       "      <td>2017-11-05 01:00:00</td>\n",
       "      <td>629</td>\n",
       "    </tr>\n",
       "    <tr>\n",
       "      <td>39526</td>\n",
       "      <td>None</td>\n",
       "      <td>266.220</td>\n",
       "      <td>0.0</td>\n",
       "      <td>0.0</td>\n",
       "      <td>1</td>\n",
       "      <td>Clear</td>\n",
       "      <td>sky is clear</td>\n",
       "      <td>2017-12-05 18:00:00</td>\n",
       "      <td>3936</td>\n",
       "    </tr>\n",
       "    <tr>\n",
       "      <td>39527</td>\n",
       "      <td>None</td>\n",
       "      <td>266.220</td>\n",
       "      <td>0.0</td>\n",
       "      <td>0.0</td>\n",
       "      <td>1</td>\n",
       "      <td>Clear</td>\n",
       "      <td>sky is clear</td>\n",
       "      <td>2017-12-05 18:00:00</td>\n",
       "      <td>3936</td>\n",
       "    </tr>\n",
       "    <tr>\n",
       "      <td>48172</td>\n",
       "      <td>None</td>\n",
       "      <td>280.680</td>\n",
       "      <td>0.0</td>\n",
       "      <td>0.0</td>\n",
       "      <td>90</td>\n",
       "      <td>Clouds</td>\n",
       "      <td>overcast clouds</td>\n",
       "      <td>2018-09-29 19:00:00</td>\n",
       "      <td>3818</td>\n",
       "    </tr>\n",
       "    <tr>\n",
       "      <td>48173</td>\n",
       "      <td>None</td>\n",
       "      <td>280.680</td>\n",
       "      <td>0.0</td>\n",
       "      <td>0.0</td>\n",
       "      <td>90</td>\n",
       "      <td>Clouds</td>\n",
       "      <td>overcast clouds</td>\n",
       "      <td>2018-09-29 19:00:00</td>\n",
       "      <td>3818</td>\n",
       "    </tr>\n",
       "  </tbody>\n",
       "</table>\n",
       "</div>"
      ],
      "text/plain": [
       "      holiday     temp  rain_1h  snow_1h  clouds_all  weather_main  \\\n",
       "18696    None  286.290      0.0      0.0           1         Clear   \n",
       "18697    None  286.290      0.0      0.0           1         Clear   \n",
       "23850    None  289.060      0.0      0.0          90        Clouds   \n",
       "23851    None  289.060      0.0      0.0          90        Clouds   \n",
       "26783    None  289.775      0.0      0.0          56        Clouds   \n",
       "26784    None  289.775      0.0      0.0          56        Clouds   \n",
       "26979    None  287.860      0.0      0.0           0         Clear   \n",
       "26980    None  287.860      0.0      0.0           0         Clear   \n",
       "27170    None  279.287      0.0      0.0          56        Clouds   \n",
       "27171    None  279.287      0.0      0.0          56        Clouds   \n",
       "28878    None  267.890      0.0      0.0          90          Snow   \n",
       "28879    None  267.890      0.0      0.0          90          Snow   \n",
       "29267    None  254.220      0.0      0.0           1         Clear   \n",
       "29268    None  254.220      0.0      0.0           1         Clear   \n",
       "34710    None  295.010      0.0      0.0          40        Clouds   \n",
       "34711    None  295.010      0.0      0.0          40        Clouds   \n",
       "34966    None  292.840      0.0      0.0           1         Clear   \n",
       "34967    None  292.840      0.0      0.0           1         Clear   \n",
       "34968    None  294.520      0.0      0.0           1         Clear   \n",
       "34969    None  294.520      0.0      0.0           1         Clear   \n",
       "34970    None  295.770      0.0      0.0          75        Clouds   \n",
       "34971    None  295.770      0.0      0.0          75        Clouds   \n",
       "34972    None  296.950      0.0      0.0           1  Thunderstorm   \n",
       "34973    None  296.950      0.0      0.0           1  Thunderstorm   \n",
       "37571    None  288.890      0.0      0.0           1         Clear   \n",
       "37572    None  288.890      0.0      0.0           1         Clear   \n",
       "38674    None  278.720      0.0      0.0          90       Drizzle   \n",
       "38675    None  278.720      0.0      0.0          90          Mist   \n",
       "38676    None  278.720      0.0      0.0          90       Drizzle   \n",
       "38677    None  278.720      0.0      0.0          90          Mist   \n",
       "39526    None  266.220      0.0      0.0           1         Clear   \n",
       "39527    None  266.220      0.0      0.0           1         Clear   \n",
       "48172    None  280.680      0.0      0.0          90        Clouds   \n",
       "48173    None  280.680      0.0      0.0          90        Clouds   \n",
       "\n",
       "           weather_description            date_time  traffic_volume  \n",
       "18696             sky is clear  2015-09-30 19:00:00            3679  \n",
       "18697             sky is clear  2015-09-30 19:00:00            3679  \n",
       "23850          overcast clouds  2016-06-01 10:00:00            4831  \n",
       "23851          overcast clouds  2016-06-01 10:00:00            4831  \n",
       "26783            broken clouds  2016-09-21 15:00:00            5365  \n",
       "26784            broken clouds  2016-09-21 15:00:00            5365  \n",
       "26979             Sky is Clear  2016-09-29 19:00:00            3435  \n",
       "26980             Sky is Clear  2016-09-29 19:00:00            3435  \n",
       "27170            broken clouds  2016-10-07 18:00:00            4642  \n",
       "27171            broken clouds  2016-10-07 18:00:00            4642  \n",
       "28878               light snow  2016-12-06 18:00:00            4520  \n",
       "28879               light snow  2016-12-06 18:00:00            4520  \n",
       "29267             sky is clear  2016-12-19 00:00:00             420  \n",
       "29268             sky is clear  2016-12-19 00:00:00             420  \n",
       "34710         scattered clouds  2017-06-21 11:00:00            4808  \n",
       "34711         scattered clouds  2017-06-21 11:00:00            4808  \n",
       "34966             sky is clear  2017-06-30 10:00:00            4638  \n",
       "34967             sky is clear  2017-06-30 10:00:00            4638  \n",
       "34968             sky is clear  2017-06-30 11:00:00            4725  \n",
       "34969             sky is clear  2017-06-30 11:00:00            4725  \n",
       "34970            broken clouds  2017-06-30 12:00:00            5229  \n",
       "34971            broken clouds  2017-06-30 12:00:00            5229  \n",
       "34972             thunderstorm  2017-06-30 13:00:00            5263  \n",
       "34973             thunderstorm  2017-06-30 13:00:00            5263  \n",
       "37571             sky is clear  2017-09-29 19:00:00            4498  \n",
       "37572             sky is clear  2017-09-29 19:00:00            4498  \n",
       "38674  light intensity drizzle  2017-11-05 01:00:00             629  \n",
       "38675                     mist  2017-11-05 01:00:00             629  \n",
       "38676  light intensity drizzle  2017-11-05 01:00:00             629  \n",
       "38677                     mist  2017-11-05 01:00:00             629  \n",
       "39526             sky is clear  2017-12-05 18:00:00            3936  \n",
       "39527             sky is clear  2017-12-05 18:00:00            3936  \n",
       "48172          overcast clouds  2018-09-29 19:00:00            3818  \n",
       "48173          overcast clouds  2018-09-29 19:00:00            3818  "
      ]
     },
     "execution_count": 9,
     "metadata": {},
     "output_type": "execute_result"
    }
   ],
   "source": [
    "df_base[df_base.duplicated(keep=False)]"
   ]
  },
  {
   "cell_type": "markdown",
   "metadata": {},
   "source": [
    "Todos os dados duplicados da base de dados serão removidos. 34\n"
   ]
  },
  {
   "cell_type": "code",
   "execution_count": 10,
   "metadata": {},
   "outputs": [],
   "source": [
    "df_base.drop_duplicates(keep = 'first', inplace = True)"
   ]
  },
  {
   "cell_type": "code",
   "execution_count": 11,
   "metadata": {},
   "outputs": [],
   "source": [
    "df_base.reset_index(inplace = True)\n"
   ]
  },
  {
   "cell_type": "code",
   "execution_count": 12,
   "metadata": {},
   "outputs": [],
   "source": [
    "df_base.drop(columns = ['index'],inplace = True)"
   ]
  },
  {
   "cell_type": "markdown",
   "metadata": {},
   "source": [
    "## Dados Não Numéricos"
   ]
  },
  {
   "cell_type": "code",
   "execution_count": 13,
   "metadata": {},
   "outputs": [
    {
     "name": "stdout",
     "output_type": "stream",
     "text": [
      "Valores não numéricos presentes em 'date_time': ['2012-10-02 09:00:00' '2012-10-02 10:00:00' '2012-10-02 11:00:00' ...\n",
      " '2018-09-30 21:00:00' '2018-09-30 22:00:00' '2018-09-30 23:00:00'] \n",
      "\n",
      "\n",
      "Valores não numéricos presentes em 'holiday': ['None' 'Columbus Day' 'Veterans Day' 'Thanksgiving Day' 'Christmas Day'\n",
      " 'New Years Day' 'Washingtons Birthday' 'Memorial Day' 'Independence Day'\n",
      " 'State Fair' 'Labor Day' 'Martin Luther King Jr Day'] \n",
      "\n",
      "\n",
      "Valores não numéricos presentes em 'weather_main': ['Clouds' 'Clear' 'Rain' 'Drizzle' 'Mist' 'Haze' 'Fog' 'Thunderstorm'\n",
      " 'Snow' 'Squall' 'Smoke'] \n",
      "\n",
      "\n",
      "Valores não numéricos presentes em 'weather_description': ['scattered clouds' 'broken clouds' 'overcast clouds' 'sky is clear'\n",
      " 'few clouds' 'light rain' 'light intensity drizzle' 'mist' 'haze' 'fog'\n",
      " 'proximity shower rain' 'drizzle' 'moderate rain' 'heavy intensity rain'\n",
      " 'proximity thunderstorm' 'thunderstorm with light rain'\n",
      " 'proximity thunderstorm with rain' 'heavy snow' 'heavy intensity drizzle'\n",
      " 'snow' 'thunderstorm with heavy rain' 'freezing rain' 'shower snow'\n",
      " 'light rain and snow' 'light intensity shower rain' 'SQUALLS'\n",
      " 'thunderstorm with rain' 'proximity thunderstorm with drizzle'\n",
      " 'thunderstorm' 'Sky is Clear' 'very heavy rain'\n",
      " 'thunderstorm with light drizzle' 'light snow'\n",
      " 'thunderstorm with drizzle' 'smoke' 'shower drizzle' 'light shower snow'\n",
      " 'sleet'] \n",
      "\n",
      "\n"
     ]
    }
   ],
   "source": [
    "print(\"Valores não numéricos presentes em 'date_time':\",df_base['date_time'].unique(), \"\\n\\n\")\n",
    "print(\"Valores não numéricos presentes em 'holiday':\",df_base['holiday'].unique(), \"\\n\\n\")\n",
    "print(\"Valores não numéricos presentes em 'weather_main':\",df_base['weather_main'].unique(), \"\\n\\n\")\n",
    "print(\"Valores não numéricos presentes em 'weather_description':\",df_base['weather_description'].unique(), \"\\n\\n\")"
   ]
  },
  {
   "cell_type": "markdown",
   "metadata": {},
   "source": [
    "## Separando o Date_Time"
   ]
  },
  {
   "cell_type": "markdown",
   "metadata": {},
   "source": [
    "O **date_time** foi expandido em 5 atributos (ano, mês, dia, hora e dia da semana). Isso foi feito para que se possa avaliar, da melhor forma, como a data influencia no volume de tráfego.\n",
    "\n",
    "Sendo assim, não se faz mais necessário manter o atributo **date_time** na base de dados. "
   ]
  },
  {
   "cell_type": "code",
   "execution_count": 14,
   "metadata": {},
   "outputs": [
    {
     "data": {
      "text/html": [
       "<div>\n",
       "<style scoped>\n",
       "    .dataframe tbody tr th:only-of-type {\n",
       "        vertical-align: middle;\n",
       "    }\n",
       "\n",
       "    .dataframe tbody tr th {\n",
       "        vertical-align: top;\n",
       "    }\n",
       "\n",
       "    .dataframe thead th {\n",
       "        text-align: right;\n",
       "    }\n",
       "</style>\n",
       "<table border=\"1\" class=\"dataframe\">\n",
       "  <thead>\n",
       "    <tr style=\"text-align: right;\">\n",
       "      <th></th>\n",
       "      <th>holiday</th>\n",
       "      <th>temp</th>\n",
       "      <th>rain_1h</th>\n",
       "      <th>snow_1h</th>\n",
       "      <th>clouds_all</th>\n",
       "      <th>weather_main</th>\n",
       "      <th>weather_description</th>\n",
       "      <th>date_time</th>\n",
       "      <th>traffic_volume</th>\n",
       "      <th>year</th>\n",
       "      <th>month</th>\n",
       "      <th>day</th>\n",
       "      <th>hour</th>\n",
       "      <th>weekday</th>\n",
       "    </tr>\n",
       "  </thead>\n",
       "  <tbody>\n",
       "    <tr>\n",
       "      <td>0</td>\n",
       "      <td>None</td>\n",
       "      <td>288.28</td>\n",
       "      <td>0.0</td>\n",
       "      <td>0.0</td>\n",
       "      <td>40</td>\n",
       "      <td>Clouds</td>\n",
       "      <td>scattered clouds</td>\n",
       "      <td>2012-10-02 09:00:00</td>\n",
       "      <td>5545</td>\n",
       "      <td>2012</td>\n",
       "      <td>10</td>\n",
       "      <td>2</td>\n",
       "      <td>9</td>\n",
       "      <td>1</td>\n",
       "    </tr>\n",
       "    <tr>\n",
       "      <td>1</td>\n",
       "      <td>None</td>\n",
       "      <td>289.36</td>\n",
       "      <td>0.0</td>\n",
       "      <td>0.0</td>\n",
       "      <td>75</td>\n",
       "      <td>Clouds</td>\n",
       "      <td>broken clouds</td>\n",
       "      <td>2012-10-02 10:00:00</td>\n",
       "      <td>4516</td>\n",
       "      <td>2012</td>\n",
       "      <td>10</td>\n",
       "      <td>2</td>\n",
       "      <td>10</td>\n",
       "      <td>1</td>\n",
       "    </tr>\n",
       "    <tr>\n",
       "      <td>2</td>\n",
       "      <td>None</td>\n",
       "      <td>289.58</td>\n",
       "      <td>0.0</td>\n",
       "      <td>0.0</td>\n",
       "      <td>90</td>\n",
       "      <td>Clouds</td>\n",
       "      <td>overcast clouds</td>\n",
       "      <td>2012-10-02 11:00:00</td>\n",
       "      <td>4767</td>\n",
       "      <td>2012</td>\n",
       "      <td>10</td>\n",
       "      <td>2</td>\n",
       "      <td>11</td>\n",
       "      <td>1</td>\n",
       "    </tr>\n",
       "    <tr>\n",
       "      <td>3</td>\n",
       "      <td>None</td>\n",
       "      <td>290.13</td>\n",
       "      <td>0.0</td>\n",
       "      <td>0.0</td>\n",
       "      <td>90</td>\n",
       "      <td>Clouds</td>\n",
       "      <td>overcast clouds</td>\n",
       "      <td>2012-10-02 12:00:00</td>\n",
       "      <td>5026</td>\n",
       "      <td>2012</td>\n",
       "      <td>10</td>\n",
       "      <td>2</td>\n",
       "      <td>12</td>\n",
       "      <td>1</td>\n",
       "    </tr>\n",
       "    <tr>\n",
       "      <td>4</td>\n",
       "      <td>None</td>\n",
       "      <td>291.14</td>\n",
       "      <td>0.0</td>\n",
       "      <td>0.0</td>\n",
       "      <td>75</td>\n",
       "      <td>Clouds</td>\n",
       "      <td>broken clouds</td>\n",
       "      <td>2012-10-02 13:00:00</td>\n",
       "      <td>4918</td>\n",
       "      <td>2012</td>\n",
       "      <td>10</td>\n",
       "      <td>2</td>\n",
       "      <td>13</td>\n",
       "      <td>1</td>\n",
       "    </tr>\n",
       "    <tr>\n",
       "      <td>...</td>\n",
       "      <td>...</td>\n",
       "      <td>...</td>\n",
       "      <td>...</td>\n",
       "      <td>...</td>\n",
       "      <td>...</td>\n",
       "      <td>...</td>\n",
       "      <td>...</td>\n",
       "      <td>...</td>\n",
       "      <td>...</td>\n",
       "      <td>...</td>\n",
       "      <td>...</td>\n",
       "      <td>...</td>\n",
       "      <td>...</td>\n",
       "      <td>...</td>\n",
       "    </tr>\n",
       "    <tr>\n",
       "      <td>48182</td>\n",
       "      <td>None</td>\n",
       "      <td>283.45</td>\n",
       "      <td>0.0</td>\n",
       "      <td>0.0</td>\n",
       "      <td>75</td>\n",
       "      <td>Clouds</td>\n",
       "      <td>broken clouds</td>\n",
       "      <td>2018-09-30 19:00:00</td>\n",
       "      <td>3543</td>\n",
       "      <td>2018</td>\n",
       "      <td>9</td>\n",
       "      <td>30</td>\n",
       "      <td>19</td>\n",
       "      <td>6</td>\n",
       "    </tr>\n",
       "    <tr>\n",
       "      <td>48183</td>\n",
       "      <td>None</td>\n",
       "      <td>282.76</td>\n",
       "      <td>0.0</td>\n",
       "      <td>0.0</td>\n",
       "      <td>90</td>\n",
       "      <td>Clouds</td>\n",
       "      <td>overcast clouds</td>\n",
       "      <td>2018-09-30 20:00:00</td>\n",
       "      <td>2781</td>\n",
       "      <td>2018</td>\n",
       "      <td>9</td>\n",
       "      <td>30</td>\n",
       "      <td>20</td>\n",
       "      <td>6</td>\n",
       "    </tr>\n",
       "    <tr>\n",
       "      <td>48184</td>\n",
       "      <td>None</td>\n",
       "      <td>282.73</td>\n",
       "      <td>0.0</td>\n",
       "      <td>0.0</td>\n",
       "      <td>90</td>\n",
       "      <td>Thunderstorm</td>\n",
       "      <td>proximity thunderstorm</td>\n",
       "      <td>2018-09-30 21:00:00</td>\n",
       "      <td>2159</td>\n",
       "      <td>2018</td>\n",
       "      <td>9</td>\n",
       "      <td>30</td>\n",
       "      <td>21</td>\n",
       "      <td>6</td>\n",
       "    </tr>\n",
       "    <tr>\n",
       "      <td>48185</td>\n",
       "      <td>None</td>\n",
       "      <td>282.09</td>\n",
       "      <td>0.0</td>\n",
       "      <td>0.0</td>\n",
       "      <td>90</td>\n",
       "      <td>Clouds</td>\n",
       "      <td>overcast clouds</td>\n",
       "      <td>2018-09-30 22:00:00</td>\n",
       "      <td>1450</td>\n",
       "      <td>2018</td>\n",
       "      <td>9</td>\n",
       "      <td>30</td>\n",
       "      <td>22</td>\n",
       "      <td>6</td>\n",
       "    </tr>\n",
       "    <tr>\n",
       "      <td>48186</td>\n",
       "      <td>None</td>\n",
       "      <td>282.12</td>\n",
       "      <td>0.0</td>\n",
       "      <td>0.0</td>\n",
       "      <td>90</td>\n",
       "      <td>Clouds</td>\n",
       "      <td>overcast clouds</td>\n",
       "      <td>2018-09-30 23:00:00</td>\n",
       "      <td>954</td>\n",
       "      <td>2018</td>\n",
       "      <td>9</td>\n",
       "      <td>30</td>\n",
       "      <td>23</td>\n",
       "      <td>6</td>\n",
       "    </tr>\n",
       "  </tbody>\n",
       "</table>\n",
       "<p>48187 rows × 14 columns</p>\n",
       "</div>"
      ],
      "text/plain": [
       "      holiday    temp  rain_1h  snow_1h  clouds_all  weather_main  \\\n",
       "0        None  288.28      0.0      0.0          40        Clouds   \n",
       "1        None  289.36      0.0      0.0          75        Clouds   \n",
       "2        None  289.58      0.0      0.0          90        Clouds   \n",
       "3        None  290.13      0.0      0.0          90        Clouds   \n",
       "4        None  291.14      0.0      0.0          75        Clouds   \n",
       "...       ...     ...      ...      ...         ...           ...   \n",
       "48182    None  283.45      0.0      0.0          75        Clouds   \n",
       "48183    None  282.76      0.0      0.0          90        Clouds   \n",
       "48184    None  282.73      0.0      0.0          90  Thunderstorm   \n",
       "48185    None  282.09      0.0      0.0          90        Clouds   \n",
       "48186    None  282.12      0.0      0.0          90        Clouds   \n",
       "\n",
       "          weather_description           date_time  traffic_volume  year  \\\n",
       "0            scattered clouds 2012-10-02 09:00:00            5545  2012   \n",
       "1               broken clouds 2012-10-02 10:00:00            4516  2012   \n",
       "2             overcast clouds 2012-10-02 11:00:00            4767  2012   \n",
       "3             overcast clouds 2012-10-02 12:00:00            5026  2012   \n",
       "4               broken clouds 2012-10-02 13:00:00            4918  2012   \n",
       "...                       ...                 ...             ...   ...   \n",
       "48182           broken clouds 2018-09-30 19:00:00            3543  2018   \n",
       "48183         overcast clouds 2018-09-30 20:00:00            2781  2018   \n",
       "48184  proximity thunderstorm 2018-09-30 21:00:00            2159  2018   \n",
       "48185         overcast clouds 2018-09-30 22:00:00            1450  2018   \n",
       "48186         overcast clouds 2018-09-30 23:00:00             954  2018   \n",
       "\n",
       "       month  day  hour  weekday  \n",
       "0         10    2     9        1  \n",
       "1         10    2    10        1  \n",
       "2         10    2    11        1  \n",
       "3         10    2    12        1  \n",
       "4         10    2    13        1  \n",
       "...      ...  ...   ...      ...  \n",
       "48182      9   30    19        6  \n",
       "48183      9   30    20        6  \n",
       "48184      9   30    21        6  \n",
       "48185      9   30    22        6  \n",
       "48186      9   30    23        6  \n",
       "\n",
       "[48187 rows x 14 columns]"
      ]
     },
     "execution_count": 14,
     "metadata": {},
     "output_type": "execute_result"
    }
   ],
   "source": [
    "df_base['date_time'] = pd.to_datetime(df_base['date_time'])\n",
    "df_base['year'] = df_base['date_time'].dt.year\n",
    "df_base['month'] = df_base['date_time'].dt.month\n",
    "df_base['day'] = df_base['date_time'].dt.day\n",
    "df_base['hour'] = df_base['date_time'].dt.hour\n",
    "df_base['weekday'] = df_base['date_time'].dt.weekday\n",
    "df_base\n"
   ]
  },
  {
   "cell_type": "code",
   "execution_count": 15,
   "metadata": {},
   "outputs": [
    {
     "data": {
      "text/html": [
       "<div>\n",
       "<style scoped>\n",
       "    .dataframe tbody tr th:only-of-type {\n",
       "        vertical-align: middle;\n",
       "    }\n",
       "\n",
       "    .dataframe tbody tr th {\n",
       "        vertical-align: top;\n",
       "    }\n",
       "\n",
       "    .dataframe thead th {\n",
       "        text-align: right;\n",
       "    }\n",
       "</style>\n",
       "<table border=\"1\" class=\"dataframe\">\n",
       "  <thead>\n",
       "    <tr style=\"text-align: right;\">\n",
       "      <th></th>\n",
       "      <th>holiday</th>\n",
       "      <th>temp</th>\n",
       "      <th>rain_1h</th>\n",
       "      <th>snow_1h</th>\n",
       "      <th>clouds_all</th>\n",
       "      <th>weather_main</th>\n",
       "      <th>weather_description</th>\n",
       "      <th>traffic_volume</th>\n",
       "      <th>year</th>\n",
       "      <th>month</th>\n",
       "      <th>day</th>\n",
       "      <th>hour</th>\n",
       "      <th>weekday</th>\n",
       "    </tr>\n",
       "  </thead>\n",
       "  <tbody>\n",
       "    <tr>\n",
       "      <td>0</td>\n",
       "      <td>None</td>\n",
       "      <td>288.28</td>\n",
       "      <td>0.0</td>\n",
       "      <td>0.0</td>\n",
       "      <td>40</td>\n",
       "      <td>Clouds</td>\n",
       "      <td>scattered clouds</td>\n",
       "      <td>5545</td>\n",
       "      <td>2012</td>\n",
       "      <td>10</td>\n",
       "      <td>2</td>\n",
       "      <td>9</td>\n",
       "      <td>1</td>\n",
       "    </tr>\n",
       "    <tr>\n",
       "      <td>1</td>\n",
       "      <td>None</td>\n",
       "      <td>289.36</td>\n",
       "      <td>0.0</td>\n",
       "      <td>0.0</td>\n",
       "      <td>75</td>\n",
       "      <td>Clouds</td>\n",
       "      <td>broken clouds</td>\n",
       "      <td>4516</td>\n",
       "      <td>2012</td>\n",
       "      <td>10</td>\n",
       "      <td>2</td>\n",
       "      <td>10</td>\n",
       "      <td>1</td>\n",
       "    </tr>\n",
       "    <tr>\n",
       "      <td>2</td>\n",
       "      <td>None</td>\n",
       "      <td>289.58</td>\n",
       "      <td>0.0</td>\n",
       "      <td>0.0</td>\n",
       "      <td>90</td>\n",
       "      <td>Clouds</td>\n",
       "      <td>overcast clouds</td>\n",
       "      <td>4767</td>\n",
       "      <td>2012</td>\n",
       "      <td>10</td>\n",
       "      <td>2</td>\n",
       "      <td>11</td>\n",
       "      <td>1</td>\n",
       "    </tr>\n",
       "    <tr>\n",
       "      <td>3</td>\n",
       "      <td>None</td>\n",
       "      <td>290.13</td>\n",
       "      <td>0.0</td>\n",
       "      <td>0.0</td>\n",
       "      <td>90</td>\n",
       "      <td>Clouds</td>\n",
       "      <td>overcast clouds</td>\n",
       "      <td>5026</td>\n",
       "      <td>2012</td>\n",
       "      <td>10</td>\n",
       "      <td>2</td>\n",
       "      <td>12</td>\n",
       "      <td>1</td>\n",
       "    </tr>\n",
       "    <tr>\n",
       "      <td>4</td>\n",
       "      <td>None</td>\n",
       "      <td>291.14</td>\n",
       "      <td>0.0</td>\n",
       "      <td>0.0</td>\n",
       "      <td>75</td>\n",
       "      <td>Clouds</td>\n",
       "      <td>broken clouds</td>\n",
       "      <td>4918</td>\n",
       "      <td>2012</td>\n",
       "      <td>10</td>\n",
       "      <td>2</td>\n",
       "      <td>13</td>\n",
       "      <td>1</td>\n",
       "    </tr>\n",
       "  </tbody>\n",
       "</table>\n",
       "</div>"
      ],
      "text/plain": [
       "  holiday    temp  rain_1h  snow_1h  clouds_all weather_main  \\\n",
       "0    None  288.28      0.0      0.0          40       Clouds   \n",
       "1    None  289.36      0.0      0.0          75       Clouds   \n",
       "2    None  289.58      0.0      0.0          90       Clouds   \n",
       "3    None  290.13      0.0      0.0          90       Clouds   \n",
       "4    None  291.14      0.0      0.0          75       Clouds   \n",
       "\n",
       "  weather_description  traffic_volume  year  month  day  hour  weekday  \n",
       "0    scattered clouds            5545  2012     10    2     9        1  \n",
       "1       broken clouds            4516  2012     10    2    10        1  \n",
       "2     overcast clouds            4767  2012     10    2    11        1  \n",
       "3     overcast clouds            5026  2012     10    2    12        1  \n",
       "4       broken clouds            4918  2012     10    2    13        1  "
      ]
     },
     "execution_count": 15,
     "metadata": {},
     "output_type": "execute_result"
    }
   ],
   "source": [
    "df_base = df_base.drop(columns=['date_time'])\n",
    "df_base.head()"
   ]
  },
  {
   "cell_type": "markdown",
   "metadata": {},
   "source": [
    "### Holiday"
   ]
  },
  {
   "cell_type": "code",
   "execution_count": 16,
   "metadata": {},
   "outputs": [
    {
     "name": "stdout",
     "output_type": "stream",
     "text": [
      "None                         48126\n",
      "Labor Day                        7\n",
      "Christmas Day                    6\n",
      "Martin Luther King Jr Day        6\n",
      "Thanksgiving Day                 6\n",
      "New Years Day                    6\n",
      "Memorial Day                     5\n",
      "State Fair                       5\n",
      "Washingtons Birthday             5\n",
      "Columbus Day                     5\n",
      "Independence Day                 5\n",
      "Veterans Day                     5\n",
      "Name: holiday, dtype: int64\n"
     ]
    },
    {
     "data": {
      "image/png": "[encoded data removed]",
      "text/plain": [
       "<Figure size 432x288 with 1 Axes>"
      ]
     },
     "metadata": {
      "needs_background": "light"
     },
     "output_type": "display_data"
    }
   ],
   "source": [
    "sns.countplot(df_base['holiday'])\n",
    "qtde = df_base['holiday'].value_counts()\n",
    "print(qtde)"
   ]
  },
  {
   "cell_type": "markdown",
   "metadata": {},
   "source": [
    "Esse atributo se mostrar bastante desbalanceado. Sendo assim, ele será removida da base de dados. \n",
    "O desbalanceamento já era esperado, pois não acontece muitos feriados em um ano. "
   ]
  },
  {
   "cell_type": "code",
   "execution_count": 17,
   "metadata": {},
   "outputs": [
    {
     "data": {
      "text/html": [
       "<div>\n",
       "<style scoped>\n",
       "    .dataframe tbody tr th:only-of-type {\n",
       "        vertical-align: middle;\n",
       "    }\n",
       "\n",
       "    .dataframe tbody tr th {\n",
       "        vertical-align: top;\n",
       "    }\n",
       "\n",
       "    .dataframe thead th {\n",
       "        text-align: right;\n",
       "    }\n",
       "</style>\n",
       "<table border=\"1\" class=\"dataframe\">\n",
       "  <thead>\n",
       "    <tr style=\"text-align: right;\">\n",
       "      <th></th>\n",
       "      <th>temp</th>\n",
       "      <th>rain_1h</th>\n",
       "      <th>snow_1h</th>\n",
       "      <th>clouds_all</th>\n",
       "      <th>weather_main</th>\n",
       "      <th>weather_description</th>\n",
       "      <th>traffic_volume</th>\n",
       "      <th>year</th>\n",
       "      <th>month</th>\n",
       "      <th>day</th>\n",
       "      <th>hour</th>\n",
       "      <th>weekday</th>\n",
       "    </tr>\n",
       "  </thead>\n",
       "  <tbody>\n",
       "    <tr>\n",
       "      <td>0</td>\n",
       "      <td>288.28</td>\n",
       "      <td>0.0</td>\n",
       "      <td>0.0</td>\n",
       "      <td>40</td>\n",
       "      <td>Clouds</td>\n",
       "      <td>scattered clouds</td>\n",
       "      <td>5545</td>\n",
       "      <td>2012</td>\n",
       "      <td>10</td>\n",
       "      <td>2</td>\n",
       "      <td>9</td>\n",
       "      <td>1</td>\n",
       "    </tr>\n",
       "    <tr>\n",
       "      <td>1</td>\n",
       "      <td>289.36</td>\n",
       "      <td>0.0</td>\n",
       "      <td>0.0</td>\n",
       "      <td>75</td>\n",
       "      <td>Clouds</td>\n",
       "      <td>broken clouds</td>\n",
       "      <td>4516</td>\n",
       "      <td>2012</td>\n",
       "      <td>10</td>\n",
       "      <td>2</td>\n",
       "      <td>10</td>\n",
       "      <td>1</td>\n",
       "    </tr>\n",
       "    <tr>\n",
       "      <td>2</td>\n",
       "      <td>289.58</td>\n",
       "      <td>0.0</td>\n",
       "      <td>0.0</td>\n",
       "      <td>90</td>\n",
       "      <td>Clouds</td>\n",
       "      <td>overcast clouds</td>\n",
       "      <td>4767</td>\n",
       "      <td>2012</td>\n",
       "      <td>10</td>\n",
       "      <td>2</td>\n",
       "      <td>11</td>\n",
       "      <td>1</td>\n",
       "    </tr>\n",
       "    <tr>\n",
       "      <td>3</td>\n",
       "      <td>290.13</td>\n",
       "      <td>0.0</td>\n",
       "      <td>0.0</td>\n",
       "      <td>90</td>\n",
       "      <td>Clouds</td>\n",
       "      <td>overcast clouds</td>\n",
       "      <td>5026</td>\n",
       "      <td>2012</td>\n",
       "      <td>10</td>\n",
       "      <td>2</td>\n",
       "      <td>12</td>\n",
       "      <td>1</td>\n",
       "    </tr>\n",
       "    <tr>\n",
       "      <td>4</td>\n",
       "      <td>291.14</td>\n",
       "      <td>0.0</td>\n",
       "      <td>0.0</td>\n",
       "      <td>75</td>\n",
       "      <td>Clouds</td>\n",
       "      <td>broken clouds</td>\n",
       "      <td>4918</td>\n",
       "      <td>2012</td>\n",
       "      <td>10</td>\n",
       "      <td>2</td>\n",
       "      <td>13</td>\n",
       "      <td>1</td>\n",
       "    </tr>\n",
       "  </tbody>\n",
       "</table>\n",
       "</div>"
      ],
      "text/plain": [
       "     temp  rain_1h  snow_1h  clouds_all weather_main weather_description  \\\n",
       "0  288.28      0.0      0.0          40       Clouds    scattered clouds   \n",
       "1  289.36      0.0      0.0          75       Clouds       broken clouds   \n",
       "2  289.58      0.0      0.0          90       Clouds     overcast clouds   \n",
       "3  290.13      0.0      0.0          90       Clouds     overcast clouds   \n",
       "4  291.14      0.0      0.0          75       Clouds       broken clouds   \n",
       "\n",
       "   traffic_volume  year  month  day  hour  weekday  \n",
       "0            5545  2012     10    2     9        1  \n",
       "1            4516  2012     10    2    10        1  \n",
       "2            4767  2012     10    2    11        1  \n",
       "3            5026  2012     10    2    12        1  \n",
       "4            4918  2012     10    2    13        1  "
      ]
     },
     "execution_count": 17,
     "metadata": {},
     "output_type": "execute_result"
    }
   ],
   "source": [
    "df_base = df_base.drop(columns=['holiday'])\n",
    "df_base.head()"
   ]
  },
  {
   "cell_type": "markdown",
   "metadata": {},
   "source": [
    "### Weather_main e Weather_description"
   ]
  },
  {
   "cell_type": "code",
   "execution_count": 18,
   "metadata": {},
   "outputs": [
    {
     "name": "stdout",
     "output_type": "stream",
     "text": [
      "Clouds          15158\n",
      "Clear           13384\n",
      "Mist             5949\n",
      "Rain             5672\n",
      "Snow             2875\n",
      "Drizzle          1820\n",
      "Haze             1360\n",
      "Thunderstorm     1033\n",
      "Fog               912\n",
      "Smoke              20\n",
      "Squall              4\n",
      "Name: weather_main, dtype: int64\n"
     ]
    },
    {
     "data": {
      "image/png": "[encoded data removed]",
      "text/plain": [
       "<Figure size 432x288 with 1 Axes>"
      ]
     },
     "metadata": {
      "needs_background": "light"
     },
     "output_type": "display_data"
    }
   ],
   "source": [
    "sns.countplot(df_base['weather_main'])\n",
    "qtde = df_base['weather_main'].value_counts()\n",
    "print(qtde)"
   ]
  },
  {
   "cell_type": "code",
   "execution_count": 140,
   "metadata": {},
   "outputs": [
    {
     "name": "stdout",
     "output_type": "stream",
     "text": [
      "sky is clear                           11659\n",
      "mist                                    5949\n",
      "overcast clouds                         5079\n",
      "broken clouds                           4663\n",
      "scattered clouds                        3460\n",
      "light rain                              3372\n",
      "few clouds                              1956\n",
      "light snow                              1945\n",
      "Sky is Clear                            1725\n",
      "moderate rain                           1664\n",
      "haze                                    1360\n",
      "light intensity drizzle                 1099\n",
      "fog                                      912\n",
      "proximity thunderstorm                   673\n",
      "drizzle                                  651\n",
      "heavy snow                               616\n",
      "heavy intensity rain                     467\n",
      "snow                                     293\n",
      "proximity shower rain                    136\n",
      "thunderstorm                             124\n",
      "heavy intensity drizzle                   64\n",
      "thunderstorm with heavy rain              63\n",
      "thunderstorm with light rain              54\n",
      "proximity thunderstorm with rain          52\n",
      "thunderstorm with rain                    37\n",
      "smoke                                     20\n",
      "very heavy rain                           18\n",
      "thunderstorm with light drizzle           15\n",
      "proximity thunderstorm with drizzle       13\n",
      "light intensity shower rain               13\n",
      "light shower snow                         11\n",
      "shower drizzle                             6\n",
      "light rain and snow                        6\n",
      "SQUALLS                                    4\n",
      "sleet                                      3\n",
      "thunderstorm with drizzle                  2\n",
      "freezing rain                              2\n",
      "shower snow                                1\n",
      "Name: weather_description, dtype: int64\n"
     ]
    },
    {
     "data": {
      "image/png": "[encoded data removed]",
      "text/plain": [
       "<Figure size 432x288 with 1 Axes>"
      ]
     },
     "metadata": {
      "needs_background": "light"
     },
     "output_type": "display_data"
    }
   ],
   "source": [
    "sns.countplot(df_base['weather_description'])\n",
    "qtde = df_base['weather_description'].value_counts()\n",
    "print(qtde)"
   ]
  },
  {
   "cell_type": "markdown",
   "metadata": {},
   "source": [
    "É possível percebe que tanto o **weather_main** quanto o **weather_description** são atributos desbalanceados, principalmente este último. Foi percebido, que esses dois atributos estão ligados entre si. Cada _description_ está ligado a um weather. "
   ]
  },
  {
   "cell_type": "code",
   "execution_count": 19,
   "metadata": {},
   "outputs": [
    {
     "name": "stdout",
     "output_type": "stream",
     "text": [
      "Descricoes para  Clouds : ['scattered clouds' 'broken clouds' 'overcast clouds' 'few clouds']\n",
      "Descricoes para  Clear : ['sky is clear' 'Sky is Clear']\n",
      "Descricoes para  Rain : ['light rain' 'proximity shower rain' 'moderate rain'\n",
      " 'heavy intensity rain' 'freezing rain' 'light intensity shower rain'\n",
      " 'very heavy rain']\n",
      "Descricoes para  Drizzle : ['light intensity drizzle' 'drizzle' 'heavy intensity drizzle'\n",
      " 'shower drizzle']\n",
      "Descricoes para  Mist : ['mist']\n",
      "Descricoes para  Haze : ['haze']\n",
      "Descricoes para  Fog : ['fog']\n",
      "Descricoes para  Thunderstorm : ['proximity thunderstorm' 'thunderstorm with light rain'\n",
      " 'proximity thunderstorm with rain' 'thunderstorm with heavy rain'\n",
      " 'thunderstorm with rain' 'proximity thunderstorm with drizzle'\n",
      " 'thunderstorm' 'thunderstorm with light drizzle'\n",
      " 'thunderstorm with drizzle']\n",
      "Descricoes para  Snow : ['heavy snow' 'snow' 'shower snow' 'light rain and snow' 'light snow'\n",
      " 'light shower snow' 'sleet']\n",
      "Descricoes para  Squall : ['SQUALLS']\n",
      "Descricoes para  Smoke : ['smoke']\n"
     ]
    }
   ],
   "source": [
    "for weather in df_base['weather_main'].unique():\n",
    "    loc = df_base.loc[df_base['weather_main']== weather]\n",
    "    print(\"Descricoes para \", weather, \":\", loc['weather_description'].unique())\n",
    "    \n",
    "#loc https://medium.com/horadecodar/data-science-tips-02-como-usar-loc-e-iloc-no-pandas-fab58e214d87"
   ]
  },
  {
   "cell_type": "markdown",
   "metadata": {},
   "source": [
    "Sendo assim, esses dois atributos(**weater_main e weather_description**) serão retirados  da base de dados. "
   ]
  },
  {
   "cell_type": "code",
   "execution_count": 20,
   "metadata": {},
   "outputs": [
    {
     "data": {
      "text/html": [
       "<div>\n",
       "<style scoped>\n",
       "    .dataframe tbody tr th:only-of-type {\n",
       "        vertical-align: middle;\n",
       "    }\n",
       "\n",
       "    .dataframe tbody tr th {\n",
       "        vertical-align: top;\n",
       "    }\n",
       "\n",
       "    .dataframe thead th {\n",
       "        text-align: right;\n",
       "    }\n",
       "</style>\n",
       "<table border=\"1\" class=\"dataframe\">\n",
       "  <thead>\n",
       "    <tr style=\"text-align: right;\">\n",
       "      <th></th>\n",
       "      <th>temp</th>\n",
       "      <th>rain_1h</th>\n",
       "      <th>snow_1h</th>\n",
       "      <th>clouds_all</th>\n",
       "      <th>traffic_volume</th>\n",
       "      <th>year</th>\n",
       "      <th>month</th>\n",
       "      <th>day</th>\n",
       "      <th>hour</th>\n",
       "      <th>weekday</th>\n",
       "    </tr>\n",
       "  </thead>\n",
       "  <tbody>\n",
       "    <tr>\n",
       "      <td>0</td>\n",
       "      <td>288.28</td>\n",
       "      <td>0.0</td>\n",
       "      <td>0.0</td>\n",
       "      <td>40</td>\n",
       "      <td>5545</td>\n",
       "      <td>2012</td>\n",
       "      <td>10</td>\n",
       "      <td>2</td>\n",
       "      <td>9</td>\n",
       "      <td>1</td>\n",
       "    </tr>\n",
       "    <tr>\n",
       "      <td>1</td>\n",
       "      <td>289.36</td>\n",
       "      <td>0.0</td>\n",
       "      <td>0.0</td>\n",
       "      <td>75</td>\n",
       "      <td>4516</td>\n",
       "      <td>2012</td>\n",
       "      <td>10</td>\n",
       "      <td>2</td>\n",
       "      <td>10</td>\n",
       "      <td>1</td>\n",
       "    </tr>\n",
       "    <tr>\n",
       "      <td>2</td>\n",
       "      <td>289.58</td>\n",
       "      <td>0.0</td>\n",
       "      <td>0.0</td>\n",
       "      <td>90</td>\n",
       "      <td>4767</td>\n",
       "      <td>2012</td>\n",
       "      <td>10</td>\n",
       "      <td>2</td>\n",
       "      <td>11</td>\n",
       "      <td>1</td>\n",
       "    </tr>\n",
       "    <tr>\n",
       "      <td>3</td>\n",
       "      <td>290.13</td>\n",
       "      <td>0.0</td>\n",
       "      <td>0.0</td>\n",
       "      <td>90</td>\n",
       "      <td>5026</td>\n",
       "      <td>2012</td>\n",
       "      <td>10</td>\n",
       "      <td>2</td>\n",
       "      <td>12</td>\n",
       "      <td>1</td>\n",
       "    </tr>\n",
       "    <tr>\n",
       "      <td>4</td>\n",
       "      <td>291.14</td>\n",
       "      <td>0.0</td>\n",
       "      <td>0.0</td>\n",
       "      <td>75</td>\n",
       "      <td>4918</td>\n",
       "      <td>2012</td>\n",
       "      <td>10</td>\n",
       "      <td>2</td>\n",
       "      <td>13</td>\n",
       "      <td>1</td>\n",
       "    </tr>\n",
       "  </tbody>\n",
       "</table>\n",
       "</div>"
      ],
      "text/plain": [
       "     temp  rain_1h  snow_1h  clouds_all  traffic_volume  year  month  day  \\\n",
       "0  288.28      0.0      0.0          40            5545  2012     10    2   \n",
       "1  289.36      0.0      0.0          75            4516  2012     10    2   \n",
       "2  289.58      0.0      0.0          90            4767  2012     10    2   \n",
       "3  290.13      0.0      0.0          90            5026  2012     10    2   \n",
       "4  291.14      0.0      0.0          75            4918  2012     10    2   \n",
       "\n",
       "   hour  weekday  \n",
       "0     9        1  \n",
       "1    10        1  \n",
       "2    11        1  \n",
       "3    12        1  \n",
       "4    13        1  "
      ]
     },
     "execution_count": 20,
     "metadata": {},
     "output_type": "execute_result"
    }
   ],
   "source": [
    "df_base = df_base.drop(columns=['weather_main'])\n",
    "df_base = df_base.drop(columns=['weather_description'])\n",
    "df_base.head()"
   ]
  },
  {
   "cell_type": "markdown",
   "metadata": {},
   "source": [
    "# Correlação"
   ]
  },
  {
   "cell_type": "code",
   "execution_count": 21,
   "metadata": {},
   "outputs": [
    {
     "data": {
      "text/plain": [
       "<matplotlib.axes._subplots.AxesSubplot at 0x7f9d0c2eecd0>"
      ]
     },
     "execution_count": 21,
     "metadata": {},
     "output_type": "execute_result"
    },
    {
     "data": {
      "image/png": "[encoded data removed]",
      "text/plain": [
       "<Figure size 1080x216 with 1 Axes>"
      ]
     },
     "metadata": {
      "needs_background": "light"
     },
     "output_type": "display_data"
    }
   ],
   "source": [
    "df_base.corr().abs()[\"traffic_volume\"].sort_values().plot.bar(figsize=[15, 3])"
   ]
  },
  {
   "cell_type": "markdown",
   "metadata": {},
   "source": [
    "Diante do gráfico de correlação, pode-se perceber que os atributos que mais possuem impacto relevante no **traffic_volume**, são: **hour**, **weekday**, **temp** e **clouds_all**"
   ]
  },
  {
   "cell_type": "code",
   "execution_count": 22,
   "metadata": {},
   "outputs": [
    {
     "data": {
      "text/html": [
       "<style  type=\"text/css\" >\n",
       "    #T_707484d6_5c8b_11ea_9f29_252bb08be64drow0_col0 {\n",
       "            background-color:  #b40426;\n",
       "            color:  #f1f1f1;\n",
       "        }    #T_707484d6_5c8b_11ea_9f29_252bb08be64drow0_col1 {\n",
       "            background-color:  #3f53c6;\n",
       "            color:  #f1f1f1;\n",
       "        }    #T_707484d6_5c8b_11ea_9f29_252bb08be64drow0_col2 {\n",
       "            background-color:  #3b4cc0;\n",
       "            color:  #f1f1f1;\n",
       "        }    #T_707484d6_5c8b_11ea_9f29_252bb08be64drow0_col3 {\n",
       "            background-color:  #3b4cc0;\n",
       "            color:  #f1f1f1;\n",
       "        }    #T_707484d6_5c8b_11ea_9f29_252bb08be64drow0_col4 {\n",
       "            background-color:  #8badfd;\n",
       "            color:  #000000;\n",
       "        }    #T_707484d6_5c8b_11ea_9f29_252bb08be64drow0_col5 {\n",
       "            background-color:  #8db0fe;\n",
       "            color:  #000000;\n",
       "        }    #T_707484d6_5c8b_11ea_9f29_252bb08be64drow0_col6 {\n",
       "            background-color:  #a9c6fd;\n",
       "            color:  #000000;\n",
       "        }    #T_707484d6_5c8b_11ea_9f29_252bb08be64drow0_col7 {\n",
       "            background-color:  #445acc;\n",
       "            color:  #f1f1f1;\n",
       "        }    #T_707484d6_5c8b_11ea_9f29_252bb08be64drow0_col8 {\n",
       "            background-color:  #5f7fe8;\n",
       "            color:  #000000;\n",
       "        }    #T_707484d6_5c8b_11ea_9f29_252bb08be64drow0_col9 {\n",
       "            background-color:  #6180e9;\n",
       "            color:  #000000;\n",
       "        }    #T_707484d6_5c8b_11ea_9f29_252bb08be64drow1_col0 {\n",
       "            background-color:  #5977e3;\n",
       "            color:  #000000;\n",
       "        }    #T_707484d6_5c8b_11ea_9f29_252bb08be64drow1_col1 {\n",
       "            background-color:  #b40426;\n",
       "            color:  #f1f1f1;\n",
       "        }    #T_707484d6_5c8b_11ea_9f29_252bb08be64drow1_col2 {\n",
       "            background-color:  #3f53c6;\n",
       "            color:  #f1f1f1;\n",
       "        }    #T_707484d6_5c8b_11ea_9f29_252bb08be64drow1_col3 {\n",
       "            background-color:  #5875e1;\n",
       "            color:  #000000;\n",
       "        }    #T_707484d6_5c8b_11ea_9f29_252bb08be64drow1_col4 {\n",
       "            background-color:  #6485ec;\n",
       "            color:  #000000;\n",
       "        }    #T_707484d6_5c8b_11ea_9f29_252bb08be64drow1_col5 {\n",
       "            background-color:  #6687ed;\n",
       "            color:  #000000;\n",
       "        }    #T_707484d6_5c8b_11ea_9f29_252bb08be64drow1_col6 {\n",
       "            background-color:  #6687ed;\n",
       "            color:  #000000;\n",
       "        }    #T_707484d6_5c8b_11ea_9f29_252bb08be64drow1_col7 {\n",
       "            background-color:  #3c4ec2;\n",
       "            color:  #f1f1f1;\n",
       "        }    #T_707484d6_5c8b_11ea_9f29_252bb08be64drow1_col8 {\n",
       "            background-color:  #3e51c5;\n",
       "            color:  #f1f1f1;\n",
       "        }    #T_707484d6_5c8b_11ea_9f29_252bb08be64drow1_col9 {\n",
       "            background-color:  #6180e9;\n",
       "            color:  #000000;\n",
       "        }    #T_707484d6_5c8b_11ea_9f29_252bb08be64drow2_col0 {\n",
       "            background-color:  #516ddb;\n",
       "            color:  #000000;\n",
       "        }    #T_707484d6_5c8b_11ea_9f29_252bb08be64drow2_col1 {\n",
       "            background-color:  #3c4ec2;\n",
       "            color:  #f1f1f1;\n",
       "        }    #T_707484d6_5c8b_11ea_9f29_252bb08be64drow2_col2 {\n",
       "            background-color:  #b40426;\n",
       "            color:  #f1f1f1;\n",
       "        }    #T_707484d6_5c8b_11ea_9f29_252bb08be64drow2_col3 {\n",
       "            background-color:  #5f7fe8;\n",
       "            color:  #000000;\n",
       "        }    #T_707484d6_5c8b_11ea_9f29_252bb08be64drow2_col4 {\n",
       "            background-color:  #6384eb;\n",
       "            color:  #000000;\n",
       "        }    #T_707484d6_5c8b_11ea_9f29_252bb08be64drow2_col5 {\n",
       "            background-color:  #6485ec;\n",
       "            color:  #000000;\n",
       "        }    #T_707484d6_5c8b_11ea_9f29_252bb08be64drow2_col6 {\n",
       "            background-color:  #6b8df0;\n",
       "            color:  #000000;\n",
       "        }    #T_707484d6_5c8b_11ea_9f29_252bb08be64drow2_col7 {\n",
       "            background-color:  #4257c9;\n",
       "            color:  #f1f1f1;\n",
       "        }    #T_707484d6_5c8b_11ea_9f29_252bb08be64drow2_col8 {\n",
       "            background-color:  #3f53c6;\n",
       "            color:  #f1f1f1;\n",
       "        }    #T_707484d6_5c8b_11ea_9f29_252bb08be64drow2_col9 {\n",
       "            background-color:  #5e7de7;\n",
       "            color:  #000000;\n",
       "        }    #T_707484d6_5c8b_11ea_9f29_252bb08be64drow3_col0 {\n",
       "            background-color:  #3b4cc0;\n",
       "            color:  #f1f1f1;\n",
       "        }    #T_707484d6_5c8b_11ea_9f29_252bb08be64drow3_col1 {\n",
       "            background-color:  #3d50c3;\n",
       "            color:  #f1f1f1;\n",
       "        }    #T_707484d6_5c8b_11ea_9f29_252bb08be64drow3_col2 {\n",
       "            background-color:  #485fd1;\n",
       "            color:  #f1f1f1;\n",
       "        }    #T_707484d6_5c8b_11ea_9f29_252bb08be64drow3_col3 {\n",
       "            background-color:  #b40426;\n",
       "            color:  #f1f1f1;\n",
       "        }    #T_707484d6_5c8b_11ea_9f29_252bb08be64drow3_col4 {\n",
       "            background-color:  #779af7;\n",
       "            color:  #000000;\n",
       "        }    #T_707484d6_5c8b_11ea_9f29_252bb08be64drow3_col5 {\n",
       "            background-color:  #506bda;\n",
       "            color:  #000000;\n",
       "        }    #T_707484d6_5c8b_11ea_9f29_252bb08be64drow3_col6 {\n",
       "            background-color:  #6384eb;\n",
       "            color:  #000000;\n",
       "        }    #T_707484d6_5c8b_11ea_9f29_252bb08be64drow3_col7 {\n",
       "            background-color:  #4b64d5;\n",
       "            color:  #f1f1f1;\n",
       "        }    #T_707484d6_5c8b_11ea_9f29_252bb08be64drow3_col8 {\n",
       "            background-color:  #4e68d8;\n",
       "            color:  #000000;\n",
       "        }    #T_707484d6_5c8b_11ea_9f29_252bb08be64drow3_col9 {\n",
       "            background-color:  #5875e1;\n",
       "            color:  #000000;\n",
       "        }    #T_707484d6_5c8b_11ea_9f29_252bb08be64drow4_col0 {\n",
       "            background-color:  #7ea1fa;\n",
       "            color:  #000000;\n",
       "        }    #T_707484d6_5c8b_11ea_9f29_252bb08be64drow4_col1 {\n",
       "            background-color:  #3d50c3;\n",
       "            color:  #f1f1f1;\n",
       "        }    #T_707484d6_5c8b_11ea_9f29_252bb08be64drow4_col2 {\n",
       "            background-color:  #4055c8;\n",
       "            color:  #f1f1f1;\n",
       "        }    #T_707484d6_5c8b_11ea_9f29_252bb08be64drow4_col3 {\n",
       "            background-color:  #6b8df0;\n",
       "            color:  #000000;\n",
       "        }    #T_707484d6_5c8b_11ea_9f29_252bb08be64drow4_col4 {\n",
       "            background-color:  #b40426;\n",
       "            color:  #f1f1f1;\n",
       "        }    #T_707484d6_5c8b_11ea_9f29_252bb08be64drow4_col5 {\n",
       "            background-color:  #6788ee;\n",
       "            color:  #000000;\n",
       "        }    #T_707484d6_5c8b_11ea_9f29_252bb08be64drow4_col6 {\n",
       "            background-color:  #6485ec;\n",
       "            color:  #000000;\n",
       "        }    #T_707484d6_5c8b_11ea_9f29_252bb08be64drow4_col7 {\n",
       "            background-color:  #3b4cc0;\n",
       "            color:  #f1f1f1;\n",
       "        }    #T_707484d6_5c8b_11ea_9f29_252bb08be64drow4_col8 {\n",
       "            background-color:  #b2ccfb;\n",
       "            color:  #000000;\n",
       "        }    #T_707484d6_5c8b_11ea_9f29_252bb08be64drow4_col9 {\n",
       "            background-color:  #3b4cc0;\n",
       "            color:  #f1f1f1;\n",
       "        }    #T_707484d6_5c8b_11ea_9f29_252bb08be64drow5_col0 {\n",
       "            background-color:  #81a4fb;\n",
       "            color:  #000000;\n",
       "        }    #T_707484d6_5c8b_11ea_9f29_252bb08be64drow5_col1 {\n",
       "            background-color:  #3c4ec2;\n",
       "            color:  #f1f1f1;\n",
       "        }    #T_707484d6_5c8b_11ea_9f29_252bb08be64drow5_col2 {\n",
       "            background-color:  #3f53c6;\n",
       "            color:  #f1f1f1;\n",
       "        }    #T_707484d6_5c8b_11ea_9f29_252bb08be64drow5_col3 {\n",
       "            background-color:  #4257c9;\n",
       "            color:  #f1f1f1;\n",
       "        }    #T_707484d6_5c8b_11ea_9f29_252bb08be64drow5_col4 {\n",
       "            background-color:  #6485ec;\n",
       "            color:  #000000;\n",
       "        }    #T_707484d6_5c8b_11ea_9f29_252bb08be64drow5_col5 {\n",
       "            background-color:  #b40426;\n",
       "            color:  #f1f1f1;\n",
       "        }    #T_707484d6_5c8b_11ea_9f29_252bb08be64drow5_col6 {\n",
       "            background-color:  #3b4cc0;\n",
       "            color:  #f1f1f1;\n",
       "        }    #T_707484d6_5c8b_11ea_9f29_252bb08be64drow5_col7 {\n",
       "            background-color:  #4055c8;\n",
       "            color:  #f1f1f1;\n",
       "        }    #T_707484d6_5c8b_11ea_9f29_252bb08be64drow5_col8 {\n",
       "            background-color:  #3b4cc0;\n",
       "            color:  #f1f1f1;\n",
       "        }    #T_707484d6_5c8b_11ea_9f29_252bb08be64drow5_col9 {\n",
       "            background-color:  #5f7fe8;\n",
       "            color:  #000000;\n",
       "        }    #T_707484d6_5c8b_11ea_9f29_252bb08be64drow6_col0 {\n",
       "            background-color:  #9dbdff;\n",
       "            color:  #000000;\n",
       "        }    #T_707484d6_5c8b_11ea_9f29_252bb08be64drow6_col1 {\n",
       "            background-color:  #3d50c3;\n",
       "            color:  #f1f1f1;\n",
       "        }    #T_707484d6_5c8b_11ea_9f29_252bb08be64drow6_col2 {\n",
       "            background-color:  #465ecf;\n",
       "            color:  #f1f1f1;\n",
       "        }    #T_707484d6_5c8b_11ea_9f29_252bb08be64drow6_col3 {\n",
       "            background-color:  #5470de;\n",
       "            color:  #000000;\n",
       "        }    #T_707484d6_5c8b_11ea_9f29_252bb08be64drow6_col4 {\n",
       "            background-color:  #6282ea;\n",
       "            color:  #000000;\n",
       "        }    #T_707484d6_5c8b_11ea_9f29_252bb08be64drow6_col5 {\n",
       "            background-color:  #3b4cc0;\n",
       "            color:  #f1f1f1;\n",
       "        }    #T_707484d6_5c8b_11ea_9f29_252bb08be64drow6_col6 {\n",
       "            background-color:  #b40426;\n",
       "            color:  #f1f1f1;\n",
       "        }    #T_707484d6_5c8b_11ea_9f29_252bb08be64drow6_col7 {\n",
       "            background-color:  #3f53c6;\n",
       "            color:  #f1f1f1;\n",
       "        }    #T_707484d6_5c8b_11ea_9f29_252bb08be64drow6_col8 {\n",
       "            background-color:  #3d50c3;\n",
       "            color:  #f1f1f1;\n",
       "        }    #T_707484d6_5c8b_11ea_9f29_252bb08be64drow6_col9 {\n",
       "            background-color:  #6687ed;\n",
       "            color:  #000000;\n",
       "        }    #T_707484d6_5c8b_11ea_9f29_252bb08be64drow7_col0 {\n",
       "            background-color:  #5d7ce6;\n",
       "            color:  #000000;\n",
       "        }    #T_707484d6_5c8b_11ea_9f29_252bb08be64drow7_col1 {\n",
       "            background-color:  #3c4ec2;\n",
       "            color:  #f1f1f1;\n",
       "        }    #T_707484d6_5c8b_11ea_9f29_252bb08be64drow7_col2 {\n",
       "            background-color:  #445acc;\n",
       "            color:  #f1f1f1;\n",
       "        }    #T_707484d6_5c8b_11ea_9f29_252bb08be64drow7_col3 {\n",
       "            background-color:  #6485ec;\n",
       "            color:  #000000;\n",
       "        }    #T_707484d6_5c8b_11ea_9f29_252bb08be64drow7_col4 {\n",
       "            background-color:  #6180e9;\n",
       "            color:  #000000;\n",
       "        }    #T_707484d6_5c8b_11ea_9f29_252bb08be64drow7_col5 {\n",
       "            background-color:  #688aef;\n",
       "            color:  #000000;\n",
       "        }    #T_707484d6_5c8b_11ea_9f29_252bb08be64drow7_col6 {\n",
       "            background-color:  #688aef;\n",
       "            color:  #000000;\n",
       "        }    #T_707484d6_5c8b_11ea_9f29_252bb08be64drow7_col7 {\n",
       "            background-color:  #b40426;\n",
       "            color:  #f1f1f1;\n",
       "        }    #T_707484d6_5c8b_11ea_9f29_252bb08be64drow7_col8 {\n",
       "            background-color:  #3b4cc0;\n",
       "            color:  #f1f1f1;\n",
       "        }    #T_707484d6_5c8b_11ea_9f29_252bb08be64drow7_col9 {\n",
       "            background-color:  #6687ed;\n",
       "            color:  #000000;\n",
       "        }    #T_707484d6_5c8b_11ea_9f29_252bb08be64drow8_col0 {\n",
       "            background-color:  #799cf8;\n",
       "            color:  #000000;\n",
       "        }    #T_707484d6_5c8b_11ea_9f29_252bb08be64drow8_col1 {\n",
       "            background-color:  #3d50c3;\n",
       "            color:  #f1f1f1;\n",
       "        }    #T_707484d6_5c8b_11ea_9f29_252bb08be64drow8_col2 {\n",
       "            background-color:  #4358cb;\n",
       "            color:  #f1f1f1;\n",
       "        }    #T_707484d6_5c8b_11ea_9f29_252bb08be64drow8_col3 {\n",
       "            background-color:  #6788ee;\n",
       "            color:  #000000;\n",
       "        }    #T_707484d6_5c8b_11ea_9f29_252bb08be64drow8_col4 {\n",
       "            background-color:  #cbd8ee;\n",
       "            color:  #000000;\n",
       "        }    #T_707484d6_5c8b_11ea_9f29_252bb08be64drow8_col5 {\n",
       "            background-color:  #6384eb;\n",
       "            color:  #000000;\n",
       "        }    #T_707484d6_5c8b_11ea_9f29_252bb08be64drow8_col6 {\n",
       "            background-color:  #6687ed;\n",
       "            color:  #000000;\n",
       "        }    #T_707484d6_5c8b_11ea_9f29_252bb08be64drow8_col7 {\n",
       "            background-color:  #3b4cc0;\n",
       "            color:  #f1f1f1;\n",
       "        }    #T_707484d6_5c8b_11ea_9f29_252bb08be64drow8_col8 {\n",
       "            background-color:  #b40426;\n",
       "            color:  #f1f1f1;\n",
       "        }    #T_707484d6_5c8b_11ea_9f29_252bb08be64drow8_col9 {\n",
       "            background-color:  #6282ea;\n",
       "            color:  #000000;\n",
       "        }    #T_707484d6_5c8b_11ea_9f29_252bb08be64drow9_col0 {\n",
       "            background-color:  #5470de;\n",
       "            color:  #000000;\n",
       "        }    #T_707484d6_5c8b_11ea_9f29_252bb08be64drow9_col1 {\n",
       "            background-color:  #3b4cc0;\n",
       "            color:  #f1f1f1;\n",
       "        }    #T_707484d6_5c8b_11ea_9f29_252bb08be64drow9_col2 {\n",
       "            background-color:  #3c4ec2;\n",
       "            color:  #f1f1f1;\n",
       "        }    #T_707484d6_5c8b_11ea_9f29_252bb08be64drow9_col3 {\n",
       "            background-color:  #4b64d5;\n",
       "            color:  #f1f1f1;\n",
       "        }    #T_707484d6_5c8b_11ea_9f29_252bb08be64drow9_col4 {\n",
       "            background-color:  #3b4cc0;\n",
       "            color:  #f1f1f1;\n",
       "        }    #T_707484d6_5c8b_11ea_9f29_252bb08be64drow9_col5 {\n",
       "            background-color:  #6282ea;\n",
       "            color:  #000000;\n",
       "        }    #T_707484d6_5c8b_11ea_9f29_252bb08be64drow9_col6 {\n",
       "            background-color:  #688aef;\n",
       "            color:  #000000;\n",
       "        }    #T_707484d6_5c8b_11ea_9f29_252bb08be64drow9_col7 {\n",
       "            background-color:  #3f53c6;\n",
       "            color:  #f1f1f1;\n",
       "        }    #T_707484d6_5c8b_11ea_9f29_252bb08be64drow9_col8 {\n",
       "            background-color:  #3c4ec2;\n",
       "            color:  #f1f1f1;\n",
       "        }    #T_707484d6_5c8b_11ea_9f29_252bb08be64drow9_col9 {\n",
       "            background-color:  #b40426;\n",
       "            color:  #f1f1f1;\n",
       "        }</style><table id=\"T_707484d6_5c8b_11ea_9f29_252bb08be64d\" ><thead>    <tr>        <th class=\"blank level0\" ></th>        <th class=\"col_heading level0 col0\" >temp</th>        <th class=\"col_heading level0 col1\" >rain_1h</th>        <th class=\"col_heading level0 col2\" >snow_1h</th>        <th class=\"col_heading level0 col3\" >clouds_all</th>        <th class=\"col_heading level0 col4\" >traffic_volume</th>        <th class=\"col_heading level0 col5\" >year</th>        <th class=\"col_heading level0 col6\" >month</th>        <th class=\"col_heading level0 col7\" >day</th>        <th class=\"col_heading level0 col8\" >hour</th>        <th class=\"col_heading level0 col9\" >weekday</th>    </tr></thead><tbody>\n",
       "                <tr>\n",
       "                        <th id=\"T_707484d6_5c8b_11ea_9f29_252bb08be64dlevel0_row0\" class=\"row_heading level0 row0\" >temp</th>\n",
       "                        <td id=\"T_707484d6_5c8b_11ea_9f29_252bb08be64drow0_col0\" class=\"data row0 col0\" >1</td>\n",
       "                        <td id=\"T_707484d6_5c8b_11ea_9f29_252bb08be64drow0_col1\" class=\"data row0 col1\" >0.00907029</td>\n",
       "                        <td id=\"T_707484d6_5c8b_11ea_9f29_252bb08be64drow0_col2\" class=\"data row0 col2\" >-0.0197562</td>\n",
       "                        <td id=\"T_707484d6_5c8b_11ea_9f29_252bb08be64drow0_col3\" class=\"data row0 col3\" >-0.101968</td>\n",
       "                        <td id=\"T_707484d6_5c8b_11ea_9f29_252bb08be64drow0_col4\" class=\"data row0 col4\" >0.130161</td>\n",
       "                        <td id=\"T_707484d6_5c8b_11ea_9f29_252bb08be64drow0_col5\" class=\"data row0 col5\" >0.134916</td>\n",
       "                        <td id=\"T_707484d6_5c8b_11ea_9f29_252bb08be64drow0_col6\" class=\"data row0 col6\" >0.223943</td>\n",
       "                        <td id=\"T_707484d6_5c8b_11ea_9f29_252bb08be64drow0_col7\" class=\"data row0 col7\" >0.022677</td>\n",
       "                        <td id=\"T_707484d6_5c8b_11ea_9f29_252bb08be64drow0_col8\" class=\"data row0 col8\" >0.112048</td>\n",
       "                        <td id=\"T_707484d6_5c8b_11ea_9f29_252bb08be64drow0_col9\" class=\"data row0 col9\" >-0.0078244</td>\n",
       "            </tr>\n",
       "            <tr>\n",
       "                        <th id=\"T_707484d6_5c8b_11ea_9f29_252bb08be64dlevel0_row1\" class=\"row_heading level0 row1\" >rain_1h</th>\n",
       "                        <td id=\"T_707484d6_5c8b_11ea_9f29_252bb08be64drow1_col0\" class=\"data row1 col0\" >0.00907029</td>\n",
       "                        <td id=\"T_707484d6_5c8b_11ea_9f29_252bb08be64drow1_col1\" class=\"data row1 col1\" >1</td>\n",
       "                        <td id=\"T_707484d6_5c8b_11ea_9f29_252bb08be64drow1_col2\" class=\"data row1 col2\" >-8.99063e-05</td>\n",
       "                        <td id=\"T_707484d6_5c8b_11ea_9f29_252bb08be64drow1_col3\" class=\"data row1 col3\" >0.00481843</td>\n",
       "                        <td id=\"T_707484d6_5c8b_11ea_9f29_252bb08be64drow1_col4\" class=\"data row1 col4\" >0.00471506</td>\n",
       "                        <td id=\"T_707484d6_5c8b_11ea_9f29_252bb08be64drow1_col5\" class=\"data row1 col5\" >0.000443471</td>\n",
       "                        <td id=\"T_707484d6_5c8b_11ea_9f29_252bb08be64drow1_col6\" class=\"data row1 col6\" >0.00129963</td>\n",
       "                        <td id=\"T_707484d6_5c8b_11ea_9f29_252bb08be64drow1_col7\" class=\"data row1 col7\" >-0.0022933</td>\n",
       "                        <td id=\"T_707484d6_5c8b_11ea_9f29_252bb08be64drow1_col8\" class=\"data row1 col8\" >0.0034222</td>\n",
       "                        <td id=\"T_707484d6_5c8b_11ea_9f29_252bb08be64drow1_col9\" class=\"data row1 col9\" >-0.00692016</td>\n",
       "            </tr>\n",
       "            <tr>\n",
       "                        <th id=\"T_707484d6_5c8b_11ea_9f29_252bb08be64dlevel0_row2\" class=\"row_heading level0 row2\" >snow_1h</th>\n",
       "                        <td id=\"T_707484d6_5c8b_11ea_9f29_252bb08be64drow2_col0\" class=\"data row2 col0\" >-0.0197562</td>\n",
       "                        <td id=\"T_707484d6_5c8b_11ea_9f29_252bb08be64drow2_col1\" class=\"data row2 col1\" >-8.99063e-05</td>\n",
       "                        <td id=\"T_707484d6_5c8b_11ea_9f29_252bb08be64drow2_col2\" class=\"data row2 col2\" >1</td>\n",
       "                        <td id=\"T_707484d6_5c8b_11ea_9f29_252bb08be64drow2_col3\" class=\"data row2 col3\" >0.027934</td>\n",
       "                        <td id=\"T_707484d6_5c8b_11ea_9f29_252bb08be64drow2_col4\" class=\"data row2 col4\" >0.000736274</td>\n",
       "                        <td id=\"T_707484d6_5c8b_11ea_9f29_252bb08be64drow2_col5\" class=\"data row2 col5\" >-0.00351419</td>\n",
       "                        <td id=\"T_707484d6_5c8b_11ea_9f29_252bb08be64drow2_col6\" class=\"data row2 col6\" >0.0204217</td>\n",
       "                        <td id=\"T_707484d6_5c8b_11ea_9f29_252bb08be64drow2_col7\" class=\"data row2 col7\" >0.0157977</td>\n",
       "                        <td id=\"T_707484d6_5c8b_11ea_9f29_252bb08be64drow2_col8\" class=\"data row2 col8\" >0.00985232</td>\n",
       "                        <td id=\"T_707484d6_5c8b_11ea_9f29_252bb08be64drow2_col9\" class=\"data row2 col9\" >-0.0149286</td>\n",
       "            </tr>\n",
       "            <tr>\n",
       "                        <th id=\"T_707484d6_5c8b_11ea_9f29_252bb08be64dlevel0_row3\" class=\"row_heading level0 row3\" >clouds_all</th>\n",
       "                        <td id=\"T_707484d6_5c8b_11ea_9f29_252bb08be64drow3_col0\" class=\"data row3 col0\" >-0.101968</td>\n",
       "                        <td id=\"T_707484d6_5c8b_11ea_9f29_252bb08be64drow3_col1\" class=\"data row3 col1\" >0.00481843</td>\n",
       "                        <td id=\"T_707484d6_5c8b_11ea_9f29_252bb08be64drow3_col2\" class=\"data row3 col2\" >0.027934</td>\n",
       "                        <td id=\"T_707484d6_5c8b_11ea_9f29_252bb08be64drow3_col3\" class=\"data row3 col3\" >1</td>\n",
       "                        <td id=\"T_707484d6_5c8b_11ea_9f29_252bb08be64drow3_col4\" class=\"data row3 col4\" >0.0671382</td>\n",
       "                        <td id=\"T_707484d6_5c8b_11ea_9f29_252bb08be64drow3_col5\" class=\"data row3 col5\" >-0.0728552</td>\n",
       "                        <td id=\"T_707484d6_5c8b_11ea_9f29_252bb08be64drow3_col6\" class=\"data row3 col6\" >-0.00911762</td>\n",
       "                        <td id=\"T_707484d6_5c8b_11ea_9f29_252bb08be64drow3_col7\" class=\"data row3 col7\" >0.0484245</td>\n",
       "                        <td id=\"T_707484d6_5c8b_11ea_9f29_252bb08be64drow3_col8\" class=\"data row3 col8\" >0.0545218</td>\n",
       "                        <td id=\"T_707484d6_5c8b_11ea_9f29_252bb08be64drow3_col9\" class=\"data row3 col9\" >-0.039816</td>\n",
       "            </tr>\n",
       "            <tr>\n",
       "                        <th id=\"T_707484d6_5c8b_11ea_9f29_252bb08be64dlevel0_row4\" class=\"row_heading level0 row4\" >traffic_volume</th>\n",
       "                        <td id=\"T_707484d6_5c8b_11ea_9f29_252bb08be64drow4_col0\" class=\"data row4 col0\" >0.130161</td>\n",
       "                        <td id=\"T_707484d6_5c8b_11ea_9f29_252bb08be64drow4_col1\" class=\"data row4 col1\" >0.00471506</td>\n",
       "                        <td id=\"T_707484d6_5c8b_11ea_9f29_252bb08be64drow4_col2\" class=\"data row4 col2\" >0.000736274</td>\n",
       "                        <td id=\"T_707484d6_5c8b_11ea_9f29_252bb08be64drow4_col3\" class=\"data row4 col3\" >0.0671382</td>\n",
       "                        <td id=\"T_707484d6_5c8b_11ea_9f29_252bb08be64drow4_col4\" class=\"data row4 col4\" >1</td>\n",
       "                        <td id=\"T_707484d6_5c8b_11ea_9f29_252bb08be64drow4_col5\" class=\"data row4 col5\" >0.00469673</td>\n",
       "                        <td id=\"T_707484d6_5c8b_11ea_9f29_252bb08be64drow4_col6\" class=\"data row4 col6\" >-0.00247962</td>\n",
       "                        <td id=\"T_707484d6_5c8b_11ea_9f29_252bb08be64drow4_col7\" class=\"data row4 col7\" >-0.0077597</td>\n",
       "                        <td id=\"T_707484d6_5c8b_11ea_9f29_252bb08be64drow4_col8\" class=\"data row4 col8\" >0.3523</td>\n",
       "                        <td id=\"T_707484d6_5c8b_11ea_9f29_252bb08be64drow4_col9\" class=\"data row4 col9\" >-0.149551</td>\n",
       "            </tr>\n",
       "            <tr>\n",
       "                        <th id=\"T_707484d6_5c8b_11ea_9f29_252bb08be64dlevel0_row5\" class=\"row_heading level0 row5\" >year</th>\n",
       "                        <td id=\"T_707484d6_5c8b_11ea_9f29_252bb08be64drow5_col0\" class=\"data row5 col0\" >0.134916</td>\n",
       "                        <td id=\"T_707484d6_5c8b_11ea_9f29_252bb08be64drow5_col1\" class=\"data row5 col1\" >0.000443471</td>\n",
       "                        <td id=\"T_707484d6_5c8b_11ea_9f29_252bb08be64drow5_col2\" class=\"data row5 col2\" >-0.00351419</td>\n",
       "                        <td id=\"T_707484d6_5c8b_11ea_9f29_252bb08be64drow5_col3\" class=\"data row5 col3\" >-0.0728552</td>\n",
       "                        <td id=\"T_707484d6_5c8b_11ea_9f29_252bb08be64drow5_col4\" class=\"data row5 col4\" >0.00469673</td>\n",
       "                        <td id=\"T_707484d6_5c8b_11ea_9f29_252bb08be64drow5_col5\" class=\"data row5 col5\" >1</td>\n",
       "                        <td id=\"T_707484d6_5c8b_11ea_9f29_252bb08be64drow5_col6\" class=\"data row5 col6\" >-0.15884</td>\n",
       "                        <td id=\"T_707484d6_5c8b_11ea_9f29_252bb08be64drow5_col7\" class=\"data row5 col7\" >0.0120909</td>\n",
       "                        <td id=\"T_707484d6_5c8b_11ea_9f29_252bb08be64drow5_col8\" class=\"data row5 col8\" >-0.00756136</td>\n",
       "                        <td id=\"T_707484d6_5c8b_11ea_9f29_252bb08be64drow5_col9\" class=\"data row5 col9\" >-0.0123961</td>\n",
       "            </tr>\n",
       "            <tr>\n",
       "                        <th id=\"T_707484d6_5c8b_11ea_9f29_252bb08be64dlevel0_row6\" class=\"row_heading level0 row6\" >month</th>\n",
       "                        <td id=\"T_707484d6_5c8b_11ea_9f29_252bb08be64drow6_col0\" class=\"data row6 col0\" >0.223943</td>\n",
       "                        <td id=\"T_707484d6_5c8b_11ea_9f29_252bb08be64drow6_col1\" class=\"data row6 col1\" >0.00129963</td>\n",
       "                        <td id=\"T_707484d6_5c8b_11ea_9f29_252bb08be64drow6_col2\" class=\"data row6 col2\" >0.0204217</td>\n",
       "                        <td id=\"T_707484d6_5c8b_11ea_9f29_252bb08be64drow6_col3\" class=\"data row6 col3\" >-0.00911762</td>\n",
       "                        <td id=\"T_707484d6_5c8b_11ea_9f29_252bb08be64drow6_col4\" class=\"data row6 col4\" >-0.00247962</td>\n",
       "                        <td id=\"T_707484d6_5c8b_11ea_9f29_252bb08be64drow6_col5\" class=\"data row6 col5\" >-0.15884</td>\n",
       "                        <td id=\"T_707484d6_5c8b_11ea_9f29_252bb08be64drow6_col6\" class=\"data row6 col6\" >1</td>\n",
       "                        <td id=\"T_707484d6_5c8b_11ea_9f29_252bb08be64drow6_col7\" class=\"data row6 col7\" >0.0086861</td>\n",
       "                        <td id=\"T_707484d6_5c8b_11ea_9f29_252bb08be64drow6_col8\" class=\"data row6 col8\" >0.0018437</td>\n",
       "                        <td id=\"T_707484d6_5c8b_11ea_9f29_252bb08be64drow6_col9\" class=\"data row6 col9\" >0.0107621</td>\n",
       "            </tr>\n",
       "            <tr>\n",
       "                        <th id=\"T_707484d6_5c8b_11ea_9f29_252bb08be64dlevel0_row7\" class=\"row_heading level0 row7\" >day</th>\n",
       "                        <td id=\"T_707484d6_5c8b_11ea_9f29_252bb08be64drow7_col0\" class=\"data row7 col0\" >0.022677</td>\n",
       "                        <td id=\"T_707484d6_5c8b_11ea_9f29_252bb08be64drow7_col1\" class=\"data row7 col1\" >-0.0022933</td>\n",
       "                        <td id=\"T_707484d6_5c8b_11ea_9f29_252bb08be64drow7_col2\" class=\"data row7 col2\" >0.0157977</td>\n",
       "                        <td id=\"T_707484d6_5c8b_11ea_9f29_252bb08be64drow7_col3\" class=\"data row7 col3\" >0.0484245</td>\n",
       "                        <td id=\"T_707484d6_5c8b_11ea_9f29_252bb08be64drow7_col4\" class=\"data row7 col4\" >-0.0077597</td>\n",
       "                        <td id=\"T_707484d6_5c8b_11ea_9f29_252bb08be64drow7_col5\" class=\"data row7 col5\" >0.0120909</td>\n",
       "                        <td id=\"T_707484d6_5c8b_11ea_9f29_252bb08be64drow7_col6\" class=\"data row7 col6\" >0.0086861</td>\n",
       "                        <td id=\"T_707484d6_5c8b_11ea_9f29_252bb08be64drow7_col7\" class=\"data row7 col7\" >1</td>\n",
       "                        <td id=\"T_707484d6_5c8b_11ea_9f29_252bb08be64drow7_col8\" class=\"data row7 col8\" >-0.00953101</td>\n",
       "                        <td id=\"T_707484d6_5c8b_11ea_9f29_252bb08be64drow7_col9\" class=\"data row7 col9\" >0.00862729</td>\n",
       "            </tr>\n",
       "            <tr>\n",
       "                        <th id=\"T_707484d6_5c8b_11ea_9f29_252bb08be64dlevel0_row8\" class=\"row_heading level0 row8\" >hour</th>\n",
       "                        <td id=\"T_707484d6_5c8b_11ea_9f29_252bb08be64drow8_col0\" class=\"data row8 col0\" >0.112048</td>\n",
       "                        <td id=\"T_707484d6_5c8b_11ea_9f29_252bb08be64drow8_col1\" class=\"data row8 col1\" >0.0034222</td>\n",
       "                        <td id=\"T_707484d6_5c8b_11ea_9f29_252bb08be64drow8_col2\" class=\"data row8 col2\" >0.00985232</td>\n",
       "                        <td id=\"T_707484d6_5c8b_11ea_9f29_252bb08be64drow8_col3\" class=\"data row8 col3\" >0.0545218</td>\n",
       "                        <td id=\"T_707484d6_5c8b_11ea_9f29_252bb08be64drow8_col4\" class=\"data row8 col4\" >0.3523</td>\n",
       "                        <td id=\"T_707484d6_5c8b_11ea_9f29_252bb08be64drow8_col5\" class=\"data row8 col5\" >-0.00756136</td>\n",
       "                        <td id=\"T_707484d6_5c8b_11ea_9f29_252bb08be64drow8_col6\" class=\"data row8 col6\" >0.0018437</td>\n",
       "                        <td id=\"T_707484d6_5c8b_11ea_9f29_252bb08be64drow8_col7\" class=\"data row8 col7\" >-0.00953101</td>\n",
       "                        <td id=\"T_707484d6_5c8b_11ea_9f29_252bb08be64drow8_col8\" class=\"data row8 col8\" >1</td>\n",
       "                        <td id=\"T_707484d6_5c8b_11ea_9f29_252bb08be64drow8_col9\" class=\"data row8 col9\" >-0.00380821</td>\n",
       "            </tr>\n",
       "            <tr>\n",
       "                        <th id=\"T_707484d6_5c8b_11ea_9f29_252bb08be64dlevel0_row9\" class=\"row_heading level0 row9\" >weekday</th>\n",
       "                        <td id=\"T_707484d6_5c8b_11ea_9f29_252bb08be64drow9_col0\" class=\"data row9 col0\" >-0.0078244</td>\n",
       "                        <td id=\"T_707484d6_5c8b_11ea_9f29_252bb08be64drow9_col1\" class=\"data row9 col1\" >-0.00692016</td>\n",
       "                        <td id=\"T_707484d6_5c8b_11ea_9f29_252bb08be64drow9_col2\" class=\"data row9 col2\" >-0.0149286</td>\n",
       "                        <td id=\"T_707484d6_5c8b_11ea_9f29_252bb08be64drow9_col3\" class=\"data row9 col3\" >-0.039816</td>\n",
       "                        <td id=\"T_707484d6_5c8b_11ea_9f29_252bb08be64drow9_col4\" class=\"data row9 col4\" >-0.149551</td>\n",
       "                        <td id=\"T_707484d6_5c8b_11ea_9f29_252bb08be64drow9_col5\" class=\"data row9 col5\" >-0.0123961</td>\n",
       "                        <td id=\"T_707484d6_5c8b_11ea_9f29_252bb08be64drow9_col6\" class=\"data row9 col6\" >0.0107621</td>\n",
       "                        <td id=\"T_707484d6_5c8b_11ea_9f29_252bb08be64drow9_col7\" class=\"data row9 col7\" >0.00862729</td>\n",
       "                        <td id=\"T_707484d6_5c8b_11ea_9f29_252bb08be64drow9_col8\" class=\"data row9 col8\" >-0.00380821</td>\n",
       "                        <td id=\"T_707484d6_5c8b_11ea_9f29_252bb08be64drow9_col9\" class=\"data row9 col9\" >1</td>\n",
       "            </tr>\n",
       "    </tbody></table>"
      ],
      "text/plain": [
       "<pandas.io.formats.style.Styler at 0x7f9d0d682d10>"
      ]
     },
     "execution_count": 22,
     "metadata": {},
     "output_type": "execute_result"
    }
   ],
   "source": [
    "correl = df_base.corr()\n",
    "correl.style.background_gradient(cmap = 'coolwarm')"
   ]
  },
  {
   "cell_type": "markdown",
   "metadata": {},
   "source": [
    "E aqui temos a matriz de correlação. Agora podemos vizualizar, numericamente, a correlação entre os atributos. \n",
    "Os atributos que possuem correlações desprezíveis, são: **day**, **month**, **year**, **snow_1h**, **rain_1h**. E eles serão removidos da base de dados."
   ]
  },
  {
   "cell_type": "code",
   "execution_count": 23,
   "metadata": {},
   "outputs": [],
   "source": [
    "df_base = df_base.drop(columns=['day'])\n",
    "df_base = df_base.drop(columns=['month'])\n",
    "df_base = df_base.drop(columns=['year'])\n",
    "df_base = df_base.drop(columns=['snow_1h'])\n",
    "df_base = df_base.drop(columns=['rain_1h'])"
   ]
  },
  {
   "cell_type": "code",
   "execution_count": 24,
   "metadata": {},
   "outputs": [
    {
     "data": {
      "text/html": [
       "<div>\n",
       "<style scoped>\n",
       "    .dataframe tbody tr th:only-of-type {\n",
       "        vertical-align: middle;\n",
       "    }\n",
       "\n",
       "    .dataframe tbody tr th {\n",
       "        vertical-align: top;\n",
       "    }\n",
       "\n",
       "    .dataframe thead th {\n",
       "        text-align: right;\n",
       "    }\n",
       "</style>\n",
       "<table border=\"1\" class=\"dataframe\">\n",
       "  <thead>\n",
       "    <tr style=\"text-align: right;\">\n",
       "      <th></th>\n",
       "      <th>temp</th>\n",
       "      <th>clouds_all</th>\n",
       "      <th>traffic_volume</th>\n",
       "      <th>hour</th>\n",
       "      <th>weekday</th>\n",
       "    </tr>\n",
       "  </thead>\n",
       "  <tbody>\n",
       "    <tr>\n",
       "      <td>0</td>\n",
       "      <td>288.28</td>\n",
       "      <td>40</td>\n",
       "      <td>5545</td>\n",
       "      <td>9</td>\n",
       "      <td>1</td>\n",
       "    </tr>\n",
       "    <tr>\n",
       "      <td>1</td>\n",
       "      <td>289.36</td>\n",
       "      <td>75</td>\n",
       "      <td>4516</td>\n",
       "      <td>10</td>\n",
       "      <td>1</td>\n",
       "    </tr>\n",
       "    <tr>\n",
       "      <td>2</td>\n",
       "      <td>289.58</td>\n",
       "      <td>90</td>\n",
       "      <td>4767</td>\n",
       "      <td>11</td>\n",
       "      <td>1</td>\n",
       "    </tr>\n",
       "    <tr>\n",
       "      <td>3</td>\n",
       "      <td>290.13</td>\n",
       "      <td>90</td>\n",
       "      <td>5026</td>\n",
       "      <td>12</td>\n",
       "      <td>1</td>\n",
       "    </tr>\n",
       "    <tr>\n",
       "      <td>4</td>\n",
       "      <td>291.14</td>\n",
       "      <td>75</td>\n",
       "      <td>4918</td>\n",
       "      <td>13</td>\n",
       "      <td>1</td>\n",
       "    </tr>\n",
       "  </tbody>\n",
       "</table>\n",
       "</div>"
      ],
      "text/plain": [
       "     temp  clouds_all  traffic_volume  hour  weekday\n",
       "0  288.28          40            5545     9        1\n",
       "1  289.36          75            4516    10        1\n",
       "2  289.58          90            4767    11        1\n",
       "3  290.13          90            5026    12        1\n",
       "4  291.14          75            4918    13        1"
      ]
     },
     "execution_count": 24,
     "metadata": {},
     "output_type": "execute_result"
    }
   ],
   "source": [
    "df_base.head()"
   ]
  },
  {
   "cell_type": "markdown",
   "metadata": {},
   "source": [
    "# Identificando Outliers"
   ]
  },
  {
   "cell_type": "code",
   "execution_count": 25,
   "metadata": {},
   "outputs": [
    {
     "data": {
      "text/plain": [
       "array([[<matplotlib.axes._subplots.AxesSubplot object at 0x7f9d0d5f2e10>]],\n",
       "      dtype=object)"
      ]
     },
     "execution_count": 25,
     "metadata": {},
     "output_type": "execute_result"
    },
    {
     "data": {
      "image/png": "[encoded data removed]",
      "text/plain": [
       "<Figure size 432x288 with 1 Axes>"
      ]
     },
     "metadata": {
      "needs_background": "light"
     },
     "output_type": "display_data"
    },
    {
     "data": {
      "image/png": "[encoded data removed]",
      "text/plain": [
       "<Figure size 432x288 with 1 Axes>"
      ]
     },
     "metadata": {
      "needs_background": "light"
     },
     "output_type": "display_data"
    }
   ],
   "source": [
    "df_base['temp'].plot.box()\n",
    "df_base.hist(column='temp')"
   ]
  },
  {
   "cell_type": "markdown",
   "metadata": {},
   "source": [
    "Há alguns outliers em **temp**, provavelmente com valores próximos a _0_. No entanto, não serão tratados agora. "
   ]
  },
  {
   "cell_type": "code",
   "execution_count": 26,
   "metadata": {},
   "outputs": [
    {
     "data": {
      "text/plain": [
       "array([[<matplotlib.axes._subplots.AxesSubplot object at 0x7f9d0cdcb410>]],\n",
       "      dtype=object)"
      ]
     },
     "execution_count": 26,
     "metadata": {},
     "output_type": "execute_result"
    },
    {
     "data": {
      "image/png": "[encoded data removed]",
      "text/plain": [
       "<Figure size 432x288 with 1 Axes>"
      ]
     },
     "metadata": {
      "needs_background": "light"
     },
     "output_type": "display_data"
    },
    {
     "data": {
      "image/png": "[encoded data removed]",
      "text/plain": [
       "<Figure size 432x288 with 1 Axes>"
      ]
     },
     "metadata": {
      "needs_background": "light"
     },
     "output_type": "display_data"
    }
   ],
   "source": [
    "df_base['clouds_all'].plot.box()\n",
    "df_base.hist(column='clouds_all')\n"
   ]
  },
  {
   "cell_type": "markdown",
   "metadata": {},
   "source": [
    "Não há outliers. "
   ]
  },
  {
   "cell_type": "code",
   "execution_count": 27,
   "metadata": {},
   "outputs": [
    {
     "data": {
      "text/plain": [
       "array([[<matplotlib.axes._subplots.AxesSubplot object at 0x7f9d0c320890>]],\n",
       "      dtype=object)"
      ]
     },
     "execution_count": 27,
     "metadata": {},
     "output_type": "execute_result"
    },
    {
     "data": {
      "image/png": "[encoded data removed]",
      "text/plain": [
       "<Figure size 432x288 with 1 Axes>"
      ]
     },
     "metadata": {
      "needs_background": "light"
     },
     "output_type": "display_data"
    },
    {
     "data": {
      "image/png": "[encoded data removed]",
      "text/plain": [
       "<Figure size 432x288 with 1 Axes>"
      ]
     },
     "metadata": {
      "needs_background": "light"
     },
     "output_type": "display_data"
    }
   ],
   "source": [
    "df_base['hour'].plot.box()\n",
    "df_base.hist(column='hour')"
   ]
  },
  {
   "cell_type": "code",
   "execution_count": null,
   "metadata": {},
   "outputs": [],
   "source": [
    "Não tem outliers"
   ]
  },
  {
   "cell_type": "code",
   "execution_count": 28,
   "metadata": {
    "scrolled": false
   },
   "outputs": [
    {
     "data": {
      "text/plain": [
       "array([[<matplotlib.axes._subplots.AxesSubplot object at 0x7f9d0d3288d0>]],\n",
       "      dtype=object)"
      ]
     },
     "execution_count": 28,
     "metadata": {},
     "output_type": "execute_result"
    },
    {
     "data": {
      "image/png": "[encoded data removed]",
      "text/plain": [
       "<Figure size 432x288 with 1 Axes>"
      ]
     },
     "metadata": {
      "needs_background": "light"
     },
     "output_type": "display_data"
    },
    {
     "data": {
      "image/png": "[encoded data removed]",
      "text/plain": [
       "<Figure size 432x288 with 1 Axes>"
      ]
     },
     "metadata": {
      "needs_background": "light"
     },
     "output_type": "display_data"
    }
   ],
   "source": [
    "df_base['weekday'].plot.box()\n",
    "df_base.hist(column='weekday')"
   ]
  },
  {
   "cell_type": "markdown",
   "metadata": {},
   "source": [
    "Também não há a presença de outliers!"
   ]
  },
  {
   "cell_type": "code",
   "execution_count": 29,
   "metadata": {},
   "outputs": [
    {
     "data": {
      "text/plain": [
       "array([[<matplotlib.axes._subplots.AxesSubplot object at 0x7f9d0cd69950>]],\n",
       "      dtype=object)"
      ]
     },
     "execution_count": 29,
     "metadata": {},
     "output_type": "execute_result"
    },
    {
     "data": {
      "image/png": "[encoded data removed]",
      "text/plain": [
       "<Figure size 432x288 with 1 Axes>"
      ]
     },
     "metadata": {
      "needs_background": "light"
     },
     "output_type": "display_data"
    },
    {
     "data": {
      "image/png": "[encoded data removed]",
      "text/plain": [
       "<Figure size 432x288 with 1 Axes>"
      ]
     },
     "metadata": {
      "needs_background": "light"
     },
     "output_type": "display_data"
    }
   ],
   "source": [
    "df_base['traffic_volume'].plot.box()\n",
    "df_base.hist(column='traffic_volume')"
   ]
  },
  {
   "cell_type": "markdown",
   "metadata": {},
   "source": [
    "Não há outliers em traffic_volume"
   ]
  },
  {
   "cell_type": "markdown",
   "metadata": {},
   "source": [
    "## Impacto de cada atribuito no Volume de Tráfego"
   ]
  },
  {
   "cell_type": "markdown",
   "metadata": {},
   "source": [
    "Mesmo já sabendo quais os atributos mais correlacionados a **traffic_volume**.\n",
    "Será mostrado como esses atributos interferem no volume de tráfego."
   ]
  },
  {
   "cell_type": "markdown",
   "metadata": {},
   "source": [
    "### Temp"
   ]
  },
  {
   "cell_type": "code",
   "execution_count": 30,
   "metadata": {},
   "outputs": [
    {
     "data": {
      "text/plain": [
       "Text(0, 0.5, 'Tráfego')"
      ]
     },
     "execution_count": 30,
     "metadata": {},
     "output_type": "execute_result"
    },
    {
     "data": {
      "image/png": "[encoded data removed]",
      "text/plain": [
       "<Figure size 432x288 with 1 Axes>"
      ]
     },
     "metadata": {
      "needs_background": "light"
     },
     "output_type": "display_data"
    }
   ],
   "source": [
    "plt.scatter(df_base['temp'],df_base['traffic_volume'],alpha = 0.2)\n",
    "plt.xlabel('Temperatura')\n",
    "plt.ylabel('Tráfego')"
   ]
  },
  {
   "cell_type": "markdown",
   "metadata": {},
   "source": [
    "Quando a temperatura está alta, há um maior volume de tráfego. No entanto, podemos perceber que quando a temperatura está baixa, também há um volume de tráfego, mas não tão grande. Neste caso, são alguns outliers, como já citado anteriormente."
   ]
  },
  {
   "cell_type": "markdown",
   "metadata": {},
   "source": [
    "### Clouds_all"
   ]
  },
  {
   "cell_type": "code",
   "execution_count": 31,
   "metadata": {},
   "outputs": [
    {
     "data": {
      "text/plain": [
       "Text(0, 0.5, 'Tráfego')"
      ]
     },
     "execution_count": 31,
     "metadata": {},
     "output_type": "execute_result"
    },
    {
     "data": {
      "image/png": "[encoded data removed]",
      "text/plain": [
       "<Figure size 432x288 with 1 Axes>"
      ]
     },
     "metadata": {
      "needs_background": "light"
     },
     "output_type": "display_data"
    }
   ],
   "source": [
    "plt.scatter(df_base['clouds_all'],df_base['traffic_volume'],alpha = 0.2)\n",
    "plt.xlabel('Clouds_All')\n",
    "plt.ylabel('Tráfego')"
   ]
  },
  {
   "cell_type": "markdown",
   "metadata": {},
   "source": [
    "Pode-se perceber o tamanho da nuvem mais correlacionados ao volume de tráfego. Há uma distribuição, quase que, uniforme. "
   ]
  },
  {
   "cell_type": "markdown",
   "metadata": {},
   "source": [
    "### Hour"
   ]
  },
  {
   "cell_type": "code",
   "execution_count": 32,
   "metadata": {},
   "outputs": [
    {
     "data": {
      "text/plain": [
       "Text(0, 0.5, 'Tráfego')"
      ]
     },
     "execution_count": 32,
     "metadata": {},
     "output_type": "execute_result"
    },
    {
     "data": {
      "image/png": "[encoded data removed]",
      "text/plain": [
       "<Figure size 432x288 with 1 Axes>"
      ]
     },
     "metadata": {
      "needs_background": "light"
     },
     "output_type": "display_data"
    }
   ],
   "source": [
    "plt.scatter(df_base['hour'],df_base['traffic_volume'],alpha = 0.2)\n",
    "plt.xlabel('Hour')\n",
    "plt.ylabel('Tráfego')"
   ]
  },
  {
   "cell_type": "markdown",
   "metadata": {},
   "source": [
    "Foram identificados que os horários que possuem mais volume de tráfego, foram: **6h, 7h, 8h, 9h, 11h, 12h, 13h, 16h, 17h e 18h**. Então, o volume de tráfego está relacionado aos horários de pico."
   ]
  },
  {
   "cell_type": "markdown",
   "metadata": {},
   "source": [
    "### Weekday"
   ]
  },
  {
   "cell_type": "code",
   "execution_count": 33,
   "metadata": {},
   "outputs": [
    {
     "data": {
      "text/plain": [
       "Text(0, 0.5, 'Tráfego')"
      ]
     },
     "execution_count": 33,
     "metadata": {},
     "output_type": "execute_result"
    },
    {
     "data": {
      "image/png": "[encoded data removed]",
      "text/plain": [
       "<Figure size 432x288 with 1 Axes>"
      ]
     },
     "metadata": {
      "needs_background": "light"
     },
     "output_type": "display_data"
    }
   ],
   "source": [
    "plt.scatter(df_base['weekday'],df_base['traffic_volume'],alpha = 0.2)\n",
    "plt.xlabel('Weekday')\n",
    "plt.ylabel('Tráfego')"
   ]
  },
  {
   "cell_type": "markdown",
   "metadata": {},
   "source": [
    "Pode-se visualizar que há uma distribuição bem uniforme."
   ]
  },
  {
   "cell_type": "markdown",
   "metadata": {},
   "source": [
    "# Normalização dos Dados"
   ]
  },
  {
   "cell_type": "markdown",
   "metadata": {},
   "source": [
    "A  aplicação da normalização dos dados se faz necessário para evitar que alguns atributos predominem sobre outros. E a normalização também trata melhor os outliers, e na base de dados foram encontrados alguns outliers.  "
   ]
  },
  {
   "cell_type": "code",
   "execution_count": 34,
   "metadata": {},
   "outputs": [
    {
     "data": {
      "text/html": [
       "<div>\n",
       "<style scoped>\n",
       "    .dataframe tbody tr th:only-of-type {\n",
       "        vertical-align: middle;\n",
       "    }\n",
       "\n",
       "    .dataframe tbody tr th {\n",
       "        vertical-align: top;\n",
       "    }\n",
       "\n",
       "    .dataframe thead th {\n",
       "        text-align: right;\n",
       "    }\n",
       "</style>\n",
       "<table border=\"1\" class=\"dataframe\">\n",
       "  <thead>\n",
       "    <tr style=\"text-align: right;\">\n",
       "      <th></th>\n",
       "      <th>temp</th>\n",
       "      <th>clouds_all</th>\n",
       "      <th>hour</th>\n",
       "      <th>weekday</th>\n",
       "      <th>traffic_volume</th>\n",
       "    </tr>\n",
       "  </thead>\n",
       "  <tbody>\n",
       "    <tr>\n",
       "      <td>0</td>\n",
       "      <td>0.530416</td>\n",
       "      <td>-0.240049</td>\n",
       "      <td>-0.345481</td>\n",
       "      <td>-0.989478</td>\n",
       "      <td>5545</td>\n",
       "    </tr>\n",
       "    <tr>\n",
       "      <td>1</td>\n",
       "      <td>0.611384</td>\n",
       "      <td>0.657047</td>\n",
       "      <td>-0.201395</td>\n",
       "      <td>-0.989478</td>\n",
       "      <td>4516</td>\n",
       "    </tr>\n",
       "    <tr>\n",
       "      <td>2</td>\n",
       "      <td>0.627877</td>\n",
       "      <td>1.041516</td>\n",
       "      <td>-0.057309</td>\n",
       "      <td>-0.989478</td>\n",
       "      <td>4767</td>\n",
       "    </tr>\n",
       "    <tr>\n",
       "      <td>3</td>\n",
       "      <td>0.669111</td>\n",
       "      <td>1.041516</td>\n",
       "      <td>0.086777</td>\n",
       "      <td>-0.989478</td>\n",
       "      <td>5026</td>\n",
       "    </tr>\n",
       "    <tr>\n",
       "      <td>4</td>\n",
       "      <td>0.744831</td>\n",
       "      <td>0.657047</td>\n",
       "      <td>0.230863</td>\n",
       "      <td>-0.989478</td>\n",
       "      <td>4918</td>\n",
       "    </tr>\n",
       "  </tbody>\n",
       "</table>\n",
       "</div>"
      ],
      "text/plain": [
       "       temp  clouds_all      hour   weekday  traffic_volume\n",
       "0  0.530416   -0.240049 -0.345481 -0.989478            5545\n",
       "1  0.611384    0.657047 -0.201395 -0.989478            4516\n",
       "2  0.627877    1.041516 -0.057309 -0.989478            4767\n",
       "3  0.669111    1.041516  0.086777 -0.989478            5026\n",
       "4  0.744831    0.657047  0.230863 -0.989478            4918"
      ]
     },
     "execution_count": 34,
     "metadata": {},
     "output_type": "execute_result"
    }
   ],
   "source": [
    "num = df_base.select_dtypes(['float64', 'int64']).columns.values\n",
    "num = np.delete(num, np.argwhere(num == 'traffic_volume'))\n",
    "\n",
    "scaler = preprocessing.StandardScaler()\n",
    "scaled = pd.concat([pd.DataFrame(scaler.fit_transform(df_base[num]), columns = num), df_base['traffic_volume']], axis=1)\n",
    "\n",
    "scaled.head()"
   ]
  },
  {
   "cell_type": "markdown",
   "metadata": {},
   "source": [
    "# Divisão da Base de Dados - 70/30"
   ]
  },
  {
   "cell_type": "code",
   "execution_count": 35,
   "metadata": {},
   "outputs": [],
   "source": [
    "trainSample,testSample = model_selection.train_test_split(scaled.copy(), random_state = 42, test_size = 0.3, shuffle = True)\n",
    "    \n",
    "trainSample2,testSample2 = model_selection.train_test_split(scaled.copy(), random_state = 43,test_size = 0.3, shuffle = True)\n",
    "\n",
    "trainTarget = trainSample['traffic_volume'].copy()\n",
    "testTarget = testSample['traffic_volume'].copy()\n",
    "\n",
    "trainTarget2 = trainSample2['traffic_volume'].copy()\n",
    "testTarget2 = testSample2['traffic_volume'].copy()\n",
    "\n",
    "del trainSample['traffic_volume']\n",
    "del testSample['traffic_volume']\n",
    "del trainSample2['traffic_volume']\n",
    "del testSample2['traffic_volume']\n",
    "\n"
   ]
  },
  {
   "cell_type": "markdown",
   "metadata": {},
   "source": [
    "A base de dados foi divida em 70/30, isto é, 70% para o treinamento e 30% para os testes. Como requerido, o experimento será realizado\n",
    "duas vezes. Por isso, o conjunto de treinamento e teste possuem duas amostras cada.\n"
   ]
  },
  {
   "cell_type": "markdown",
   "metadata": {},
   "source": [
    "# Aplicação do KNN"
   ]
  },
  {
   "cell_type": "markdown",
   "metadata": {},
   "source": [
    "O algoritmo de aprendizagem de máquina escolhido é o k-Nearest Neighbors(KNN) para regressão. Com o valor de **k=3**. "
   ]
  },
  {
   "cell_type": "code",
   "execution_count": 43,
   "metadata": {},
   "outputs": [],
   "source": [
    "knn = neighbors.KNeighborsRegressor(n_neighbors=3)\n",
    "\n",
    "knn.fit(trainSample,trainTarget)\n",
    "result_firstKNN = knn.predict(testSample)\n",
    "result_trainKNN = knn.predict(trainSample) #predição do como os dados do treino\n",
    "\n",
    "\n",
    "knn.fit(trainSample2,trainTarget2)\n",
    "result_secondKNN = knn.predict(testSample2)\n",
    "result_tKNN = knn.predict(trainSample2)#predição do como os dados do treino"
   ]
  },
  {
   "cell_type": "markdown",
   "metadata": {},
   "source": [
    "O modelo será avaliados por meio de métricas. As métricas, neste caso, serão: Mean Squared Error (**MSE**), Mean Absolute Error (**MAE**) e Coefficient of Determination (*$R^2$*). Para as duas primeiras métricas de avaliação, valores próximos a 0 indicam que o modelo possui poucos erros. Já em relação a última métrica, valores próximos a 1 indicam que o modelo se ajusta muito bem aos dados."
   ]
  },
  {
   "cell_type": "code",
   "execution_count": 46,
   "metadata": {
    "scrolled": true
   },
   "outputs": [
    {
     "name": "stdout",
     "output_type": "stream",
     "text": [
      "Primeiro conjunto de teste KNN com k=3\n",
      "MSE = 298296.99829\n",
      "MAE = 325.59173\n",
      "R² = 0.92548 - teste\n",
      "R² = 0.96225 - treino\n",
      "\n",
      "\n",
      "Segundo conjunto de teste KNN com k=3\n",
      "MSE = 315061.31221\n",
      "MAE = 330.16232\n",
      "R² = 0.91993 - teste\n",
      "R² = 0.96386 - treino\n"
     ]
    }
   ],
   "source": [
    "print(\"Primeiro conjunto de teste KNN com k=3\")\n",
    "\n",
    "print(\"MSE = %0.5f\" % (metrics.mean_squared_error(testTarget,result_firstKNN)))\n",
    "print(\"MAE = %0.5f\" % (metrics.mean_absolute_error(testTarget,result_firstKNN)))\n",
    "print(\"R² = %0.5f - teste\" % (metrics.r2_score(testTarget,result_firstKNN)))\n",
    "print(\"R² = %0.5f - treino\" % (metrics.r2_score(trainTarget,result_trainKNN)))\n",
    "\n",
    "print(\"\\n\\nSegundo conjunto de teste KNN com k=3\")\n",
    "print(\"MSE = %0.5f\" % (metrics.mean_squared_error(testTarget2,result_secondKNN)))\n",
    "print(\"MAE = %0.5f\" % (metrics.mean_absolute_error(testTarget2,result_secondKNN)))\n",
    "print(\"R² = %0.5f - teste\" % (metrics.r2_score(testTarget2,result_secondKNN)))\n",
    "print(\"R² = %0.5f - treino\" % (metrics.r2_score(trainTarget2,result_tKNN)))"
   ]
  },
  {
   "cell_type": "markdown",
   "metadata": {},
   "source": [
    "Nas duas execuções do algortimo os valores de coeficiente de determinação obtido foi superior a 0.9  A partir dos resultados em (*$R^2$*), é possível perceber que nas duas execuções de teste, os valores foram superiores a 0.9. \n",
    "Realizando avaliação e comparação, somente, da métrica do Coefficient of Determination (*$R^2$*), é possível perceber que não acontece um overfitting. POis quando o conjunto de teste foi executado, eĺe apresentou valores diferentes da execução do conjunto de treino."
   ]
  },
  {
   "cell_type": "markdown",
   "metadata": {},
   "source": [
    "### Gráfico KNN"
   ]
  },
  {
   "cell_type": "code",
   "execution_count": 58,
   "metadata": {},
   "outputs": [],
   "source": [
    "def scatter(x, y,title = None):\n",
    "    fig, ax = plt.subplots()\n",
    "    ax.scatter(x, y, c='blue',alpha = 0.3)\n",
    "    line = mlines.Line2D([0, 1], [0, 1], color='black')\n",
    "    transform = ax.transAxes\n",
    "    line.set_transform(transform)\n",
    "    ax.add_line(line)\n",
    "    plt.xlabel(\"Previsto\")\n",
    "    plt.ylabel(\"Verdadeiro\")\n",
    "    if title != None:\n",
    "        plt.title(title)\n",
    "    plt.show()\n",
    "    \n",
    "   "
   ]
  },
  {
   "cell_type": "code",
   "execution_count": 59,
   "metadata": {},
   "outputs": [
    {
     "data": {
      "image/png": "[encoded data removed]",
      "text/plain": [
       "<Figure size 432x288 with 1 Axes>"
      ]
     },
     "metadata": {
      "needs_background": "light"
     },
     "output_type": "display_data"
    }
   ],
   "source": [
    "scatter(result_firstKNN,testTarget, \"KNN - primeira execução\") #primeira execução"
   ]
  },
  {
   "cell_type": "code",
   "execution_count": 60,
   "metadata": {},
   "outputs": [
    {
     "data": {
      "image/png": "[encoded data removed]",
      "text/plain": [
       "<Figure size 432x288 with 1 Axes>"
      ]
     },
     "metadata": {
      "needs_background": "light"
     },
     "output_type": "display_data"
    }
   ],
   "source": [
    "scatter(result_secondKNN,testTarget2, \"KNN - segunda execução\") #segunda execução"
   ]
  },
  {
   "cell_type": "markdown",
   "metadata": {},
   "source": [
    "A execução do KNN nas duas amostras apresentaram saídas bem parecidas. A partir das métricas, é possível perceber que o algoritmo conseguiu prever bem a saída desejada na maioria dos casos. No entanto, quando se faz a plotagem do gráfico, é possível visualizar que o algoritmo falhou em alguns casos. Uma hipótese, é inferir que o atributo **holiday**, mesmo totalmente desbalanceado, deva ter feito uma diferença, já que é esperado que nos dias de feriado o volume de passageiro no metrô diminua. "
   ]
  },
  {
   "cell_type": "markdown",
   "metadata": {},
   "source": [
    "# Aplicação da Árvore de Decisão"
   ]
  },
  {
   "cell_type": "markdown",
   "metadata": {},
   "source": [
    "O outro algoritmo a ser utilizado será a Árvore de Decisão para regressão. Da mesma forma que foi feito no KNN, aqui as amostras, de treino e teste, serão executadas duas vezes também."
   ]
  },
  {
   "cell_type": "code",
   "execution_count": 53,
   "metadata": {},
   "outputs": [],
   "source": [
    "tdt = tree.DecisionTreeRegressor()\n",
    "\n",
    "tdt.fit(trainSample, trainTarget)\n",
    "result_firstTree = tdt.predict(testSample)\n",
    "result_trainTree = knn.predict(trainSample) #predição do como os dados do treino\n",
    "\n",
    "tdt.fit(trainSample2, trainTarget2)\n",
    "result_secondTree = tdt.predict(testSample2)\n",
    "result_tTree = knn.predict(trainSample2)#predição do como os dados do treino"
   ]
  },
  {
   "cell_type": "code",
   "execution_count": 67,
   "metadata": {},
   "outputs": [
    {
     "name": "stdout",
     "output_type": "stream",
     "text": [
      "Primeiro conjunto de teste - Árvore de Decisão\n",
      "MSE = 360033.43370\n",
      "MAE = 302.47268\n",
      "R² = 0.91006 - teste\n",
      "R² = 0.94930 - treino\n",
      "\n",
      "\n",
      "Segundo conjunto de teste - Árvore de Decisão\n",
      "MSE = 361600.77505\n",
      "MAE = 302.77080\n",
      "R² = 0.90811 - teste\n",
      "R² = 0.96386 - treino\n"
     ]
    }
   ],
   "source": [
    "print(\"Primeiro conjunto de teste - Árvore de Decisão\")\n",
    "\n",
    "print(\"MSE = %0.5f\" % (metrics.mean_squared_error(testTarget,result_firstTree)))\n",
    "print(\"MAE = %0.5f\" % (metrics.mean_absolute_error(testTarget,result_firstTree)))\n",
    "print(\"R² = %0.5f - teste\" % (metrics.r2_score(testTarget,result_firstTree)))\n",
    "print(\"R² = %0.5f - treino\" % (metrics.r2_score(trainTarget,result_trainTree)))\n",
    "\n",
    "print(\"\\n\\nSegundo conjunto de teste - Árvore de Decisão\")\n",
    "print(\"MSE = %0.5f\" % (metrics.mean_squared_error(testTarget2,result_secondTree)))\n",
    "print(\"MAE = %0.5f\" % (metrics.mean_absolute_error(testTarget2,result_secondTree)))\n",
    "print(\"R² = %0.5f - teste\" % (metrics.r2_score(testTarget2,result_secondTree)))\n",
    "print(\"R² = %0.5f - treino\" % (metrics.r2_score(trainTarget2,result_tTree)))\n"
   ]
  },
  {
   "cell_type": "markdown",
   "metadata": {},
   "source": [
    "O algoritmo de Árvore de Decisão foi avaliado da mesma forma que o algoritmo KNN. \n",
    "\n",
    "O algoritmo de Árvore de Decisão obteve resultados parecidos nas duas amostras testadas. Aqui também não acontece overfitting, devido a diferença de valores do R² tanto quanto aos valores de treino quanto aos valores de teste. "
   ]
  },
  {
   "cell_type": "markdown",
   "metadata": {},
   "source": [
    "### Gráfico da Árvore de Decisão"
   ]
  },
  {
   "cell_type": "code",
   "execution_count": 64,
   "metadata": {},
   "outputs": [],
   "source": [
    "def scatter(x, y,title=None):\n",
    "    fig, ax = plt.subplots()\n",
    "    ax.scatter(x, y, c='blue',alpha = 0.3)\n",
    "    line = mlines.Line2D([0, 1], [0, 1], color='black')\n",
    "    transform = ax.transAxes\n",
    "    line.set_transform(transform)\n",
    "    ax.add_line(line)\n",
    "    plt.xlabel(\"Previsto\")\n",
    "    plt.ylabel(\"Verdadeiro\")\n",
    "    if title != None:\n",
    "        plt.title(title)\n",
    "    plt.show()"
   ]
  },
  {
   "cell_type": "code",
   "execution_count": 65,
   "metadata": {},
   "outputs": [
    {
     "data": {
      "image/png": "[encoded data removed]",
      "text/plain": [
       "<Figure size 432x288 with 1 Axes>"
      ]
     },
     "metadata": {
      "needs_background": "light"
     },
     "output_type": "display_data"
    }
   ],
   "source": [
    "scatter(result_secondTree,testTarget2, \"Árvore de Decisão - primeira execução\") #primeira execução"
   ]
  },
  {
   "cell_type": "code",
   "execution_count": 66,
   "metadata": {},
   "outputs": [
    {
     "data": {
      "image/png": "[encoded data removed]",
      "text/plain": [
       "<Figure size 432x288 with 1 Axes>"
      ]
     },
     "metadata": {
      "needs_background": "light"
     },
     "output_type": "display_data"
    }
   ],
   "source": [
    "scatter(result_secondKNN,testTarget2, \"Árvore de Decisão - segunda execução\") #segunda execução"
   ]
  },
  {
   "cell_type": "markdown",
   "metadata": {},
   "source": [
    "A plotagem do gráfico de Árvore de Decisão mostra que o algortimo errou predição de algumas saída.  \n",
    "\n",
    "\n",
    "Quanto as métricas, comparando os dois algoritmos, o **MAE** apresentou um melhor resultado em Árvore de Decisão. Já o **MSE e R²** apresentaram um melhor resultado no KNN.\n",
    "\n",
    "\n",
    "\n"
   ]
  },
  {
   "cell_type": "markdown",
   "metadata": {},
   "source": [
    "# Validação Cruzada"
   ]
  },
  {
   "cell_type": "code",
   "execution_count": 68,
   "metadata": {},
   "outputs": [
    {
     "name": "stdout",
     "output_type": "stream",
     "text": [
      "Validação Cruzada - KNN\n",
      "MSE = 311770.32427\n",
      "MAE = 323.03148\n",
      "R² = 0.92083\n",
      "\n",
      "Validação Cruzada - Árvore de Decisão\n",
      "MSE = 376308.27672\n",
      "MAE = 299.42432\n",
      "R² = 0.90444\n"
     ]
    }
   ],
   "source": [
    "kf = model_selection.KFold(n_splits=10,random_state=42, shuffle=True)\n",
    "\n",
    "knn = neighbors.KNeighborsRegressor(n_neighbors=3)\n",
    "tee = tree.DecisionTreeRegressor()\n",
    "\n",
    "pred_x = scaled.copy()\n",
    "pred_y = pred_x['traffic_volume']\n",
    "\n",
    "del pred_x['traffic_volume']\n",
    "\n",
    "for train_index, test_index in kf.split(scaled):\n",
    "    x_train, x_test = pred_x.loc[train_index], pred_x.loc[test_index]\n",
    "    y_train, y_test = pred_y.loc[train_index], pred_y.loc[test_index]\n",
    "\n",
    "    knn.fit(x_train,y_train)\n",
    "    resultknn = knn.predict(x_test)\n",
    "    \n",
    "    tee.fit(x_train,y_train)\n",
    "    resulttree = tee.predict(x_test)\n",
    "\n",
    "print(\"Validação Cruzada - KNN\")\n",
    "print(\"MSE = %0.5f\" % (metrics.mean_squared_error(y_test,resultknn)))\n",
    "print(\"MAE = %0.5f\" % (metrics.mean_absolute_error(y_test,resultknn)))\n",
    "print(\"R² = %0.5f\" % (metrics.r2_score(y_test,resultknn)))\n",
    "\n",
    "    \n",
    "print(\"\\nValidação Cruzada - Árvore de Decisão\")\n",
    "print(\"MSE = %0.5f\" % (metrics.mean_squared_error(y_test,resulttree)))\n",
    "print(\"MAE = %0.5f\" % (metrics.mean_absolute_error(y_test,resulttree)))\n",
    "print(\"R² = %0.5f\" % (metrics.r2_score(y_test,resulttree)))\n",
    "        \n"
   ]
  },
  {
   "cell_type": "markdown",
   "metadata": {},
   "source": [
    "Mesmo realizando a validação cruzada, os resultados das métricas se mostraram similares aos resultados obtidos nos dois algoritmos executados anteriormente. Novamente o algoritmo KNN se mostra melhor que de Árvore de Decisão. Podemos concluir que os modelos utilizados não aparentam ter overfitting. Pois os modelos se adaptaram as diferentes amostras utilizadas. Conclui- se que mesmo realizando a validação cruzada, os resultados obtidos foram bastante semelhantes aos resultados até então conhecidos. "
   ]
  },
  {
   "cell_type": "code",
   "execution_count": null,
   "metadata": {},
   "outputs": [],
   "source": []
  }
 ],
 "metadata": {
  "kernelspec": {
   "display_name": "Python 3",
   "language": "python",
   "name": "python3"
  },
  "language_info": {
   "codemirror_mode": {
    "name": "ipython",
    "version": 3
   },
   "file_extension": ".py",
   "mimetype": "text/x-python",
   "name": "python",
   "nbconvert_exporter": "python",
   "pygments_lexer": "ipython3",
   "version": "3.7.4"
  }
 },
 "nbformat": 4,
 "nbformat_minor": 2
}
