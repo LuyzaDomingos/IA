{
 "cells": [
  {
   "cell_type": "markdown",
   "metadata": {},
   "source": [
    "# Segunda Questão - Regressão \n",
    "\n",
    "## Sumário\n",
    "\n",
    "* Bibliotecas\n",
    "* Pré-Processamento\n",
    "     * Verificando Dados\n",
    "     * Dados Ausentes\n",
    "     * Dados Duplicados\n",
    "     * Dados Não Numéricos\n",
    "     * Correlação\n",
    "     * Identificado Outliers\n",
    "* Normalização dos Dados\n",
    "* Divisão da Base de Dados - 70/30\n",
    "* Aplicação do Algoritmo de KNN\n",
    "* Aplicação do Algoritmo de Árvore de Decisão\n",
    "* Validação Cruzada\n",
    "* Conclusão\n",
    "\n",
    " \n",
    "\n"
   ]
  },
  {
   "cell_type": "markdown",
   "metadata": {},
   "source": [
    "# Bibliotecas"
   ]
  },
  {
   "cell_type": "markdown",
   "metadata": {},
   "source": [
    "Assim como na primeira questão, primeiro é necessário realizar a importação das dependências. "
   ]
  },
  {
   "cell_type": "code",
   "execution_count": 2,
   "metadata": {},
   "outputs": [],
   "source": [
    "import datetime\n",
    "\n",
    "import pandas as pd\n",
    "import numpy as np\n",
    "import matplotlib.pyplot as plt\n",
    "import matplotlib.lines as mlines\n",
    "import matplotlib.transforms as mtransforms\n",
    "import seaborn as sns\n",
    "\n",
    "from scipy import stats\n",
    "from sklearn import preprocessing, neighbors, model_selection, metrics, tree"
   ]
  },
  {
   "cell_type": "markdown",
   "metadata": {},
   "source": [
    "# Base de Dados"
   ]
  },
  {
   "cell_type": "markdown",
   "metadata": {},
   "source": [
    "Realizando a leitura da base de dados."
   ]
  },
  {
   "cell_type": "code",
   "execution_count": 3,
   "metadata": {},
   "outputs": [
    {
     "data": {
      "text/html": [
       "<div>\n",
       "<style scoped>\n",
       "    .dataframe tbody tr th:only-of-type {\n",
       "        vertical-align: middle;\n",
       "    }\n",
       "\n",
       "    .dataframe tbody tr th {\n",
       "        vertical-align: top;\n",
       "    }\n",
       "\n",
       "    .dataframe thead th {\n",
       "        text-align: right;\n",
       "    }\n",
       "</style>\n",
       "<table border=\"1\" class=\"dataframe\">\n",
       "  <thead>\n",
       "    <tr style=\"text-align: right;\">\n",
       "      <th></th>\n",
       "      <th>holiday</th>\n",
       "      <th>temp</th>\n",
       "      <th>rain_1h</th>\n",
       "      <th>snow_1h</th>\n",
       "      <th>clouds_all</th>\n",
       "      <th>weather_main</th>\n",
       "      <th>weather_description</th>\n",
       "      <th>date_time</th>\n",
       "      <th>traffic_volume</th>\n",
       "    </tr>\n",
       "  </thead>\n",
       "  <tbody>\n",
       "    <tr>\n",
       "      <td>0</td>\n",
       "      <td>None</td>\n",
       "      <td>288.28</td>\n",
       "      <td>0.0</td>\n",
       "      <td>0.0</td>\n",
       "      <td>40</td>\n",
       "      <td>Clouds</td>\n",
       "      <td>scattered clouds</td>\n",
       "      <td>2012-10-02 09:00:00</td>\n",
       "      <td>5545</td>\n",
       "    </tr>\n",
       "    <tr>\n",
       "      <td>1</td>\n",
       "      <td>None</td>\n",
       "      <td>289.36</td>\n",
       "      <td>0.0</td>\n",
       "      <td>0.0</td>\n",
       "      <td>75</td>\n",
       "      <td>Clouds</td>\n",
       "      <td>broken clouds</td>\n",
       "      <td>2012-10-02 10:00:00</td>\n",
       "      <td>4516</td>\n",
       "    </tr>\n",
       "    <tr>\n",
       "      <td>2</td>\n",
       "      <td>None</td>\n",
       "      <td>289.58</td>\n",
       "      <td>0.0</td>\n",
       "      <td>0.0</td>\n",
       "      <td>90</td>\n",
       "      <td>Clouds</td>\n",
       "      <td>overcast clouds</td>\n",
       "      <td>2012-10-02 11:00:00</td>\n",
       "      <td>4767</td>\n",
       "    </tr>\n",
       "    <tr>\n",
       "      <td>3</td>\n",
       "      <td>None</td>\n",
       "      <td>290.13</td>\n",
       "      <td>0.0</td>\n",
       "      <td>0.0</td>\n",
       "      <td>90</td>\n",
       "      <td>Clouds</td>\n",
       "      <td>overcast clouds</td>\n",
       "      <td>2012-10-02 12:00:00</td>\n",
       "      <td>5026</td>\n",
       "    </tr>\n",
       "    <tr>\n",
       "      <td>4</td>\n",
       "      <td>None</td>\n",
       "      <td>291.14</td>\n",
       "      <td>0.0</td>\n",
       "      <td>0.0</td>\n",
       "      <td>75</td>\n",
       "      <td>Clouds</td>\n",
       "      <td>broken clouds</td>\n",
       "      <td>2012-10-02 13:00:00</td>\n",
       "      <td>4918</td>\n",
       "    </tr>\n",
       "  </tbody>\n",
       "</table>\n",
       "</div>"
      ],
      "text/plain": [
       "  holiday    temp  rain_1h  snow_1h  clouds_all weather_main  \\\n",
       "0    None  288.28      0.0      0.0          40       Clouds   \n",
       "1    None  289.36      0.0      0.0          75       Clouds   \n",
       "2    None  289.58      0.0      0.0          90       Clouds   \n",
       "3    None  290.13      0.0      0.0          90       Clouds   \n",
       "4    None  291.14      0.0      0.0          75       Clouds   \n",
       "\n",
       "  weather_description            date_time  traffic_volume  \n",
       "0    scattered clouds  2012-10-02 09:00:00            5545  \n",
       "1       broken clouds  2012-10-02 10:00:00            4516  \n",
       "2     overcast clouds  2012-10-02 11:00:00            4767  \n",
       "3     overcast clouds  2012-10-02 12:00:00            5026  \n",
       "4       broken clouds  2012-10-02 13:00:00            4918  "
      ]
     },
     "execution_count": 3,
     "metadata": {},
     "output_type": "execute_result"
    }
   ],
   "source": [
    "df_base = pd.read_csv('Metro_Interstate_Traffic_Volume.csv',delimiter=',') \n",
    "df_base.head()"
   ]
  },
  {
   "cell_type": "markdown",
   "metadata": {},
   "source": [
    "A partir da leitura da base de dados, temos as informações que ela possui 9 atributos ao todo. Só que 8 desses atributos são de entrada e 1 atributo é de saída, que é o _traffic_volume_."
   ]
  },
  {
   "cell_type": "markdown",
   "metadata": {},
   "source": [
    "# Pré-Processamento"
   ]
  },
  {
   "cell_type": "markdown",
   "metadata": {},
   "source": [
    "Antes de tudo, é preciso realizar um pré-processamento na base de dados."
   ]
  },
  {
   "cell_type": "markdown",
   "metadata": {},
   "source": [
    "## Verificando os dados"
   ]
  },
  {
   "cell_type": "code",
   "execution_count": 4,
   "metadata": {},
   "outputs": [
    {
     "name": "stdout",
     "output_type": "stream",
     "text": [
      "<class 'pandas.core.frame.DataFrame'>\n",
      "RangeIndex: 48204 entries, 0 to 48203\n",
      "Data columns (total 9 columns):\n",
      "holiday                48204 non-null object\n",
      "temp                   48204 non-null float64\n",
      "rain_1h                48204 non-null float64\n",
      "snow_1h                48204 non-null float64\n",
      "clouds_all             48204 non-null int64\n",
      "weather_main           48204 non-null object\n",
      "weather_description    48204 non-null object\n",
      "date_time              48204 non-null object\n",
      "traffic_volume         48204 non-null int64\n",
      "dtypes: float64(3), int64(2), object(4)\n",
      "memory usage: 3.3+ MB\n"
     ]
    }
   ],
   "source": [
    "df_base.info()"
   ]
  },
  {
   "cell_type": "markdown",
   "metadata": {},
   "source": [
    "Foram obtidas informações dos atributos da base de dados. Aqui se pode confirmar que a base de dados possui tantos atributos numéricos (5 atributos) como atributos não numéricos (4 atributos). Provavelmente, os atributos não numéricos virão a ser convertidos para atributos numéricos, caso permaneçam na base."
   ]
  },
  {
   "cell_type": "markdown",
   "metadata": {},
   "source": [
    "## Dados Ausentes"
   ]
  },
  {
   "cell_type": "markdown",
   "metadata": {},
   "source": [
    "A base de dados será verificada para saber se existem valores faltando nos atributos."
   ]
  },
  {
   "cell_type": "code",
   "execution_count": 5,
   "metadata": {},
   "outputs": [
    {
     "data": {
      "text/plain": [
       "holiday                0\n",
       "temp                   0\n",
       "rain_1h                0\n",
       "snow_1h                0\n",
       "clouds_all             0\n",
       "weather_main           0\n",
       "weather_description    0\n",
       "date_time              0\n",
       "traffic_volume         0\n",
       "dtype: int64"
      ]
     },
     "execution_count": 5,
     "metadata": {},
     "output_type": "execute_result"
    }
   ],
   "source": [
    "pd.set_option('display.max_rows', None)\n",
    "df_base.isnull().sum()"
   ]
  },
  {
   "cell_type": "markdown",
   "metadata": {},
   "source": [
    "Não há nenhuma instância nula nos atributos. Sendo assim, nada será feito para corrigir dados ausentes."
   ]
  },
  {
   "cell_type": "markdown",
   "metadata": {},
   "source": [
    "## Dados Duplicados"
   ]
  },
  {
   "cell_type": "markdown",
   "metadata": {},
   "source": [
    "Verificando se existem dados duplicados. "
   ]
  },
  {
   "cell_type": "code",
   "execution_count": 6,
   "metadata": {},
   "outputs": [
    {
     "data": {
      "text/html": [
       "<div>\n",
       "<style scoped>\n",
       "    .dataframe tbody tr th:only-of-type {\n",
       "        vertical-align: middle;\n",
       "    }\n",
       "\n",
       "    .dataframe tbody tr th {\n",
       "        vertical-align: top;\n",
       "    }\n",
       "\n",
       "    .dataframe thead th {\n",
       "        text-align: right;\n",
       "    }\n",
       "</style>\n",
       "<table border=\"1\" class=\"dataframe\">\n",
       "  <thead>\n",
       "    <tr style=\"text-align: right;\">\n",
       "      <th></th>\n",
       "      <th>holiday</th>\n",
       "      <th>temp</th>\n",
       "      <th>rain_1h</th>\n",
       "      <th>snow_1h</th>\n",
       "      <th>clouds_all</th>\n",
       "      <th>weather_main</th>\n",
       "      <th>weather_description</th>\n",
       "      <th>date_time</th>\n",
       "      <th>traffic_volume</th>\n",
       "    </tr>\n",
       "  </thead>\n",
       "  <tbody>\n",
       "    <tr>\n",
       "      <td>18696</td>\n",
       "      <td>None</td>\n",
       "      <td>286.290</td>\n",
       "      <td>0.0</td>\n",
       "      <td>0.0</td>\n",
       "      <td>1</td>\n",
       "      <td>Clear</td>\n",
       "      <td>sky is clear</td>\n",
       "      <td>2015-09-30 19:00:00</td>\n",
       "      <td>3679</td>\n",
       "    </tr>\n",
       "    <tr>\n",
       "      <td>18697</td>\n",
       "      <td>None</td>\n",
       "      <td>286.290</td>\n",
       "      <td>0.0</td>\n",
       "      <td>0.0</td>\n",
       "      <td>1</td>\n",
       "      <td>Clear</td>\n",
       "      <td>sky is clear</td>\n",
       "      <td>2015-09-30 19:00:00</td>\n",
       "      <td>3679</td>\n",
       "    </tr>\n",
       "    <tr>\n",
       "      <td>23850</td>\n",
       "      <td>None</td>\n",
       "      <td>289.060</td>\n",
       "      <td>0.0</td>\n",
       "      <td>0.0</td>\n",
       "      <td>90</td>\n",
       "      <td>Clouds</td>\n",
       "      <td>overcast clouds</td>\n",
       "      <td>2016-06-01 10:00:00</td>\n",
       "      <td>4831</td>\n",
       "    </tr>\n",
       "    <tr>\n",
       "      <td>23851</td>\n",
       "      <td>None</td>\n",
       "      <td>289.060</td>\n",
       "      <td>0.0</td>\n",
       "      <td>0.0</td>\n",
       "      <td>90</td>\n",
       "      <td>Clouds</td>\n",
       "      <td>overcast clouds</td>\n",
       "      <td>2016-06-01 10:00:00</td>\n",
       "      <td>4831</td>\n",
       "    </tr>\n",
       "    <tr>\n",
       "      <td>26783</td>\n",
       "      <td>None</td>\n",
       "      <td>289.775</td>\n",
       "      <td>0.0</td>\n",
       "      <td>0.0</td>\n",
       "      <td>56</td>\n",
       "      <td>Clouds</td>\n",
       "      <td>broken clouds</td>\n",
       "      <td>2016-09-21 15:00:00</td>\n",
       "      <td>5365</td>\n",
       "    </tr>\n",
       "    <tr>\n",
       "      <td>26784</td>\n",
       "      <td>None</td>\n",
       "      <td>289.775</td>\n",
       "      <td>0.0</td>\n",
       "      <td>0.0</td>\n",
       "      <td>56</td>\n",
       "      <td>Clouds</td>\n",
       "      <td>broken clouds</td>\n",
       "      <td>2016-09-21 15:00:00</td>\n",
       "      <td>5365</td>\n",
       "    </tr>\n",
       "    <tr>\n",
       "      <td>26979</td>\n",
       "      <td>None</td>\n",
       "      <td>287.860</td>\n",
       "      <td>0.0</td>\n",
       "      <td>0.0</td>\n",
       "      <td>0</td>\n",
       "      <td>Clear</td>\n",
       "      <td>Sky is Clear</td>\n",
       "      <td>2016-09-29 19:00:00</td>\n",
       "      <td>3435</td>\n",
       "    </tr>\n",
       "    <tr>\n",
       "      <td>26980</td>\n",
       "      <td>None</td>\n",
       "      <td>287.860</td>\n",
       "      <td>0.0</td>\n",
       "      <td>0.0</td>\n",
       "      <td>0</td>\n",
       "      <td>Clear</td>\n",
       "      <td>Sky is Clear</td>\n",
       "      <td>2016-09-29 19:00:00</td>\n",
       "      <td>3435</td>\n",
       "    </tr>\n",
       "    <tr>\n",
       "      <td>27170</td>\n",
       "      <td>None</td>\n",
       "      <td>279.287</td>\n",
       "      <td>0.0</td>\n",
       "      <td>0.0</td>\n",
       "      <td>56</td>\n",
       "      <td>Clouds</td>\n",
       "      <td>broken clouds</td>\n",
       "      <td>2016-10-07 18:00:00</td>\n",
       "      <td>4642</td>\n",
       "    </tr>\n",
       "    <tr>\n",
       "      <td>27171</td>\n",
       "      <td>None</td>\n",
       "      <td>279.287</td>\n",
       "      <td>0.0</td>\n",
       "      <td>0.0</td>\n",
       "      <td>56</td>\n",
       "      <td>Clouds</td>\n",
       "      <td>broken clouds</td>\n",
       "      <td>2016-10-07 18:00:00</td>\n",
       "      <td>4642</td>\n",
       "    </tr>\n",
       "    <tr>\n",
       "      <td>28878</td>\n",
       "      <td>None</td>\n",
       "      <td>267.890</td>\n",
       "      <td>0.0</td>\n",
       "      <td>0.0</td>\n",
       "      <td>90</td>\n",
       "      <td>Snow</td>\n",
       "      <td>light snow</td>\n",
       "      <td>2016-12-06 18:00:00</td>\n",
       "      <td>4520</td>\n",
       "    </tr>\n",
       "    <tr>\n",
       "      <td>28879</td>\n",
       "      <td>None</td>\n",
       "      <td>267.890</td>\n",
       "      <td>0.0</td>\n",
       "      <td>0.0</td>\n",
       "      <td>90</td>\n",
       "      <td>Snow</td>\n",
       "      <td>light snow</td>\n",
       "      <td>2016-12-06 18:00:00</td>\n",
       "      <td>4520</td>\n",
       "    </tr>\n",
       "    <tr>\n",
       "      <td>29267</td>\n",
       "      <td>None</td>\n",
       "      <td>254.220</td>\n",
       "      <td>0.0</td>\n",
       "      <td>0.0</td>\n",
       "      <td>1</td>\n",
       "      <td>Clear</td>\n",
       "      <td>sky is clear</td>\n",
       "      <td>2016-12-19 00:00:00</td>\n",
       "      <td>420</td>\n",
       "    </tr>\n",
       "    <tr>\n",
       "      <td>29268</td>\n",
       "      <td>None</td>\n",
       "      <td>254.220</td>\n",
       "      <td>0.0</td>\n",
       "      <td>0.0</td>\n",
       "      <td>1</td>\n",
       "      <td>Clear</td>\n",
       "      <td>sky is clear</td>\n",
       "      <td>2016-12-19 00:00:00</td>\n",
       "      <td>420</td>\n",
       "    </tr>\n",
       "    <tr>\n",
       "      <td>34710</td>\n",
       "      <td>None</td>\n",
       "      <td>295.010</td>\n",
       "      <td>0.0</td>\n",
       "      <td>0.0</td>\n",
       "      <td>40</td>\n",
       "      <td>Clouds</td>\n",
       "      <td>scattered clouds</td>\n",
       "      <td>2017-06-21 11:00:00</td>\n",
       "      <td>4808</td>\n",
       "    </tr>\n",
       "    <tr>\n",
       "      <td>34711</td>\n",
       "      <td>None</td>\n",
       "      <td>295.010</td>\n",
       "      <td>0.0</td>\n",
       "      <td>0.0</td>\n",
       "      <td>40</td>\n",
       "      <td>Clouds</td>\n",
       "      <td>scattered clouds</td>\n",
       "      <td>2017-06-21 11:00:00</td>\n",
       "      <td>4808</td>\n",
       "    </tr>\n",
       "    <tr>\n",
       "      <td>34966</td>\n",
       "      <td>None</td>\n",
       "      <td>292.840</td>\n",
       "      <td>0.0</td>\n",
       "      <td>0.0</td>\n",
       "      <td>1</td>\n",
       "      <td>Clear</td>\n",
       "      <td>sky is clear</td>\n",
       "      <td>2017-06-30 10:00:00</td>\n",
       "      <td>4638</td>\n",
       "    </tr>\n",
       "    <tr>\n",
       "      <td>34967</td>\n",
       "      <td>None</td>\n",
       "      <td>292.840</td>\n",
       "      <td>0.0</td>\n",
       "      <td>0.0</td>\n",
       "      <td>1</td>\n",
       "      <td>Clear</td>\n",
       "      <td>sky is clear</td>\n",
       "      <td>2017-06-30 10:00:00</td>\n",
       "      <td>4638</td>\n",
       "    </tr>\n",
       "    <tr>\n",
       "      <td>34968</td>\n",
       "      <td>None</td>\n",
       "      <td>294.520</td>\n",
       "      <td>0.0</td>\n",
       "      <td>0.0</td>\n",
       "      <td>1</td>\n",
       "      <td>Clear</td>\n",
       "      <td>sky is clear</td>\n",
       "      <td>2017-06-30 11:00:00</td>\n",
       "      <td>4725</td>\n",
       "    </tr>\n",
       "    <tr>\n",
       "      <td>34969</td>\n",
       "      <td>None</td>\n",
       "      <td>294.520</td>\n",
       "      <td>0.0</td>\n",
       "      <td>0.0</td>\n",
       "      <td>1</td>\n",
       "      <td>Clear</td>\n",
       "      <td>sky is clear</td>\n",
       "      <td>2017-06-30 11:00:00</td>\n",
       "      <td>4725</td>\n",
       "    </tr>\n",
       "    <tr>\n",
       "      <td>34970</td>\n",
       "      <td>None</td>\n",
       "      <td>295.770</td>\n",
       "      <td>0.0</td>\n",
       "      <td>0.0</td>\n",
       "      <td>75</td>\n",
       "      <td>Clouds</td>\n",
       "      <td>broken clouds</td>\n",
       "      <td>2017-06-30 12:00:00</td>\n",
       "      <td>5229</td>\n",
       "    </tr>\n",
       "    <tr>\n",
       "      <td>34971</td>\n",
       "      <td>None</td>\n",
       "      <td>295.770</td>\n",
       "      <td>0.0</td>\n",
       "      <td>0.0</td>\n",
       "      <td>75</td>\n",
       "      <td>Clouds</td>\n",
       "      <td>broken clouds</td>\n",
       "      <td>2017-06-30 12:00:00</td>\n",
       "      <td>5229</td>\n",
       "    </tr>\n",
       "    <tr>\n",
       "      <td>34972</td>\n",
       "      <td>None</td>\n",
       "      <td>296.950</td>\n",
       "      <td>0.0</td>\n",
       "      <td>0.0</td>\n",
       "      <td>1</td>\n",
       "      <td>Thunderstorm</td>\n",
       "      <td>thunderstorm</td>\n",
       "      <td>2017-06-30 13:00:00</td>\n",
       "      <td>5263</td>\n",
       "    </tr>\n",
       "    <tr>\n",
       "      <td>34973</td>\n",
       "      <td>None</td>\n",
       "      <td>296.950</td>\n",
       "      <td>0.0</td>\n",
       "      <td>0.0</td>\n",
       "      <td>1</td>\n",
       "      <td>Thunderstorm</td>\n",
       "      <td>thunderstorm</td>\n",
       "      <td>2017-06-30 13:00:00</td>\n",
       "      <td>5263</td>\n",
       "    </tr>\n",
       "    <tr>\n",
       "      <td>37571</td>\n",
       "      <td>None</td>\n",
       "      <td>288.890</td>\n",
       "      <td>0.0</td>\n",
       "      <td>0.0</td>\n",
       "      <td>1</td>\n",
       "      <td>Clear</td>\n",
       "      <td>sky is clear</td>\n",
       "      <td>2017-09-29 19:00:00</td>\n",
       "      <td>4498</td>\n",
       "    </tr>\n",
       "    <tr>\n",
       "      <td>37572</td>\n",
       "      <td>None</td>\n",
       "      <td>288.890</td>\n",
       "      <td>0.0</td>\n",
       "      <td>0.0</td>\n",
       "      <td>1</td>\n",
       "      <td>Clear</td>\n",
       "      <td>sky is clear</td>\n",
       "      <td>2017-09-29 19:00:00</td>\n",
       "      <td>4498</td>\n",
       "    </tr>\n",
       "    <tr>\n",
       "      <td>38674</td>\n",
       "      <td>None</td>\n",
       "      <td>278.720</td>\n",
       "      <td>0.0</td>\n",
       "      <td>0.0</td>\n",
       "      <td>90</td>\n",
       "      <td>Drizzle</td>\n",
       "      <td>light intensity drizzle</td>\n",
       "      <td>2017-11-05 01:00:00</td>\n",
       "      <td>629</td>\n",
       "    </tr>\n",
       "    <tr>\n",
       "      <td>38675</td>\n",
       "      <td>None</td>\n",
       "      <td>278.720</td>\n",
       "      <td>0.0</td>\n",
       "      <td>0.0</td>\n",
       "      <td>90</td>\n",
       "      <td>Mist</td>\n",
       "      <td>mist</td>\n",
       "      <td>2017-11-05 01:00:00</td>\n",
       "      <td>629</td>\n",
       "    </tr>\n",
       "    <tr>\n",
       "      <td>38676</td>\n",
       "      <td>None</td>\n",
       "      <td>278.720</td>\n",
       "      <td>0.0</td>\n",
       "      <td>0.0</td>\n",
       "      <td>90</td>\n",
       "      <td>Drizzle</td>\n",
       "      <td>light intensity drizzle</td>\n",
       "      <td>2017-11-05 01:00:00</td>\n",
       "      <td>629</td>\n",
       "    </tr>\n",
       "    <tr>\n",
       "      <td>38677</td>\n",
       "      <td>None</td>\n",
       "      <td>278.720</td>\n",
       "      <td>0.0</td>\n",
       "      <td>0.0</td>\n",
       "      <td>90</td>\n",
       "      <td>Mist</td>\n",
       "      <td>mist</td>\n",
       "      <td>2017-11-05 01:00:00</td>\n",
       "      <td>629</td>\n",
       "    </tr>\n",
       "    <tr>\n",
       "      <td>39526</td>\n",
       "      <td>None</td>\n",
       "      <td>266.220</td>\n",
       "      <td>0.0</td>\n",
       "      <td>0.0</td>\n",
       "      <td>1</td>\n",
       "      <td>Clear</td>\n",
       "      <td>sky is clear</td>\n",
       "      <td>2017-12-05 18:00:00</td>\n",
       "      <td>3936</td>\n",
       "    </tr>\n",
       "    <tr>\n",
       "      <td>39527</td>\n",
       "      <td>None</td>\n",
       "      <td>266.220</td>\n",
       "      <td>0.0</td>\n",
       "      <td>0.0</td>\n",
       "      <td>1</td>\n",
       "      <td>Clear</td>\n",
       "      <td>sky is clear</td>\n",
       "      <td>2017-12-05 18:00:00</td>\n",
       "      <td>3936</td>\n",
       "    </tr>\n",
       "    <tr>\n",
       "      <td>48172</td>\n",
       "      <td>None</td>\n",
       "      <td>280.680</td>\n",
       "      <td>0.0</td>\n",
       "      <td>0.0</td>\n",
       "      <td>90</td>\n",
       "      <td>Clouds</td>\n",
       "      <td>overcast clouds</td>\n",
       "      <td>2018-09-29 19:00:00</td>\n",
       "      <td>3818</td>\n",
       "    </tr>\n",
       "    <tr>\n",
       "      <td>48173</td>\n",
       "      <td>None</td>\n",
       "      <td>280.680</td>\n",
       "      <td>0.0</td>\n",
       "      <td>0.0</td>\n",
       "      <td>90</td>\n",
       "      <td>Clouds</td>\n",
       "      <td>overcast clouds</td>\n",
       "      <td>2018-09-29 19:00:00</td>\n",
       "      <td>3818</td>\n",
       "    </tr>\n",
       "  </tbody>\n",
       "</table>\n",
       "</div>"
      ],
      "text/plain": [
       "      holiday     temp  rain_1h  snow_1h  clouds_all  weather_main  \\\n",
       "18696    None  286.290      0.0      0.0           1         Clear   \n",
       "18697    None  286.290      0.0      0.0           1         Clear   \n",
       "23850    None  289.060      0.0      0.0          90        Clouds   \n",
       "23851    None  289.060      0.0      0.0          90        Clouds   \n",
       "26783    None  289.775      0.0      0.0          56        Clouds   \n",
       "26784    None  289.775      0.0      0.0          56        Clouds   \n",
       "26979    None  287.860      0.0      0.0           0         Clear   \n",
       "26980    None  287.860      0.0      0.0           0         Clear   \n",
       "27170    None  279.287      0.0      0.0          56        Clouds   \n",
       "27171    None  279.287      0.0      0.0          56        Clouds   \n",
       "28878    None  267.890      0.0      0.0          90          Snow   \n",
       "28879    None  267.890      0.0      0.0          90          Snow   \n",
       "29267    None  254.220      0.0      0.0           1         Clear   \n",
       "29268    None  254.220      0.0      0.0           1         Clear   \n",
       "34710    None  295.010      0.0      0.0          40        Clouds   \n",
       "34711    None  295.010      0.0      0.0          40        Clouds   \n",
       "34966    None  292.840      0.0      0.0           1         Clear   \n",
       "34967    None  292.840      0.0      0.0           1         Clear   \n",
       "34968    None  294.520      0.0      0.0           1         Clear   \n",
       "34969    None  294.520      0.0      0.0           1         Clear   \n",
       "34970    None  295.770      0.0      0.0          75        Clouds   \n",
       "34971    None  295.770      0.0      0.0          75        Clouds   \n",
       "34972    None  296.950      0.0      0.0           1  Thunderstorm   \n",
       "34973    None  296.950      0.0      0.0           1  Thunderstorm   \n",
       "37571    None  288.890      0.0      0.0           1         Clear   \n",
       "37572    None  288.890      0.0      0.0           1         Clear   \n",
       "38674    None  278.720      0.0      0.0          90       Drizzle   \n",
       "38675    None  278.720      0.0      0.0          90          Mist   \n",
       "38676    None  278.720      0.0      0.0          90       Drizzle   \n",
       "38677    None  278.720      0.0      0.0          90          Mist   \n",
       "39526    None  266.220      0.0      0.0           1         Clear   \n",
       "39527    None  266.220      0.0      0.0           1         Clear   \n",
       "48172    None  280.680      0.0      0.0          90        Clouds   \n",
       "48173    None  280.680      0.0      0.0          90        Clouds   \n",
       "\n",
       "           weather_description            date_time  traffic_volume  \n",
       "18696             sky is clear  2015-09-30 19:00:00            3679  \n",
       "18697             sky is clear  2015-09-30 19:00:00            3679  \n",
       "23850          overcast clouds  2016-06-01 10:00:00            4831  \n",
       "23851          overcast clouds  2016-06-01 10:00:00            4831  \n",
       "26783            broken clouds  2016-09-21 15:00:00            5365  \n",
       "26784            broken clouds  2016-09-21 15:00:00            5365  \n",
       "26979             Sky is Clear  2016-09-29 19:00:00            3435  \n",
       "26980             Sky is Clear  2016-09-29 19:00:00            3435  \n",
       "27170            broken clouds  2016-10-07 18:00:00            4642  \n",
       "27171            broken clouds  2016-10-07 18:00:00            4642  \n",
       "28878               light snow  2016-12-06 18:00:00            4520  \n",
       "28879               light snow  2016-12-06 18:00:00            4520  \n",
       "29267             sky is clear  2016-12-19 00:00:00             420  \n",
       "29268             sky is clear  2016-12-19 00:00:00             420  \n",
       "34710         scattered clouds  2017-06-21 11:00:00            4808  \n",
       "34711         scattered clouds  2017-06-21 11:00:00            4808  \n",
       "34966             sky is clear  2017-06-30 10:00:00            4638  \n",
       "34967             sky is clear  2017-06-30 10:00:00            4638  \n",
       "34968             sky is clear  2017-06-30 11:00:00            4725  \n",
       "34969             sky is clear  2017-06-30 11:00:00            4725  \n",
       "34970            broken clouds  2017-06-30 12:00:00            5229  \n",
       "34971            broken clouds  2017-06-30 12:00:00            5229  \n",
       "34972             thunderstorm  2017-06-30 13:00:00            5263  \n",
       "34973             thunderstorm  2017-06-30 13:00:00            5263  \n",
       "37571             sky is clear  2017-09-29 19:00:00            4498  \n",
       "37572             sky is clear  2017-09-29 19:00:00            4498  \n",
       "38674  light intensity drizzle  2017-11-05 01:00:00             629  \n",
       "38675                     mist  2017-11-05 01:00:00             629  \n",
       "38676  light intensity drizzle  2017-11-05 01:00:00             629  \n",
       "38677                     mist  2017-11-05 01:00:00             629  \n",
       "39526             sky is clear  2017-12-05 18:00:00            3936  \n",
       "39527             sky is clear  2017-12-05 18:00:00            3936  \n",
       "48172          overcast clouds  2018-09-29 19:00:00            3818  \n",
       "48173          overcast clouds  2018-09-29 19:00:00            3818  "
      ]
     },
     "execution_count": 6,
     "metadata": {},
     "output_type": "execute_result"
    }
   ],
   "source": [
    "df_base[df_base.duplicated(keep=False)]\n"
   ]
  },
  {
   "cell_type": "markdown",
   "metadata": {},
   "source": [
    "Esses são os dados duplicados da base de dados. Sendo assim, todas essas instâncias duplicadas serão removidas. \n"
   ]
  },
  {
   "cell_type": "code",
   "execution_count": 7,
   "metadata": {},
   "outputs": [],
   "source": [
    "df_base.drop_duplicates(keep = 'first', inplace = True)"
   ]
  },
  {
   "cell_type": "code",
   "execution_count": 8,
   "metadata": {},
   "outputs": [],
   "source": [
    "df_base.reset_index(inplace = True)\n"
   ]
  },
  {
   "cell_type": "code",
   "execution_count": 9,
   "metadata": {},
   "outputs": [],
   "source": [
    "df_base.drop(columns = ['index'],inplace = True)"
   ]
  },
  {
   "cell_type": "markdown",
   "metadata": {},
   "source": [
    "## Dados Não Numéricos"
   ]
  },
  {
   "cell_type": "markdown",
   "metadata": {},
   "source": [
    "Como dito anteriormente, a base de dados possui valores não numéricos em alguns atributos. Primeiramente, será realizada a verificação dos valores nesses atributos. "
   ]
  },
  {
   "cell_type": "code",
   "execution_count": 10,
   "metadata": {},
   "outputs": [
    {
     "name": "stdout",
     "output_type": "stream",
     "text": [
      "Valores não numéricos presentes em 'date_time': ['2012-10-02 09:00:00' '2012-10-02 10:00:00' '2012-10-02 11:00:00' ...\n",
      " '2018-09-30 21:00:00' '2018-09-30 22:00:00' '2018-09-30 23:00:00'] \n",
      "\n",
      "\n",
      "Valores não numéricos presentes em 'holiday': ['None' 'Columbus Day' 'Veterans Day' 'Thanksgiving Day' 'Christmas Day'\n",
      " 'New Years Day' 'Washingtons Birthday' 'Memorial Day' 'Independence Day'\n",
      " 'State Fair' 'Labor Day' 'Martin Luther King Jr Day'] \n",
      "\n",
      "\n",
      "Valores não numéricos presentes em 'weather_main': ['Clouds' 'Clear' 'Rain' 'Drizzle' 'Mist' 'Haze' 'Fog' 'Thunderstorm'\n",
      " 'Snow' 'Squall' 'Smoke'] \n",
      "\n",
      "\n",
      "Valores não numéricos presentes em 'weather_description': ['scattered clouds' 'broken clouds' 'overcast clouds' 'sky is clear'\n",
      " 'few clouds' 'light rain' 'light intensity drizzle' 'mist' 'haze' 'fog'\n",
      " 'proximity shower rain' 'drizzle' 'moderate rain' 'heavy intensity rain'\n",
      " 'proximity thunderstorm' 'thunderstorm with light rain'\n",
      " 'proximity thunderstorm with rain' 'heavy snow' 'heavy intensity drizzle'\n",
      " 'snow' 'thunderstorm with heavy rain' 'freezing rain' 'shower snow'\n",
      " 'light rain and snow' 'light intensity shower rain' 'SQUALLS'\n",
      " 'thunderstorm with rain' 'proximity thunderstorm with drizzle'\n",
      " 'thunderstorm' 'Sky is Clear' 'very heavy rain'\n",
      " 'thunderstorm with light drizzle' 'light snow'\n",
      " 'thunderstorm with drizzle' 'smoke' 'shower drizzle' 'light shower snow'\n",
      " 'sleet'] \n",
      "\n",
      "\n"
     ]
    }
   ],
   "source": [
    "print(\"Valores não numéricos presentes em 'date_time':\",df_base['date_time'].unique(), \"\\n\\n\")\n",
    "print(\"Valores não numéricos presentes em 'holiday':\",df_base['holiday'].unique(), \"\\n\\n\")\n",
    "print(\"Valores não numéricos presentes em 'weather_main':\",df_base['weather_main'].unique(), \"\\n\\n\")\n",
    "print(\"Valores não numéricos presentes em 'weather_description':\",df_base['weather_description'].unique(), \"\\n\\n\")"
   ]
  },
  {
   "cell_type": "markdown",
   "metadata": {},
   "source": [
    "Realizada a visualização dos valores. Agora, esses atributos serão verificados e tratados, caso necessário. "
   ]
  },
  {
   "cell_type": "markdown",
   "metadata": {},
   "source": [
    "### Separando o date_Time"
   ]
  },
  {
   "cell_type": "markdown",
   "metadata": {},
   "source": [
    "O atributo **date_time** possui informações como ano, mês, dia, hora e dia da semana. Sendo assim, ele será expandido em novos 5 atributos (ano, mês, dia, hora e dia da semana). Isso foi feito para que se possa avaliar, da melhor forma, como esses atributos podem influenciar na saída do atributo desejado ( _traffic_volume_ ).\n"
   ]
  },
  {
   "cell_type": "code",
   "execution_count": 11,
   "metadata": {},
   "outputs": [
    {
     "data": {
      "text/html": [
       "<div>\n",
       "<style scoped>\n",
       "    .dataframe tbody tr th:only-of-type {\n",
       "        vertical-align: middle;\n",
       "    }\n",
       "\n",
       "    .dataframe tbody tr th {\n",
       "        vertical-align: top;\n",
       "    }\n",
       "\n",
       "    .dataframe thead th {\n",
       "        text-align: right;\n",
       "    }\n",
       "</style>\n",
       "<table border=\"1\" class=\"dataframe\">\n",
       "  <thead>\n",
       "    <tr style=\"text-align: right;\">\n",
       "      <th></th>\n",
       "      <th>holiday</th>\n",
       "      <th>temp</th>\n",
       "      <th>rain_1h</th>\n",
       "      <th>snow_1h</th>\n",
       "      <th>clouds_all</th>\n",
       "      <th>weather_main</th>\n",
       "      <th>weather_description</th>\n",
       "      <th>date_time</th>\n",
       "      <th>traffic_volume</th>\n",
       "      <th>year</th>\n",
       "      <th>month</th>\n",
       "      <th>day</th>\n",
       "      <th>hour</th>\n",
       "      <th>weekday</th>\n",
       "    </tr>\n",
       "  </thead>\n",
       "  <tbody>\n",
       "    <tr>\n",
       "      <td>0</td>\n",
       "      <td>None</td>\n",
       "      <td>288.28</td>\n",
       "      <td>0.0</td>\n",
       "      <td>0.0</td>\n",
       "      <td>40</td>\n",
       "      <td>Clouds</td>\n",
       "      <td>scattered clouds</td>\n",
       "      <td>2012-10-02 09:00:00</td>\n",
       "      <td>5545</td>\n",
       "      <td>2012</td>\n",
       "      <td>10</td>\n",
       "      <td>2</td>\n",
       "      <td>9</td>\n",
       "      <td>1</td>\n",
       "    </tr>\n",
       "    <tr>\n",
       "      <td>1</td>\n",
       "      <td>None</td>\n",
       "      <td>289.36</td>\n",
       "      <td>0.0</td>\n",
       "      <td>0.0</td>\n",
       "      <td>75</td>\n",
       "      <td>Clouds</td>\n",
       "      <td>broken clouds</td>\n",
       "      <td>2012-10-02 10:00:00</td>\n",
       "      <td>4516</td>\n",
       "      <td>2012</td>\n",
       "      <td>10</td>\n",
       "      <td>2</td>\n",
       "      <td>10</td>\n",
       "      <td>1</td>\n",
       "    </tr>\n",
       "    <tr>\n",
       "      <td>2</td>\n",
       "      <td>None</td>\n",
       "      <td>289.58</td>\n",
       "      <td>0.0</td>\n",
       "      <td>0.0</td>\n",
       "      <td>90</td>\n",
       "      <td>Clouds</td>\n",
       "      <td>overcast clouds</td>\n",
       "      <td>2012-10-02 11:00:00</td>\n",
       "      <td>4767</td>\n",
       "      <td>2012</td>\n",
       "      <td>10</td>\n",
       "      <td>2</td>\n",
       "      <td>11</td>\n",
       "      <td>1</td>\n",
       "    </tr>\n",
       "    <tr>\n",
       "      <td>3</td>\n",
       "      <td>None</td>\n",
       "      <td>290.13</td>\n",
       "      <td>0.0</td>\n",
       "      <td>0.0</td>\n",
       "      <td>90</td>\n",
       "      <td>Clouds</td>\n",
       "      <td>overcast clouds</td>\n",
       "      <td>2012-10-02 12:00:00</td>\n",
       "      <td>5026</td>\n",
       "      <td>2012</td>\n",
       "      <td>10</td>\n",
       "      <td>2</td>\n",
       "      <td>12</td>\n",
       "      <td>1</td>\n",
       "    </tr>\n",
       "    <tr>\n",
       "      <td>4</td>\n",
       "      <td>None</td>\n",
       "      <td>291.14</td>\n",
       "      <td>0.0</td>\n",
       "      <td>0.0</td>\n",
       "      <td>75</td>\n",
       "      <td>Clouds</td>\n",
       "      <td>broken clouds</td>\n",
       "      <td>2012-10-02 13:00:00</td>\n",
       "      <td>4918</td>\n",
       "      <td>2012</td>\n",
       "      <td>10</td>\n",
       "      <td>2</td>\n",
       "      <td>13</td>\n",
       "      <td>1</td>\n",
       "    </tr>\n",
       "  </tbody>\n",
       "</table>\n",
       "</div>"
      ],
      "text/plain": [
       "  holiday    temp  rain_1h  snow_1h  clouds_all weather_main  \\\n",
       "0    None  288.28      0.0      0.0          40       Clouds   \n",
       "1    None  289.36      0.0      0.0          75       Clouds   \n",
       "2    None  289.58      0.0      0.0          90       Clouds   \n",
       "3    None  290.13      0.0      0.0          90       Clouds   \n",
       "4    None  291.14      0.0      0.0          75       Clouds   \n",
       "\n",
       "  weather_description           date_time  traffic_volume  year  month  day  \\\n",
       "0    scattered clouds 2012-10-02 09:00:00            5545  2012     10    2   \n",
       "1       broken clouds 2012-10-02 10:00:00            4516  2012     10    2   \n",
       "2     overcast clouds 2012-10-02 11:00:00            4767  2012     10    2   \n",
       "3     overcast clouds 2012-10-02 12:00:00            5026  2012     10    2   \n",
       "4       broken clouds 2012-10-02 13:00:00            4918  2012     10    2   \n",
       "\n",
       "   hour  weekday  \n",
       "0     9        1  \n",
       "1    10        1  \n",
       "2    11        1  \n",
       "3    12        1  \n",
       "4    13        1  "
      ]
     },
     "execution_count": 11,
     "metadata": {},
     "output_type": "execute_result"
    }
   ],
   "source": [
    "df_base['date_time'] = pd.to_datetime(df_base['date_time'])\n",
    "df_base['year'] = df_base['date_time'].dt.year\n",
    "df_base['month'] = df_base['date_time'].dt.month\n",
    "df_base['day'] = df_base['date_time'].dt.day\n",
    "df_base['hour'] = df_base['date_time'].dt.hour\n",
    "df_base['weekday'] = df_base['date_time'].dt.weekday\n",
    "df_base.head()\n"
   ]
  },
  {
   "cell_type": "markdown",
   "metadata": {},
   "source": [
    "Sendo assim, não se faz mais necessário manter o atributo **date_time** na base de dados. "
   ]
  },
  {
   "cell_type": "code",
   "execution_count": 12,
   "metadata": {},
   "outputs": [
    {
     "data": {
      "text/html": [
       "<div>\n",
       "<style scoped>\n",
       "    .dataframe tbody tr th:only-of-type {\n",
       "        vertical-align: middle;\n",
       "    }\n",
       "\n",
       "    .dataframe tbody tr th {\n",
       "        vertical-align: top;\n",
       "    }\n",
       "\n",
       "    .dataframe thead th {\n",
       "        text-align: right;\n",
       "    }\n",
       "</style>\n",
       "<table border=\"1\" class=\"dataframe\">\n",
       "  <thead>\n",
       "    <tr style=\"text-align: right;\">\n",
       "      <th></th>\n",
       "      <th>holiday</th>\n",
       "      <th>temp</th>\n",
       "      <th>rain_1h</th>\n",
       "      <th>snow_1h</th>\n",
       "      <th>clouds_all</th>\n",
       "      <th>weather_main</th>\n",
       "      <th>weather_description</th>\n",
       "      <th>traffic_volume</th>\n",
       "      <th>year</th>\n",
       "      <th>month</th>\n",
       "      <th>day</th>\n",
       "      <th>hour</th>\n",
       "      <th>weekday</th>\n",
       "    </tr>\n",
       "  </thead>\n",
       "  <tbody>\n",
       "    <tr>\n",
       "      <td>0</td>\n",
       "      <td>None</td>\n",
       "      <td>288.28</td>\n",
       "      <td>0.0</td>\n",
       "      <td>0.0</td>\n",
       "      <td>40</td>\n",
       "      <td>Clouds</td>\n",
       "      <td>scattered clouds</td>\n",
       "      <td>5545</td>\n",
       "      <td>2012</td>\n",
       "      <td>10</td>\n",
       "      <td>2</td>\n",
       "      <td>9</td>\n",
       "      <td>1</td>\n",
       "    </tr>\n",
       "    <tr>\n",
       "      <td>1</td>\n",
       "      <td>None</td>\n",
       "      <td>289.36</td>\n",
       "      <td>0.0</td>\n",
       "      <td>0.0</td>\n",
       "      <td>75</td>\n",
       "      <td>Clouds</td>\n",
       "      <td>broken clouds</td>\n",
       "      <td>4516</td>\n",
       "      <td>2012</td>\n",
       "      <td>10</td>\n",
       "      <td>2</td>\n",
       "      <td>10</td>\n",
       "      <td>1</td>\n",
       "    </tr>\n",
       "    <tr>\n",
       "      <td>2</td>\n",
       "      <td>None</td>\n",
       "      <td>289.58</td>\n",
       "      <td>0.0</td>\n",
       "      <td>0.0</td>\n",
       "      <td>90</td>\n",
       "      <td>Clouds</td>\n",
       "      <td>overcast clouds</td>\n",
       "      <td>4767</td>\n",
       "      <td>2012</td>\n",
       "      <td>10</td>\n",
       "      <td>2</td>\n",
       "      <td>11</td>\n",
       "      <td>1</td>\n",
       "    </tr>\n",
       "    <tr>\n",
       "      <td>3</td>\n",
       "      <td>None</td>\n",
       "      <td>290.13</td>\n",
       "      <td>0.0</td>\n",
       "      <td>0.0</td>\n",
       "      <td>90</td>\n",
       "      <td>Clouds</td>\n",
       "      <td>overcast clouds</td>\n",
       "      <td>5026</td>\n",
       "      <td>2012</td>\n",
       "      <td>10</td>\n",
       "      <td>2</td>\n",
       "      <td>12</td>\n",
       "      <td>1</td>\n",
       "    </tr>\n",
       "    <tr>\n",
       "      <td>4</td>\n",
       "      <td>None</td>\n",
       "      <td>291.14</td>\n",
       "      <td>0.0</td>\n",
       "      <td>0.0</td>\n",
       "      <td>75</td>\n",
       "      <td>Clouds</td>\n",
       "      <td>broken clouds</td>\n",
       "      <td>4918</td>\n",
       "      <td>2012</td>\n",
       "      <td>10</td>\n",
       "      <td>2</td>\n",
       "      <td>13</td>\n",
       "      <td>1</td>\n",
       "    </tr>\n",
       "  </tbody>\n",
       "</table>\n",
       "</div>"
      ],
      "text/plain": [
       "  holiday    temp  rain_1h  snow_1h  clouds_all weather_main  \\\n",
       "0    None  288.28      0.0      0.0          40       Clouds   \n",
       "1    None  289.36      0.0      0.0          75       Clouds   \n",
       "2    None  289.58      0.0      0.0          90       Clouds   \n",
       "3    None  290.13      0.0      0.0          90       Clouds   \n",
       "4    None  291.14      0.0      0.0          75       Clouds   \n",
       "\n",
       "  weather_description  traffic_volume  year  month  day  hour  weekday  \n",
       "0    scattered clouds            5545  2012     10    2     9        1  \n",
       "1       broken clouds            4516  2012     10    2    10        1  \n",
       "2     overcast clouds            4767  2012     10    2    11        1  \n",
       "3     overcast clouds            5026  2012     10    2    12        1  \n",
       "4       broken clouds            4918  2012     10    2    13        1  "
      ]
     },
     "execution_count": 12,
     "metadata": {},
     "output_type": "execute_result"
    }
   ],
   "source": [
    "df_base = df_base.drop(columns=['date_time'])\n",
    "df_base.head()"
   ]
  },
  {
   "cell_type": "markdown",
   "metadata": {},
   "source": [
    "### Holiday"
   ]
  },
  {
   "cell_type": "code",
   "execution_count": 13,
   "metadata": {},
   "outputs": [
    {
     "name": "stdout",
     "output_type": "stream",
     "text": [
      "None                         48126\n",
      "Labor Day                        7\n",
      "New Years Day                    6\n",
      "Martin Luther King Jr Day        6\n",
      "Christmas Day                    6\n",
      "Thanksgiving Day                 6\n",
      "Memorial Day                     5\n",
      "Independence Day                 5\n",
      "Columbus Day                     5\n",
      "Washingtons Birthday             5\n",
      "State Fair                       5\n",
      "Veterans Day                     5\n",
      "Name: holiday, dtype: int64\n"
     ]
    },
    {
     "data": {
      "image/png": "[encoded data removed]",
      "text/plain": [
       "<Figure size 720x360 with 1 Axes>"
      ]
     },
     "metadata": {
      "needs_background": "light"
     },
     "output_type": "display_data"
    }
   ],
   "source": [
    "df_base['holiday'].value_counts().head(30).plot(kind='barh', figsize=(10,5))\n",
    "qtde = df_base['holiday'].value_counts()\n",
    "print(qtde)"
   ]
  },
  {
   "cell_type": "markdown",
   "metadata": {},
   "source": [
    "   Esse atributo se mostra bastante desbalanceado. O desbalanceamento já era esperado, já que não acontece muitos feriados em um ano. Agora será verificado qual o impacto de um dia de feriado no volume de tráfego de passageiros. "
   ]
  },
  {
   "cell_type": "code",
   "execution_count": 14,
   "metadata": {},
   "outputs": [
    {
     "data": {
      "text/plain": [
       "Text(0.5, 1.0, 'Média de passageiros por feriado')"
      ]
     },
     "execution_count": 14,
     "metadata": {},
     "output_type": "execute_result"
    },
    {
     "data": {
      "image/png": "[encoded data removed]",
      "text/plain": [
       "<Figure size 720x360 with 1 Axes>"
      ]
     },
     "metadata": {
      "needs_background": "light"
     },
     "output_type": "display_data"
    }
   ],
   "source": [
    "df_base.groupby('holiday').mean()['traffic_volume'].plot.bar(figsize=(10,5))\n",
    "plt.xlabel('Feriado')\n",
    "plt.ylabel('Média de passageiros')\n",
    "plt.title(\"Média de passageiros por feriado\")"
   ]
  },
  {
   "cell_type": "markdown",
   "metadata": {},
   "source": [
    "   A partir da visualização do gráfico, é possível perceber que o volume de passageiros é menor nos dias de feriado. Apesar, de possuir um impacto no volume de tráfego de passageiros, esse atributo será **_dropado_** devido a seu imenso desbalanceamento. E não é lógico realizar um balanceamento aqui. "
   ]
  },
  {
   "cell_type": "code",
   "execution_count": 15,
   "metadata": {},
   "outputs": [
    {
     "data": {
      "text/html": [
       "<div>\n",
       "<style scoped>\n",
       "    .dataframe tbody tr th:only-of-type {\n",
       "        vertical-align: middle;\n",
       "    }\n",
       "\n",
       "    .dataframe tbody tr th {\n",
       "        vertical-align: top;\n",
       "    }\n",
       "\n",
       "    .dataframe thead th {\n",
       "        text-align: right;\n",
       "    }\n",
       "</style>\n",
       "<table border=\"1\" class=\"dataframe\">\n",
       "  <thead>\n",
       "    <tr style=\"text-align: right;\">\n",
       "      <th></th>\n",
       "      <th>temp</th>\n",
       "      <th>rain_1h</th>\n",
       "      <th>snow_1h</th>\n",
       "      <th>clouds_all</th>\n",
       "      <th>weather_main</th>\n",
       "      <th>weather_description</th>\n",
       "      <th>traffic_volume</th>\n",
       "      <th>year</th>\n",
       "      <th>month</th>\n",
       "      <th>day</th>\n",
       "      <th>hour</th>\n",
       "      <th>weekday</th>\n",
       "    </tr>\n",
       "  </thead>\n",
       "  <tbody>\n",
       "    <tr>\n",
       "      <td>0</td>\n",
       "      <td>288.28</td>\n",
       "      <td>0.0</td>\n",
       "      <td>0.0</td>\n",
       "      <td>40</td>\n",
       "      <td>Clouds</td>\n",
       "      <td>scattered clouds</td>\n",
       "      <td>5545</td>\n",
       "      <td>2012</td>\n",
       "      <td>10</td>\n",
       "      <td>2</td>\n",
       "      <td>9</td>\n",
       "      <td>1</td>\n",
       "    </tr>\n",
       "    <tr>\n",
       "      <td>1</td>\n",
       "      <td>289.36</td>\n",
       "      <td>0.0</td>\n",
       "      <td>0.0</td>\n",
       "      <td>75</td>\n",
       "      <td>Clouds</td>\n",
       "      <td>broken clouds</td>\n",
       "      <td>4516</td>\n",
       "      <td>2012</td>\n",
       "      <td>10</td>\n",
       "      <td>2</td>\n",
       "      <td>10</td>\n",
       "      <td>1</td>\n",
       "    </tr>\n",
       "    <tr>\n",
       "      <td>2</td>\n",
       "      <td>289.58</td>\n",
       "      <td>0.0</td>\n",
       "      <td>0.0</td>\n",
       "      <td>90</td>\n",
       "      <td>Clouds</td>\n",
       "      <td>overcast clouds</td>\n",
       "      <td>4767</td>\n",
       "      <td>2012</td>\n",
       "      <td>10</td>\n",
       "      <td>2</td>\n",
       "      <td>11</td>\n",
       "      <td>1</td>\n",
       "    </tr>\n",
       "    <tr>\n",
       "      <td>3</td>\n",
       "      <td>290.13</td>\n",
       "      <td>0.0</td>\n",
       "      <td>0.0</td>\n",
       "      <td>90</td>\n",
       "      <td>Clouds</td>\n",
       "      <td>overcast clouds</td>\n",
       "      <td>5026</td>\n",
       "      <td>2012</td>\n",
       "      <td>10</td>\n",
       "      <td>2</td>\n",
       "      <td>12</td>\n",
       "      <td>1</td>\n",
       "    </tr>\n",
       "    <tr>\n",
       "      <td>4</td>\n",
       "      <td>291.14</td>\n",
       "      <td>0.0</td>\n",
       "      <td>0.0</td>\n",
       "      <td>75</td>\n",
       "      <td>Clouds</td>\n",
       "      <td>broken clouds</td>\n",
       "      <td>4918</td>\n",
       "      <td>2012</td>\n",
       "      <td>10</td>\n",
       "      <td>2</td>\n",
       "      <td>13</td>\n",
       "      <td>1</td>\n",
       "    </tr>\n",
       "  </tbody>\n",
       "</table>\n",
       "</div>"
      ],
      "text/plain": [
       "     temp  rain_1h  snow_1h  clouds_all weather_main weather_description  \\\n",
       "0  288.28      0.0      0.0          40       Clouds    scattered clouds   \n",
       "1  289.36      0.0      0.0          75       Clouds       broken clouds   \n",
       "2  289.58      0.0      0.0          90       Clouds     overcast clouds   \n",
       "3  290.13      0.0      0.0          90       Clouds     overcast clouds   \n",
       "4  291.14      0.0      0.0          75       Clouds       broken clouds   \n",
       "\n",
       "   traffic_volume  year  month  day  hour  weekday  \n",
       "0            5545  2012     10    2     9        1  \n",
       "1            4516  2012     10    2    10        1  \n",
       "2            4767  2012     10    2    11        1  \n",
       "3            5026  2012     10    2    12        1  \n",
       "4            4918  2012     10    2    13        1  "
      ]
     },
     "execution_count": 15,
     "metadata": {},
     "output_type": "execute_result"
    }
   ],
   "source": [
    "df_base = df_base.drop(columns=['holiday'])\n",
    "df_base.head()"
   ]
  },
  {
   "cell_type": "markdown",
   "metadata": {},
   "source": [
    "### Weather_main e Weather_description"
   ]
  },
  {
   "cell_type": "code",
   "execution_count": 16,
   "metadata": {},
   "outputs": [
    {
     "name": "stdout",
     "output_type": "stream",
     "text": [
      "Clouds          15158\n",
      "Clear           13384\n",
      "Mist             5949\n",
      "Rain             5672\n",
      "Snow             2875\n",
      "Drizzle          1820\n",
      "Haze             1360\n",
      "Thunderstorm     1033\n",
      "Fog               912\n",
      "Smoke              20\n",
      "Squall              4\n",
      "Name: weather_main, dtype: int64\n"
     ]
    },
    {
     "data": {
      "image/png": "[encoded data removed]",
      "text/plain": [
       "<Figure size 432x288 with 1 Axes>"
      ]
     },
     "metadata": {
      "needs_background": "light"
     },
     "output_type": "display_data"
    }
   ],
   "source": [
    "sns.countplot(df_base['weather_main'])\n",
    "plt.title(\"Quantidade de cada valor de weather_main\")\n",
    "qtde = df_base['weather_main'].value_counts()\n",
    "print(qtde)"
   ]
  },
  {
   "cell_type": "code",
   "execution_count": 17,
   "metadata": {},
   "outputs": [
    {
     "name": "stdout",
     "output_type": "stream",
     "text": [
      "sky is clear                           11659\n",
      "mist                                    5949\n",
      "overcast clouds                         5079\n",
      "broken clouds                           4663\n",
      "scattered clouds                        3460\n",
      "light rain                              3372\n",
      "few clouds                              1956\n",
      "light snow                              1945\n",
      "Sky is Clear                            1725\n",
      "moderate rain                           1664\n",
      "haze                                    1360\n",
      "light intensity drizzle                 1099\n",
      "fog                                      912\n",
      "proximity thunderstorm                   673\n",
      "drizzle                                  651\n",
      "heavy snow                               616\n",
      "heavy intensity rain                     467\n",
      "snow                                     293\n",
      "proximity shower rain                    136\n",
      "thunderstorm                             124\n",
      "heavy intensity drizzle                   64\n",
      "thunderstorm with heavy rain              63\n",
      "thunderstorm with light rain              54\n",
      "proximity thunderstorm with rain          52\n",
      "thunderstorm with rain                    37\n",
      "smoke                                     20\n",
      "very heavy rain                           18\n",
      "thunderstorm with light drizzle           15\n",
      "proximity thunderstorm with drizzle       13\n",
      "light intensity shower rain               13\n",
      "light shower snow                         11\n",
      "shower drizzle                             6\n",
      "light rain and snow                        6\n",
      "SQUALLS                                    4\n",
      "sleet                                      3\n",
      "thunderstorm with drizzle                  2\n",
      "freezing rain                              2\n",
      "shower snow                                1\n",
      "Name: weather_description, dtype: int64\n"
     ]
    },
    {
     "data": {
      "image/png": "[encoded data removed]",
      "text/plain": [
       "<Figure size 720x360 with 1 Axes>"
      ]
     },
     "metadata": {
      "needs_background": "light"
     },
     "output_type": "display_data"
    }
   ],
   "source": [
    "plt.title(\"Quantidade de cada valor de weather_description\")\n",
    "df_base['weather_description'].value_counts().head(30).plot(kind='barh',figsize=(10,5))\n",
    "qtde = df_base['weather_description'].value_counts()\n",
    "print(qtde)"
   ]
  },
  {
   "cell_type": "markdown",
   "metadata": {},
   "source": [
    "É possível percebe que tanto o **weather_main** quanto o **weather_description** são atributos super desbalanceados, principalmente este último. Foi percebido, que esses dois atributos estão ligados entre si. Cada **description** está associado a um **weather**. "
   ]
  },
  {
   "cell_type": "code",
   "execution_count": 18,
   "metadata": {},
   "outputs": [
    {
     "name": "stdout",
     "output_type": "stream",
     "text": [
      "Descrições para  Clouds : ['scattered clouds' 'broken clouds' 'overcast clouds' 'few clouds']\n",
      "Descrições para  Clear : ['sky is clear' 'Sky is Clear']\n",
      "Descrições para  Rain : ['light rain' 'proximity shower rain' 'moderate rain'\n",
      " 'heavy intensity rain' 'freezing rain' 'light intensity shower rain'\n",
      " 'very heavy rain']\n",
      "Descrições para  Drizzle : ['light intensity drizzle' 'drizzle' 'heavy intensity drizzle'\n",
      " 'shower drizzle']\n",
      "Descrições para  Mist : ['mist']\n",
      "Descrições para  Haze : ['haze']\n",
      "Descrições para  Fog : ['fog']\n",
      "Descrições para  Thunderstorm : ['proximity thunderstorm' 'thunderstorm with light rain'\n",
      " 'proximity thunderstorm with rain' 'thunderstorm with heavy rain'\n",
      " 'thunderstorm with rain' 'proximity thunderstorm with drizzle'\n",
      " 'thunderstorm' 'thunderstorm with light drizzle'\n",
      " 'thunderstorm with drizzle']\n",
      "Descrições para  Snow : ['heavy snow' 'snow' 'shower snow' 'light rain and snow' 'light snow'\n",
      " 'light shower snow' 'sleet']\n",
      "Descrições para  Squall : ['SQUALLS']\n",
      "Descrições para  Smoke : ['smoke']\n"
     ]
    }
   ],
   "source": [
    "for weather in df_base['weather_main'].unique():\n",
    "    loc = df_base.loc[df_base['weather_main']== weather]\n",
    "    print(\"Descrições para \", weather, \":\", loc['weather_description'].unique())\n",
    "    "
   ]
  },
  {
   "cell_type": "markdown",
   "metadata": {},
   "source": [
    "Para saber se deve manter esses dois atributos na base de dados, será verificado, assim como **holiday**, como o **weather_main** influencia no volume de tráfego de passageiros. "
   ]
  },
  {
   "cell_type": "code",
   "execution_count": 19,
   "metadata": {},
   "outputs": [
    {
     "data": {
      "text/plain": [
       "Text(0, 0.5, 'Média de passageiros')"
      ]
     },
     "execution_count": 19,
     "metadata": {},
     "output_type": "execute_result"
    },
    {
     "data": {
      "image/png": "[encoded data removed]",
      "text/plain": [
       "<Figure size 720x360 with 1 Axes>"
      ]
     },
     "metadata": {
      "needs_background": "light"
     },
     "output_type": "display_data"
    }
   ],
   "source": [
    "df_base.groupby('weather_main').mean()['traffic_volume'].plot.bar(figsize=(10,5))\n",
    "plt.xlabel('Weather Main')\n",
    "plt.ylabel('Média de passageiros')"
   ]
  },
  {
   "cell_type": "markdown",
   "metadata": {},
   "source": [
    "Percebe-se que não provoca drásticas diminuições no volume de passageiros. Há uma leve diminuição de passageiros quando o clima é _Squall_, mas não é algo tão relevante. Sendo assim, levando em conta que os dois atributos(**weather_main e weather_description**) estão desbalanceados  e que o volume de tráfego de passageitos não está sofrendo grandes mudanças, esses dois atributos serão retirados  da base de dados. "
   ]
  },
  {
   "cell_type": "code",
   "execution_count": 20,
   "metadata": {},
   "outputs": [
    {
     "data": {
      "text/html": [
       "<div>\n",
       "<style scoped>\n",
       "    .dataframe tbody tr th:only-of-type {\n",
       "        vertical-align: middle;\n",
       "    }\n",
       "\n",
       "    .dataframe tbody tr th {\n",
       "        vertical-align: top;\n",
       "    }\n",
       "\n",
       "    .dataframe thead th {\n",
       "        text-align: right;\n",
       "    }\n",
       "</style>\n",
       "<table border=\"1\" class=\"dataframe\">\n",
       "  <thead>\n",
       "    <tr style=\"text-align: right;\">\n",
       "      <th></th>\n",
       "      <th>temp</th>\n",
       "      <th>rain_1h</th>\n",
       "      <th>snow_1h</th>\n",
       "      <th>clouds_all</th>\n",
       "      <th>traffic_volume</th>\n",
       "      <th>year</th>\n",
       "      <th>month</th>\n",
       "      <th>day</th>\n",
       "      <th>hour</th>\n",
       "      <th>weekday</th>\n",
       "    </tr>\n",
       "  </thead>\n",
       "  <tbody>\n",
       "    <tr>\n",
       "      <td>0</td>\n",
       "      <td>288.28</td>\n",
       "      <td>0.0</td>\n",
       "      <td>0.0</td>\n",
       "      <td>40</td>\n",
       "      <td>5545</td>\n",
       "      <td>2012</td>\n",
       "      <td>10</td>\n",
       "      <td>2</td>\n",
       "      <td>9</td>\n",
       "      <td>1</td>\n",
       "    </tr>\n",
       "    <tr>\n",
       "      <td>1</td>\n",
       "      <td>289.36</td>\n",
       "      <td>0.0</td>\n",
       "      <td>0.0</td>\n",
       "      <td>75</td>\n",
       "      <td>4516</td>\n",
       "      <td>2012</td>\n",
       "      <td>10</td>\n",
       "      <td>2</td>\n",
       "      <td>10</td>\n",
       "      <td>1</td>\n",
       "    </tr>\n",
       "    <tr>\n",
       "      <td>2</td>\n",
       "      <td>289.58</td>\n",
       "      <td>0.0</td>\n",
       "      <td>0.0</td>\n",
       "      <td>90</td>\n",
       "      <td>4767</td>\n",
       "      <td>2012</td>\n",
       "      <td>10</td>\n",
       "      <td>2</td>\n",
       "      <td>11</td>\n",
       "      <td>1</td>\n",
       "    </tr>\n",
       "    <tr>\n",
       "      <td>3</td>\n",
       "      <td>290.13</td>\n",
       "      <td>0.0</td>\n",
       "      <td>0.0</td>\n",
       "      <td>90</td>\n",
       "      <td>5026</td>\n",
       "      <td>2012</td>\n",
       "      <td>10</td>\n",
       "      <td>2</td>\n",
       "      <td>12</td>\n",
       "      <td>1</td>\n",
       "    </tr>\n",
       "    <tr>\n",
       "      <td>4</td>\n",
       "      <td>291.14</td>\n",
       "      <td>0.0</td>\n",
       "      <td>0.0</td>\n",
       "      <td>75</td>\n",
       "      <td>4918</td>\n",
       "      <td>2012</td>\n",
       "      <td>10</td>\n",
       "      <td>2</td>\n",
       "      <td>13</td>\n",
       "      <td>1</td>\n",
       "    </tr>\n",
       "  </tbody>\n",
       "</table>\n",
       "</div>"
      ],
      "text/plain": [
       "     temp  rain_1h  snow_1h  clouds_all  traffic_volume  year  month  day  \\\n",
       "0  288.28      0.0      0.0          40            5545  2012     10    2   \n",
       "1  289.36      0.0      0.0          75            4516  2012     10    2   \n",
       "2  289.58      0.0      0.0          90            4767  2012     10    2   \n",
       "3  290.13      0.0      0.0          90            5026  2012     10    2   \n",
       "4  291.14      0.0      0.0          75            4918  2012     10    2   \n",
       "\n",
       "   hour  weekday  \n",
       "0     9        1  \n",
       "1    10        1  \n",
       "2    11        1  \n",
       "3    12        1  \n",
       "4    13        1  "
      ]
     },
     "execution_count": 20,
     "metadata": {},
     "output_type": "execute_result"
    }
   ],
   "source": [
    "df_base = df_base.drop(columns=['weather_main'])\n",
    "df_base = df_base.drop(columns=['weather_description'])\n",
    "df_base.head()"
   ]
  },
  {
   "cell_type": "markdown",
   "metadata": {},
   "source": [
    "## Correlação"
   ]
  },
  {
   "cell_type": "markdown",
   "metadata": {},
   "source": [
    "obs: Novamente não é possível visualizar a matriz de correlação. Mas ela está na referente página da questão no github [link](https://github.com/LuyzaDomingos/IA/blob/master/Regressao/questao2.ipynb)"
   ]
  },
  {
   "cell_type": "code",
   "execution_count": 21,
   "metadata": {},
   "outputs": [
    {
     "data": {
      "text/html": [
       "<style  type=\"text/css\" >\n",
       "    #T_47d8f0e8_61b8_11ea_b73f_23bc015dc86crow0_col0 {\n",
       "            background-color:  #b40426;\n",
       "            color:  #f1f1f1;\n",
       "        }    #T_47d8f0e8_61b8_11ea_b73f_23bc015dc86crow0_col1 {\n",
       "            background-color:  #3f53c6;\n",
       "            color:  #f1f1f1;\n",
       "        }    #T_47d8f0e8_61b8_11ea_b73f_23bc015dc86crow0_col2 {\n",
       "            background-color:  #3b4cc0;\n",
       "            color:  #f1f1f1;\n",
       "        }    #T_47d8f0e8_61b8_11ea_b73f_23bc015dc86crow0_col3 {\n",
       "            background-color:  #3b4cc0;\n",
       "            color:  #f1f1f1;\n",
       "        }    #T_47d8f0e8_61b8_11ea_b73f_23bc015dc86crow0_col4 {\n",
       "            background-color:  #8badfd;\n",
       "            color:  #000000;\n",
       "        }    #T_47d8f0e8_61b8_11ea_b73f_23bc015dc86crow0_col5 {\n",
       "            background-color:  #8db0fe;\n",
       "            color:  #000000;\n",
       "        }    #T_47d8f0e8_61b8_11ea_b73f_23bc015dc86crow0_col6 {\n",
       "            background-color:  #a9c6fd;\n",
       "            color:  #000000;\n",
       "        }    #T_47d8f0e8_61b8_11ea_b73f_23bc015dc86crow0_col7 {\n",
       "            background-color:  #445acc;\n",
       "            color:  #f1f1f1;\n",
       "        }    #T_47d8f0e8_61b8_11ea_b73f_23bc015dc86crow0_col8 {\n",
       "            background-color:  #5f7fe8;\n",
       "            color:  #000000;\n",
       "        }    #T_47d8f0e8_61b8_11ea_b73f_23bc015dc86crow0_col9 {\n",
       "            background-color:  #6180e9;\n",
       "            color:  #000000;\n",
       "        }    #T_47d8f0e8_61b8_11ea_b73f_23bc015dc86crow1_col0 {\n",
       "            background-color:  #5977e3;\n",
       "            color:  #000000;\n",
       "        }    #T_47d8f0e8_61b8_11ea_b73f_23bc015dc86crow1_col1 {\n",
       "            background-color:  #b40426;\n",
       "            color:  #f1f1f1;\n",
       "        }    #T_47d8f0e8_61b8_11ea_b73f_23bc015dc86crow1_col2 {\n",
       "            background-color:  #3f53c6;\n",
       "            color:  #f1f1f1;\n",
       "        }    #T_47d8f0e8_61b8_11ea_b73f_23bc015dc86crow1_col3 {\n",
       "            background-color:  #5875e1;\n",
       "            color:  #000000;\n",
       "        }    #T_47d8f0e8_61b8_11ea_b73f_23bc015dc86crow1_col4 {\n",
       "            background-color:  #6485ec;\n",
       "            color:  #000000;\n",
       "        }    #T_47d8f0e8_61b8_11ea_b73f_23bc015dc86crow1_col5 {\n",
       "            background-color:  #6687ed;\n",
       "            color:  #000000;\n",
       "        }    #T_47d8f0e8_61b8_11ea_b73f_23bc015dc86crow1_col6 {\n",
       "            background-color:  #6687ed;\n",
       "            color:  #000000;\n",
       "        }    #T_47d8f0e8_61b8_11ea_b73f_23bc015dc86crow1_col7 {\n",
       "            background-color:  #3c4ec2;\n",
       "            color:  #f1f1f1;\n",
       "        }    #T_47d8f0e8_61b8_11ea_b73f_23bc015dc86crow1_col8 {\n",
       "            background-color:  #3e51c5;\n",
       "            color:  #f1f1f1;\n",
       "        }    #T_47d8f0e8_61b8_11ea_b73f_23bc015dc86crow1_col9 {\n",
       "            background-color:  #6180e9;\n",
       "            color:  #000000;\n",
       "        }    #T_47d8f0e8_61b8_11ea_b73f_23bc015dc86crow2_col0 {\n",
       "            background-color:  #516ddb;\n",
       "            color:  #000000;\n",
       "        }    #T_47d8f0e8_61b8_11ea_b73f_23bc015dc86crow2_col1 {\n",
       "            background-color:  #3c4ec2;\n",
       "            color:  #f1f1f1;\n",
       "        }    #T_47d8f0e8_61b8_11ea_b73f_23bc015dc86crow2_col2 {\n",
       "            background-color:  #b40426;\n",
       "            color:  #f1f1f1;\n",
       "        }    #T_47d8f0e8_61b8_11ea_b73f_23bc015dc86crow2_col3 {\n",
       "            background-color:  #5f7fe8;\n",
       "            color:  #000000;\n",
       "        }    #T_47d8f0e8_61b8_11ea_b73f_23bc015dc86crow2_col4 {\n",
       "            background-color:  #6384eb;\n",
       "            color:  #000000;\n",
       "        }    #T_47d8f0e8_61b8_11ea_b73f_23bc015dc86crow2_col5 {\n",
       "            background-color:  #6485ec;\n",
       "            color:  #000000;\n",
       "        }    #T_47d8f0e8_61b8_11ea_b73f_23bc015dc86crow2_col6 {\n",
       "            background-color:  #6b8df0;\n",
       "            color:  #000000;\n",
       "        }    #T_47d8f0e8_61b8_11ea_b73f_23bc015dc86crow2_col7 {\n",
       "            background-color:  #4257c9;\n",
       "            color:  #f1f1f1;\n",
       "        }    #T_47d8f0e8_61b8_11ea_b73f_23bc015dc86crow2_col8 {\n",
       "            background-color:  #3f53c6;\n",
       "            color:  #f1f1f1;\n",
       "        }    #T_47d8f0e8_61b8_11ea_b73f_23bc015dc86crow2_col9 {\n",
       "            background-color:  #5e7de7;\n",
       "            color:  #000000;\n",
       "        }    #T_47d8f0e8_61b8_11ea_b73f_23bc015dc86crow3_col0 {\n",
       "            background-color:  #3b4cc0;\n",
       "            color:  #f1f1f1;\n",
       "        }    #T_47d8f0e8_61b8_11ea_b73f_23bc015dc86crow3_col1 {\n",
       "            background-color:  #3d50c3;\n",
       "            color:  #f1f1f1;\n",
       "        }    #T_47d8f0e8_61b8_11ea_b73f_23bc015dc86crow3_col2 {\n",
       "            background-color:  #485fd1;\n",
       "            color:  #f1f1f1;\n",
       "        }    #T_47d8f0e8_61b8_11ea_b73f_23bc015dc86crow3_col3 {\n",
       "            background-color:  #b40426;\n",
       "            color:  #f1f1f1;\n",
       "        }    #T_47d8f0e8_61b8_11ea_b73f_23bc015dc86crow3_col4 {\n",
       "            background-color:  #779af7;\n",
       "            color:  #000000;\n",
       "        }    #T_47d8f0e8_61b8_11ea_b73f_23bc015dc86crow3_col5 {\n",
       "            background-color:  #506bda;\n",
       "            color:  #000000;\n",
       "        }    #T_47d8f0e8_61b8_11ea_b73f_23bc015dc86crow3_col6 {\n",
       "            background-color:  #6384eb;\n",
       "            color:  #000000;\n",
       "        }    #T_47d8f0e8_61b8_11ea_b73f_23bc015dc86crow3_col7 {\n",
       "            background-color:  #4b64d5;\n",
       "            color:  #f1f1f1;\n",
       "        }    #T_47d8f0e8_61b8_11ea_b73f_23bc015dc86crow3_col8 {\n",
       "            background-color:  #4e68d8;\n",
       "            color:  #000000;\n",
       "        }    #T_47d8f0e8_61b8_11ea_b73f_23bc015dc86crow3_col9 {\n",
       "            background-color:  #5875e1;\n",
       "            color:  #000000;\n",
       "        }    #T_47d8f0e8_61b8_11ea_b73f_23bc015dc86crow4_col0 {\n",
       "            background-color:  #7ea1fa;\n",
       "            color:  #000000;\n",
       "        }    #T_47d8f0e8_61b8_11ea_b73f_23bc015dc86crow4_col1 {\n",
       "            background-color:  #3d50c3;\n",
       "            color:  #f1f1f1;\n",
       "        }    #T_47d8f0e8_61b8_11ea_b73f_23bc015dc86crow4_col2 {\n",
       "            background-color:  #4055c8;\n",
       "            color:  #f1f1f1;\n",
       "        }    #T_47d8f0e8_61b8_11ea_b73f_23bc015dc86crow4_col3 {\n",
       "            background-color:  #6b8df0;\n",
       "            color:  #000000;\n",
       "        }    #T_47d8f0e8_61b8_11ea_b73f_23bc015dc86crow4_col4 {\n",
       "            background-color:  #b40426;\n",
       "            color:  #f1f1f1;\n",
       "        }    #T_47d8f0e8_61b8_11ea_b73f_23bc015dc86crow4_col5 {\n",
       "            background-color:  #6788ee;\n",
       "            color:  #000000;\n",
       "        }    #T_47d8f0e8_61b8_11ea_b73f_23bc015dc86crow4_col6 {\n",
       "            background-color:  #6485ec;\n",
       "            color:  #000000;\n",
       "        }    #T_47d8f0e8_61b8_11ea_b73f_23bc015dc86crow4_col7 {\n",
       "            background-color:  #3b4cc0;\n",
       "            color:  #f1f1f1;\n",
       "        }    #T_47d8f0e8_61b8_11ea_b73f_23bc015dc86crow4_col8 {\n",
       "            background-color:  #b2ccfb;\n",
       "            color:  #000000;\n",
       "        }    #T_47d8f0e8_61b8_11ea_b73f_23bc015dc86crow4_col9 {\n",
       "            background-color:  #3b4cc0;\n",
       "            color:  #f1f1f1;\n",
       "        }    #T_47d8f0e8_61b8_11ea_b73f_23bc015dc86crow5_col0 {\n",
       "            background-color:  #81a4fb;\n",
       "            color:  #000000;\n",
       "        }    #T_47d8f0e8_61b8_11ea_b73f_23bc015dc86crow5_col1 {\n",
       "            background-color:  #3c4ec2;\n",
       "            color:  #f1f1f1;\n",
       "        }    #T_47d8f0e8_61b8_11ea_b73f_23bc015dc86crow5_col2 {\n",
       "            background-color:  #3f53c6;\n",
       "            color:  #f1f1f1;\n",
       "        }    #T_47d8f0e8_61b8_11ea_b73f_23bc015dc86crow5_col3 {\n",
       "            background-color:  #4257c9;\n",
       "            color:  #f1f1f1;\n",
       "        }    #T_47d8f0e8_61b8_11ea_b73f_23bc015dc86crow5_col4 {\n",
       "            background-color:  #6485ec;\n",
       "            color:  #000000;\n",
       "        }    #T_47d8f0e8_61b8_11ea_b73f_23bc015dc86crow5_col5 {\n",
       "            background-color:  #b40426;\n",
       "            color:  #f1f1f1;\n",
       "        }    #T_47d8f0e8_61b8_11ea_b73f_23bc015dc86crow5_col6 {\n",
       "            background-color:  #3b4cc0;\n",
       "            color:  #f1f1f1;\n",
       "        }    #T_47d8f0e8_61b8_11ea_b73f_23bc015dc86crow5_col7 {\n",
       "            background-color:  #4055c8;\n",
       "            color:  #f1f1f1;\n",
       "        }    #T_47d8f0e8_61b8_11ea_b73f_23bc015dc86crow5_col8 {\n",
       "            background-color:  #3b4cc0;\n",
       "            color:  #f1f1f1;\n",
       "        }    #T_47d8f0e8_61b8_11ea_b73f_23bc015dc86crow5_col9 {\n",
       "            background-color:  #5f7fe8;\n",
       "            color:  #000000;\n",
       "        }    #T_47d8f0e8_61b8_11ea_b73f_23bc015dc86crow6_col0 {\n",
       "            background-color:  #9dbdff;\n",
       "            color:  #000000;\n",
       "        }    #T_47d8f0e8_61b8_11ea_b73f_23bc015dc86crow6_col1 {\n",
       "            background-color:  #3d50c3;\n",
       "            color:  #f1f1f1;\n",
       "        }    #T_47d8f0e8_61b8_11ea_b73f_23bc015dc86crow6_col2 {\n",
       "            background-color:  #465ecf;\n",
       "            color:  #f1f1f1;\n",
       "        }    #T_47d8f0e8_61b8_11ea_b73f_23bc015dc86crow6_col3 {\n",
       "            background-color:  #5470de;\n",
       "            color:  #000000;\n",
       "        }    #T_47d8f0e8_61b8_11ea_b73f_23bc015dc86crow6_col4 {\n",
       "            background-color:  #6282ea;\n",
       "            color:  #000000;\n",
       "        }    #T_47d8f0e8_61b8_11ea_b73f_23bc015dc86crow6_col5 {\n",
       "            background-color:  #3b4cc0;\n",
       "            color:  #f1f1f1;\n",
       "        }    #T_47d8f0e8_61b8_11ea_b73f_23bc015dc86crow6_col6 {\n",
       "            background-color:  #b40426;\n",
       "            color:  #f1f1f1;\n",
       "        }    #T_47d8f0e8_61b8_11ea_b73f_23bc015dc86crow6_col7 {\n",
       "            background-color:  #3f53c6;\n",
       "            color:  #f1f1f1;\n",
       "        }    #T_47d8f0e8_61b8_11ea_b73f_23bc015dc86crow6_col8 {\n",
       "            background-color:  #3d50c3;\n",
       "            color:  #f1f1f1;\n",
       "        }    #T_47d8f0e8_61b8_11ea_b73f_23bc015dc86crow6_col9 {\n",
       "            background-color:  #6687ed;\n",
       "            color:  #000000;\n",
       "        }    #T_47d8f0e8_61b8_11ea_b73f_23bc015dc86crow7_col0 {\n",
       "            background-color:  #5d7ce6;\n",
       "            color:  #000000;\n",
       "        }    #T_47d8f0e8_61b8_11ea_b73f_23bc015dc86crow7_col1 {\n",
       "            background-color:  #3c4ec2;\n",
       "            color:  #f1f1f1;\n",
       "        }    #T_47d8f0e8_61b8_11ea_b73f_23bc015dc86crow7_col2 {\n",
       "            background-color:  #445acc;\n",
       "            color:  #f1f1f1;\n",
       "        }    #T_47d8f0e8_61b8_11ea_b73f_23bc015dc86crow7_col3 {\n",
       "            background-color:  #6485ec;\n",
       "            color:  #000000;\n",
       "        }    #T_47d8f0e8_61b8_11ea_b73f_23bc015dc86crow7_col4 {\n",
       "            background-color:  #6180e9;\n",
       "            color:  #000000;\n",
       "        }    #T_47d8f0e8_61b8_11ea_b73f_23bc015dc86crow7_col5 {\n",
       "            background-color:  #688aef;\n",
       "            color:  #000000;\n",
       "        }    #T_47d8f0e8_61b8_11ea_b73f_23bc015dc86crow7_col6 {\n",
       "            background-color:  #688aef;\n",
       "            color:  #000000;\n",
       "        }    #T_47d8f0e8_61b8_11ea_b73f_23bc015dc86crow7_col7 {\n",
       "            background-color:  #b40426;\n",
       "            color:  #f1f1f1;\n",
       "        }    #T_47d8f0e8_61b8_11ea_b73f_23bc015dc86crow7_col8 {\n",
       "            background-color:  #3b4cc0;\n",
       "            color:  #f1f1f1;\n",
       "        }    #T_47d8f0e8_61b8_11ea_b73f_23bc015dc86crow7_col9 {\n",
       "            background-color:  #6687ed;\n",
       "            color:  #000000;\n",
       "        }    #T_47d8f0e8_61b8_11ea_b73f_23bc015dc86crow8_col0 {\n",
       "            background-color:  #799cf8;\n",
       "            color:  #000000;\n",
       "        }    #T_47d8f0e8_61b8_11ea_b73f_23bc015dc86crow8_col1 {\n",
       "            background-color:  #3d50c3;\n",
       "            color:  #f1f1f1;\n",
       "        }    #T_47d8f0e8_61b8_11ea_b73f_23bc015dc86crow8_col2 {\n",
       "            background-color:  #4358cb;\n",
       "            color:  #f1f1f1;\n",
       "        }    #T_47d8f0e8_61b8_11ea_b73f_23bc015dc86crow8_col3 {\n",
       "            background-color:  #6788ee;\n",
       "            color:  #000000;\n",
       "        }    #T_47d8f0e8_61b8_11ea_b73f_23bc015dc86crow8_col4 {\n",
       "            background-color:  #cbd8ee;\n",
       "            color:  #000000;\n",
       "        }    #T_47d8f0e8_61b8_11ea_b73f_23bc015dc86crow8_col5 {\n",
       "            background-color:  #6384eb;\n",
       "            color:  #000000;\n",
       "        }    #T_47d8f0e8_61b8_11ea_b73f_23bc015dc86crow8_col6 {\n",
       "            background-color:  #6687ed;\n",
       "            color:  #000000;\n",
       "        }    #T_47d8f0e8_61b8_11ea_b73f_23bc015dc86crow8_col7 {\n",
       "            background-color:  #3b4cc0;\n",
       "            color:  #f1f1f1;\n",
       "        }    #T_47d8f0e8_61b8_11ea_b73f_23bc015dc86crow8_col8 {\n",
       "            background-color:  #b40426;\n",
       "            color:  #f1f1f1;\n",
       "        }    #T_47d8f0e8_61b8_11ea_b73f_23bc015dc86crow8_col9 {\n",
       "            background-color:  #6282ea;\n",
       "            color:  #000000;\n",
       "        }    #T_47d8f0e8_61b8_11ea_b73f_23bc015dc86crow9_col0 {\n",
       "            background-color:  #5470de;\n",
       "            color:  #000000;\n",
       "        }    #T_47d8f0e8_61b8_11ea_b73f_23bc015dc86crow9_col1 {\n",
       "            background-color:  #3b4cc0;\n",
       "            color:  #f1f1f1;\n",
       "        }    #T_47d8f0e8_61b8_11ea_b73f_23bc015dc86crow9_col2 {\n",
       "            background-color:  #3c4ec2;\n",
       "            color:  #f1f1f1;\n",
       "        }    #T_47d8f0e8_61b8_11ea_b73f_23bc015dc86crow9_col3 {\n",
       "            background-color:  #4b64d5;\n",
       "            color:  #f1f1f1;\n",
       "        }    #T_47d8f0e8_61b8_11ea_b73f_23bc015dc86crow9_col4 {\n",
       "            background-color:  #3b4cc0;\n",
       "            color:  #f1f1f1;\n",
       "        }    #T_47d8f0e8_61b8_11ea_b73f_23bc015dc86crow9_col5 {\n",
       "            background-color:  #6282ea;\n",
       "            color:  #000000;\n",
       "        }    #T_47d8f0e8_61b8_11ea_b73f_23bc015dc86crow9_col6 {\n",
       "            background-color:  #688aef;\n",
       "            color:  #000000;\n",
       "        }    #T_47d8f0e8_61b8_11ea_b73f_23bc015dc86crow9_col7 {\n",
       "            background-color:  #3f53c6;\n",
       "            color:  #f1f1f1;\n",
       "        }    #T_47d8f0e8_61b8_11ea_b73f_23bc015dc86crow9_col8 {\n",
       "            background-color:  #3c4ec2;\n",
       "            color:  #f1f1f1;\n",
       "        }    #T_47d8f0e8_61b8_11ea_b73f_23bc015dc86crow9_col9 {\n",
       "            background-color:  #b40426;\n",
       "            color:  #f1f1f1;\n",
       "        }</style><table id=\"T_47d8f0e8_61b8_11ea_b73f_23bc015dc86c\" ><thead>    <tr>        <th class=\"blank level0\" ></th>        <th class=\"col_heading level0 col0\" >temp</th>        <th class=\"col_heading level0 col1\" >rain_1h</th>        <th class=\"col_heading level0 col2\" >snow_1h</th>        <th class=\"col_heading level0 col3\" >clouds_all</th>        <th class=\"col_heading level0 col4\" >traffic_volume</th>        <th class=\"col_heading level0 col5\" >year</th>        <th class=\"col_heading level0 col6\" >month</th>        <th class=\"col_heading level0 col7\" >day</th>        <th class=\"col_heading level0 col8\" >hour</th>        <th class=\"col_heading level0 col9\" >weekday</th>    </tr></thead><tbody>\n",
       "                <tr>\n",
       "                        <th id=\"T_47d8f0e8_61b8_11ea_b73f_23bc015dc86clevel0_row0\" class=\"row_heading level0 row0\" >temp</th>\n",
       "                        <td id=\"T_47d8f0e8_61b8_11ea_b73f_23bc015dc86crow0_col0\" class=\"data row0 col0\" >1</td>\n",
       "                        <td id=\"T_47d8f0e8_61b8_11ea_b73f_23bc015dc86crow0_col1\" class=\"data row0 col1\" >0.00907029</td>\n",
       "                        <td id=\"T_47d8f0e8_61b8_11ea_b73f_23bc015dc86crow0_col2\" class=\"data row0 col2\" >-0.0197562</td>\n",
       "                        <td id=\"T_47d8f0e8_61b8_11ea_b73f_23bc015dc86crow0_col3\" class=\"data row0 col3\" >-0.101968</td>\n",
       "                        <td id=\"T_47d8f0e8_61b8_11ea_b73f_23bc015dc86crow0_col4\" class=\"data row0 col4\" >0.130161</td>\n",
       "                        <td id=\"T_47d8f0e8_61b8_11ea_b73f_23bc015dc86crow0_col5\" class=\"data row0 col5\" >0.134916</td>\n",
       "                        <td id=\"T_47d8f0e8_61b8_11ea_b73f_23bc015dc86crow0_col6\" class=\"data row0 col6\" >0.223943</td>\n",
       "                        <td id=\"T_47d8f0e8_61b8_11ea_b73f_23bc015dc86crow0_col7\" class=\"data row0 col7\" >0.022677</td>\n",
       "                        <td id=\"T_47d8f0e8_61b8_11ea_b73f_23bc015dc86crow0_col8\" class=\"data row0 col8\" >0.112048</td>\n",
       "                        <td id=\"T_47d8f0e8_61b8_11ea_b73f_23bc015dc86crow0_col9\" class=\"data row0 col9\" >-0.0078244</td>\n",
       "            </tr>\n",
       "            <tr>\n",
       "                        <th id=\"T_47d8f0e8_61b8_11ea_b73f_23bc015dc86clevel0_row1\" class=\"row_heading level0 row1\" >rain_1h</th>\n",
       "                        <td id=\"T_47d8f0e8_61b8_11ea_b73f_23bc015dc86crow1_col0\" class=\"data row1 col0\" >0.00907029</td>\n",
       "                        <td id=\"T_47d8f0e8_61b8_11ea_b73f_23bc015dc86crow1_col1\" class=\"data row1 col1\" >1</td>\n",
       "                        <td id=\"T_47d8f0e8_61b8_11ea_b73f_23bc015dc86crow1_col2\" class=\"data row1 col2\" >-8.99063e-05</td>\n",
       "                        <td id=\"T_47d8f0e8_61b8_11ea_b73f_23bc015dc86crow1_col3\" class=\"data row1 col3\" >0.00481843</td>\n",
       "                        <td id=\"T_47d8f0e8_61b8_11ea_b73f_23bc015dc86crow1_col4\" class=\"data row1 col4\" >0.00471506</td>\n",
       "                        <td id=\"T_47d8f0e8_61b8_11ea_b73f_23bc015dc86crow1_col5\" class=\"data row1 col5\" >0.000443471</td>\n",
       "                        <td id=\"T_47d8f0e8_61b8_11ea_b73f_23bc015dc86crow1_col6\" class=\"data row1 col6\" >0.00129963</td>\n",
       "                        <td id=\"T_47d8f0e8_61b8_11ea_b73f_23bc015dc86crow1_col7\" class=\"data row1 col7\" >-0.0022933</td>\n",
       "                        <td id=\"T_47d8f0e8_61b8_11ea_b73f_23bc015dc86crow1_col8\" class=\"data row1 col8\" >0.0034222</td>\n",
       "                        <td id=\"T_47d8f0e8_61b8_11ea_b73f_23bc015dc86crow1_col9\" class=\"data row1 col9\" >-0.00692016</td>\n",
       "            </tr>\n",
       "            <tr>\n",
       "                        <th id=\"T_47d8f0e8_61b8_11ea_b73f_23bc015dc86clevel0_row2\" class=\"row_heading level0 row2\" >snow_1h</th>\n",
       "                        <td id=\"T_47d8f0e8_61b8_11ea_b73f_23bc015dc86crow2_col0\" class=\"data row2 col0\" >-0.0197562</td>\n",
       "                        <td id=\"T_47d8f0e8_61b8_11ea_b73f_23bc015dc86crow2_col1\" class=\"data row2 col1\" >-8.99063e-05</td>\n",
       "                        <td id=\"T_47d8f0e8_61b8_11ea_b73f_23bc015dc86crow2_col2\" class=\"data row2 col2\" >1</td>\n",
       "                        <td id=\"T_47d8f0e8_61b8_11ea_b73f_23bc015dc86crow2_col3\" class=\"data row2 col3\" >0.027934</td>\n",
       "                        <td id=\"T_47d8f0e8_61b8_11ea_b73f_23bc015dc86crow2_col4\" class=\"data row2 col4\" >0.000736274</td>\n",
       "                        <td id=\"T_47d8f0e8_61b8_11ea_b73f_23bc015dc86crow2_col5\" class=\"data row2 col5\" >-0.00351419</td>\n",
       "                        <td id=\"T_47d8f0e8_61b8_11ea_b73f_23bc015dc86crow2_col6\" class=\"data row2 col6\" >0.0204217</td>\n",
       "                        <td id=\"T_47d8f0e8_61b8_11ea_b73f_23bc015dc86crow2_col7\" class=\"data row2 col7\" >0.0157977</td>\n",
       "                        <td id=\"T_47d8f0e8_61b8_11ea_b73f_23bc015dc86crow2_col8\" class=\"data row2 col8\" >0.00985232</td>\n",
       "                        <td id=\"T_47d8f0e8_61b8_11ea_b73f_23bc015dc86crow2_col9\" class=\"data row2 col9\" >-0.0149286</td>\n",
       "            </tr>\n",
       "            <tr>\n",
       "                        <th id=\"T_47d8f0e8_61b8_11ea_b73f_23bc015dc86clevel0_row3\" class=\"row_heading level0 row3\" >clouds_all</th>\n",
       "                        <td id=\"T_47d8f0e8_61b8_11ea_b73f_23bc015dc86crow3_col0\" class=\"data row3 col0\" >-0.101968</td>\n",
       "                        <td id=\"T_47d8f0e8_61b8_11ea_b73f_23bc015dc86crow3_col1\" class=\"data row3 col1\" >0.00481843</td>\n",
       "                        <td id=\"T_47d8f0e8_61b8_11ea_b73f_23bc015dc86crow3_col2\" class=\"data row3 col2\" >0.027934</td>\n",
       "                        <td id=\"T_47d8f0e8_61b8_11ea_b73f_23bc015dc86crow3_col3\" class=\"data row3 col3\" >1</td>\n",
       "                        <td id=\"T_47d8f0e8_61b8_11ea_b73f_23bc015dc86crow3_col4\" class=\"data row3 col4\" >0.0671382</td>\n",
       "                        <td id=\"T_47d8f0e8_61b8_11ea_b73f_23bc015dc86crow3_col5\" class=\"data row3 col5\" >-0.0728552</td>\n",
       "                        <td id=\"T_47d8f0e8_61b8_11ea_b73f_23bc015dc86crow3_col6\" class=\"data row3 col6\" >-0.00911762</td>\n",
       "                        <td id=\"T_47d8f0e8_61b8_11ea_b73f_23bc015dc86crow3_col7\" class=\"data row3 col7\" >0.0484245</td>\n",
       "                        <td id=\"T_47d8f0e8_61b8_11ea_b73f_23bc015dc86crow3_col8\" class=\"data row3 col8\" >0.0545218</td>\n",
       "                        <td id=\"T_47d8f0e8_61b8_11ea_b73f_23bc015dc86crow3_col9\" class=\"data row3 col9\" >-0.039816</td>\n",
       "            </tr>\n",
       "            <tr>\n",
       "                        <th id=\"T_47d8f0e8_61b8_11ea_b73f_23bc015dc86clevel0_row4\" class=\"row_heading level0 row4\" >traffic_volume</th>\n",
       "                        <td id=\"T_47d8f0e8_61b8_11ea_b73f_23bc015dc86crow4_col0\" class=\"data row4 col0\" >0.130161</td>\n",
       "                        <td id=\"T_47d8f0e8_61b8_11ea_b73f_23bc015dc86crow4_col1\" class=\"data row4 col1\" >0.00471506</td>\n",
       "                        <td id=\"T_47d8f0e8_61b8_11ea_b73f_23bc015dc86crow4_col2\" class=\"data row4 col2\" >0.000736274</td>\n",
       "                        <td id=\"T_47d8f0e8_61b8_11ea_b73f_23bc015dc86crow4_col3\" class=\"data row4 col3\" >0.0671382</td>\n",
       "                        <td id=\"T_47d8f0e8_61b8_11ea_b73f_23bc015dc86crow4_col4\" class=\"data row4 col4\" >1</td>\n",
       "                        <td id=\"T_47d8f0e8_61b8_11ea_b73f_23bc015dc86crow4_col5\" class=\"data row4 col5\" >0.00469673</td>\n",
       "                        <td id=\"T_47d8f0e8_61b8_11ea_b73f_23bc015dc86crow4_col6\" class=\"data row4 col6\" >-0.00247962</td>\n",
       "                        <td id=\"T_47d8f0e8_61b8_11ea_b73f_23bc015dc86crow4_col7\" class=\"data row4 col7\" >-0.0077597</td>\n",
       "                        <td id=\"T_47d8f0e8_61b8_11ea_b73f_23bc015dc86crow4_col8\" class=\"data row4 col8\" >0.3523</td>\n",
       "                        <td id=\"T_47d8f0e8_61b8_11ea_b73f_23bc015dc86crow4_col9\" class=\"data row4 col9\" >-0.149551</td>\n",
       "            </tr>\n",
       "            <tr>\n",
       "                        <th id=\"T_47d8f0e8_61b8_11ea_b73f_23bc015dc86clevel0_row5\" class=\"row_heading level0 row5\" >year</th>\n",
       "                        <td id=\"T_47d8f0e8_61b8_11ea_b73f_23bc015dc86crow5_col0\" class=\"data row5 col0\" >0.134916</td>\n",
       "                        <td id=\"T_47d8f0e8_61b8_11ea_b73f_23bc015dc86crow5_col1\" class=\"data row5 col1\" >0.000443471</td>\n",
       "                        <td id=\"T_47d8f0e8_61b8_11ea_b73f_23bc015dc86crow5_col2\" class=\"data row5 col2\" >-0.00351419</td>\n",
       "                        <td id=\"T_47d8f0e8_61b8_11ea_b73f_23bc015dc86crow5_col3\" class=\"data row5 col3\" >-0.0728552</td>\n",
       "                        <td id=\"T_47d8f0e8_61b8_11ea_b73f_23bc015dc86crow5_col4\" class=\"data row5 col4\" >0.00469673</td>\n",
       "                        <td id=\"T_47d8f0e8_61b8_11ea_b73f_23bc015dc86crow5_col5\" class=\"data row5 col5\" >1</td>\n",
       "                        <td id=\"T_47d8f0e8_61b8_11ea_b73f_23bc015dc86crow5_col6\" class=\"data row5 col6\" >-0.15884</td>\n",
       "                        <td id=\"T_47d8f0e8_61b8_11ea_b73f_23bc015dc86crow5_col7\" class=\"data row5 col7\" >0.0120909</td>\n",
       "                        <td id=\"T_47d8f0e8_61b8_11ea_b73f_23bc015dc86crow5_col8\" class=\"data row5 col8\" >-0.00756136</td>\n",
       "                        <td id=\"T_47d8f0e8_61b8_11ea_b73f_23bc015dc86crow5_col9\" class=\"data row5 col9\" >-0.0123961</td>\n",
       "            </tr>\n",
       "            <tr>\n",
       "                        <th id=\"T_47d8f0e8_61b8_11ea_b73f_23bc015dc86clevel0_row6\" class=\"row_heading level0 row6\" >month</th>\n",
       "                        <td id=\"T_47d8f0e8_61b8_11ea_b73f_23bc015dc86crow6_col0\" class=\"data row6 col0\" >0.223943</td>\n",
       "                        <td id=\"T_47d8f0e8_61b8_11ea_b73f_23bc015dc86crow6_col1\" class=\"data row6 col1\" >0.00129963</td>\n",
       "                        <td id=\"T_47d8f0e8_61b8_11ea_b73f_23bc015dc86crow6_col2\" class=\"data row6 col2\" >0.0204217</td>\n",
       "                        <td id=\"T_47d8f0e8_61b8_11ea_b73f_23bc015dc86crow6_col3\" class=\"data row6 col3\" >-0.00911762</td>\n",
       "                        <td id=\"T_47d8f0e8_61b8_11ea_b73f_23bc015dc86crow6_col4\" class=\"data row6 col4\" >-0.00247962</td>\n",
       "                        <td id=\"T_47d8f0e8_61b8_11ea_b73f_23bc015dc86crow6_col5\" class=\"data row6 col5\" >-0.15884</td>\n",
       "                        <td id=\"T_47d8f0e8_61b8_11ea_b73f_23bc015dc86crow6_col6\" class=\"data row6 col6\" >1</td>\n",
       "                        <td id=\"T_47d8f0e8_61b8_11ea_b73f_23bc015dc86crow6_col7\" class=\"data row6 col7\" >0.0086861</td>\n",
       "                        <td id=\"T_47d8f0e8_61b8_11ea_b73f_23bc015dc86crow6_col8\" class=\"data row6 col8\" >0.0018437</td>\n",
       "                        <td id=\"T_47d8f0e8_61b8_11ea_b73f_23bc015dc86crow6_col9\" class=\"data row6 col9\" >0.0107621</td>\n",
       "            </tr>\n",
       "            <tr>\n",
       "                        <th id=\"T_47d8f0e8_61b8_11ea_b73f_23bc015dc86clevel0_row7\" class=\"row_heading level0 row7\" >day</th>\n",
       "                        <td id=\"T_47d8f0e8_61b8_11ea_b73f_23bc015dc86crow7_col0\" class=\"data row7 col0\" >0.022677</td>\n",
       "                        <td id=\"T_47d8f0e8_61b8_11ea_b73f_23bc015dc86crow7_col1\" class=\"data row7 col1\" >-0.0022933</td>\n",
       "                        <td id=\"T_47d8f0e8_61b8_11ea_b73f_23bc015dc86crow7_col2\" class=\"data row7 col2\" >0.0157977</td>\n",
       "                        <td id=\"T_47d8f0e8_61b8_11ea_b73f_23bc015dc86crow7_col3\" class=\"data row7 col3\" >0.0484245</td>\n",
       "                        <td id=\"T_47d8f0e8_61b8_11ea_b73f_23bc015dc86crow7_col4\" class=\"data row7 col4\" >-0.0077597</td>\n",
       "                        <td id=\"T_47d8f0e8_61b8_11ea_b73f_23bc015dc86crow7_col5\" class=\"data row7 col5\" >0.0120909</td>\n",
       "                        <td id=\"T_47d8f0e8_61b8_11ea_b73f_23bc015dc86crow7_col6\" class=\"data row7 col6\" >0.0086861</td>\n",
       "                        <td id=\"T_47d8f0e8_61b8_11ea_b73f_23bc015dc86crow7_col7\" class=\"data row7 col7\" >1</td>\n",
       "                        <td id=\"T_47d8f0e8_61b8_11ea_b73f_23bc015dc86crow7_col8\" class=\"data row7 col8\" >-0.00953101</td>\n",
       "                        <td id=\"T_47d8f0e8_61b8_11ea_b73f_23bc015dc86crow7_col9\" class=\"data row7 col9\" >0.00862729</td>\n",
       "            </tr>\n",
       "            <tr>\n",
       "                        <th id=\"T_47d8f0e8_61b8_11ea_b73f_23bc015dc86clevel0_row8\" class=\"row_heading level0 row8\" >hour</th>\n",
       "                        <td id=\"T_47d8f0e8_61b8_11ea_b73f_23bc015dc86crow8_col0\" class=\"data row8 col0\" >0.112048</td>\n",
       "                        <td id=\"T_47d8f0e8_61b8_11ea_b73f_23bc015dc86crow8_col1\" class=\"data row8 col1\" >0.0034222</td>\n",
       "                        <td id=\"T_47d8f0e8_61b8_11ea_b73f_23bc015dc86crow8_col2\" class=\"data row8 col2\" >0.00985232</td>\n",
       "                        <td id=\"T_47d8f0e8_61b8_11ea_b73f_23bc015dc86crow8_col3\" class=\"data row8 col3\" >0.0545218</td>\n",
       "                        <td id=\"T_47d8f0e8_61b8_11ea_b73f_23bc015dc86crow8_col4\" class=\"data row8 col4\" >0.3523</td>\n",
       "                        <td id=\"T_47d8f0e8_61b8_11ea_b73f_23bc015dc86crow8_col5\" class=\"data row8 col5\" >-0.00756136</td>\n",
       "                        <td id=\"T_47d8f0e8_61b8_11ea_b73f_23bc015dc86crow8_col6\" class=\"data row8 col6\" >0.0018437</td>\n",
       "                        <td id=\"T_47d8f0e8_61b8_11ea_b73f_23bc015dc86crow8_col7\" class=\"data row8 col7\" >-0.00953101</td>\n",
       "                        <td id=\"T_47d8f0e8_61b8_11ea_b73f_23bc015dc86crow8_col8\" class=\"data row8 col8\" >1</td>\n",
       "                        <td id=\"T_47d8f0e8_61b8_11ea_b73f_23bc015dc86crow8_col9\" class=\"data row8 col9\" >-0.00380821</td>\n",
       "            </tr>\n",
       "            <tr>\n",
       "                        <th id=\"T_47d8f0e8_61b8_11ea_b73f_23bc015dc86clevel0_row9\" class=\"row_heading level0 row9\" >weekday</th>\n",
       "                        <td id=\"T_47d8f0e8_61b8_11ea_b73f_23bc015dc86crow9_col0\" class=\"data row9 col0\" >-0.0078244</td>\n",
       "                        <td id=\"T_47d8f0e8_61b8_11ea_b73f_23bc015dc86crow9_col1\" class=\"data row9 col1\" >-0.00692016</td>\n",
       "                        <td id=\"T_47d8f0e8_61b8_11ea_b73f_23bc015dc86crow9_col2\" class=\"data row9 col2\" >-0.0149286</td>\n",
       "                        <td id=\"T_47d8f0e8_61b8_11ea_b73f_23bc015dc86crow9_col3\" class=\"data row9 col3\" >-0.039816</td>\n",
       "                        <td id=\"T_47d8f0e8_61b8_11ea_b73f_23bc015dc86crow9_col4\" class=\"data row9 col4\" >-0.149551</td>\n",
       "                        <td id=\"T_47d8f0e8_61b8_11ea_b73f_23bc015dc86crow9_col5\" class=\"data row9 col5\" >-0.0123961</td>\n",
       "                        <td id=\"T_47d8f0e8_61b8_11ea_b73f_23bc015dc86crow9_col6\" class=\"data row9 col6\" >0.0107621</td>\n",
       "                        <td id=\"T_47d8f0e8_61b8_11ea_b73f_23bc015dc86crow9_col7\" class=\"data row9 col7\" >0.00862729</td>\n",
       "                        <td id=\"T_47d8f0e8_61b8_11ea_b73f_23bc015dc86crow9_col8\" class=\"data row9 col8\" >-0.00380821</td>\n",
       "                        <td id=\"T_47d8f0e8_61b8_11ea_b73f_23bc015dc86crow9_col9\" class=\"data row9 col9\" >1</td>\n",
       "            </tr>\n",
       "    </tbody></table>"
      ],
      "text/plain": [
       "<pandas.io.formats.style.Styler at 0x7f1059453050>"
      ]
     },
     "execution_count": 21,
     "metadata": {},
     "output_type": "execute_result"
    }
   ],
   "source": [
    "correl = df_base.corr()\n",
    "correl.style.background_gradient(cmap = 'coolwarm')"
   ]
  },
  {
   "cell_type": "markdown",
   "metadata": {},
   "source": [
    "Valores da matriz de correlação dos atributos. Agora podemos visualizar, numericamente, a correlação entre os atributos. \n",
    "\n",
    "Como há poucos atributos, para uma melhor visualização, será plotado um gráfico com as correlações dos atributos em relação ao **traffic_volume .**"
   ]
  },
  {
   "cell_type": "code",
   "execution_count": 22,
   "metadata": {},
   "outputs": [
    {
     "data": {
      "text/plain": [
       "<matplotlib.axes._subplots.AxesSubplot at 0x7f1059222d90>"
      ]
     },
     "execution_count": 22,
     "metadata": {},
     "output_type": "execute_result"
    },
    {
     "data": {
      "image/png": "[encoded data removed]",
      "text/plain": [
       "<Figure size 1080x216 with 1 Axes>"
      ]
     },
     "metadata": {
      "needs_background": "light"
     },
     "output_type": "display_data"
    }
   ],
   "source": [
    "df_base.corr().abs()[\"traffic_volume\"].sort_values().plot.bar(figsize=[15, 3])"
   ]
  },
  {
   "cell_type": "markdown",
   "metadata": {},
   "source": [
    "Diante do gráfico de correlação, percebe-se que os atributos que mais possuem impacto relevante no traffic_volume, são: **hour, weekday, temp e clouds_all**. \n",
    "\n",
    "E os atributos que possuem correlações desprezíveis, são: **day**, **month**, **year**, **snow_1h**, **rain_1h**. Sendo assim,estes serão removidos da base de dados."
   ]
  },
  {
   "cell_type": "code",
   "execution_count": 23,
   "metadata": {},
   "outputs": [],
   "source": [
    "df_base = df_base.drop(columns=['day'])\n",
    "df_base = df_base.drop(columns=['month'])\n",
    "df_base = df_base.drop(columns=['year'])\n",
    "df_base = df_base.drop(columns=['snow_1h'])\n",
    "df_base = df_base.drop(columns=['rain_1h'])"
   ]
  },
  {
   "cell_type": "code",
   "execution_count": 24,
   "metadata": {},
   "outputs": [
    {
     "data": {
      "text/html": [
       "<div>\n",
       "<style scoped>\n",
       "    .dataframe tbody tr th:only-of-type {\n",
       "        vertical-align: middle;\n",
       "    }\n",
       "\n",
       "    .dataframe tbody tr th {\n",
       "        vertical-align: top;\n",
       "    }\n",
       "\n",
       "    .dataframe thead th {\n",
       "        text-align: right;\n",
       "    }\n",
       "</style>\n",
       "<table border=\"1\" class=\"dataframe\">\n",
       "  <thead>\n",
       "    <tr style=\"text-align: right;\">\n",
       "      <th></th>\n",
       "      <th>temp</th>\n",
       "      <th>clouds_all</th>\n",
       "      <th>traffic_volume</th>\n",
       "      <th>hour</th>\n",
       "      <th>weekday</th>\n",
       "    </tr>\n",
       "  </thead>\n",
       "  <tbody>\n",
       "    <tr>\n",
       "      <td>0</td>\n",
       "      <td>288.28</td>\n",
       "      <td>40</td>\n",
       "      <td>5545</td>\n",
       "      <td>9</td>\n",
       "      <td>1</td>\n",
       "    </tr>\n",
       "    <tr>\n",
       "      <td>1</td>\n",
       "      <td>289.36</td>\n",
       "      <td>75</td>\n",
       "      <td>4516</td>\n",
       "      <td>10</td>\n",
       "      <td>1</td>\n",
       "    </tr>\n",
       "    <tr>\n",
       "      <td>2</td>\n",
       "      <td>289.58</td>\n",
       "      <td>90</td>\n",
       "      <td>4767</td>\n",
       "      <td>11</td>\n",
       "      <td>1</td>\n",
       "    </tr>\n",
       "    <tr>\n",
       "      <td>3</td>\n",
       "      <td>290.13</td>\n",
       "      <td>90</td>\n",
       "      <td>5026</td>\n",
       "      <td>12</td>\n",
       "      <td>1</td>\n",
       "    </tr>\n",
       "    <tr>\n",
       "      <td>4</td>\n",
       "      <td>291.14</td>\n",
       "      <td>75</td>\n",
       "      <td>4918</td>\n",
       "      <td>13</td>\n",
       "      <td>1</td>\n",
       "    </tr>\n",
       "  </tbody>\n",
       "</table>\n",
       "</div>"
      ],
      "text/plain": [
       "     temp  clouds_all  traffic_volume  hour  weekday\n",
       "0  288.28          40            5545     9        1\n",
       "1  289.36          75            4516    10        1\n",
       "2  289.58          90            4767    11        1\n",
       "3  290.13          90            5026    12        1\n",
       "4  291.14          75            4918    13        1"
      ]
     },
     "execution_count": 24,
     "metadata": {},
     "output_type": "execute_result"
    }
   ],
   "source": [
    "df_base.head()"
   ]
  },
  {
   "cell_type": "markdown",
   "metadata": {},
   "source": [
    "Mesmo já sabendo quais os atributos mais correlacionados a **traffic_volume**.\n",
    "Será mostrado como esses atributos interferem no volume de tráfego."
   ]
  },
  {
   "cell_type": "markdown",
   "metadata": {},
   "source": [
    "### temp"
   ]
  },
  {
   "cell_type": "code",
   "execution_count": 25,
   "metadata": {},
   "outputs": [
    {
     "data": {
      "text/plain": [
       "Text(0, 0.5, 'Tráfego')"
      ]
     },
     "execution_count": 25,
     "metadata": {},
     "output_type": "execute_result"
    },
    {
     "data": {
      "image/png": "[encoded data removed]",
      "text/plain": [
       "<Figure size 432x288 with 1 Axes>"
      ]
     },
     "metadata": {
      "needs_background": "light"
     },
     "output_type": "display_data"
    }
   ],
   "source": [
    "plt.scatter(df_base['temp'],df_base['traffic_volume'],alpha = 0.2)\n",
    "plt.xlabel('Temperatura')\n",
    "plt.ylabel('Tráfego')"
   ]
  },
  {
   "cell_type": "markdown",
   "metadata": {},
   "source": [
    "Quando a temperatura está alta, há um maior volume de tráfego. No entanto, podemos perceber que quando a temperatura está baixa, também há um volume de tráfego, mas não tão grande. Neste caso, podem ser alguns outliers. Pelo valor da temperatura(0 - 300), foi deduzido que, provavelmente, ela foi medida em Kelvin."
   ]
  },
  {
   "cell_type": "markdown",
   "metadata": {},
   "source": [
    "### cloud_all"
   ]
  },
  {
   "cell_type": "code",
   "execution_count": 26,
   "metadata": {},
   "outputs": [
    {
     "data": {
      "text/plain": [
       "Text(0, 0.5, 'Tráfego')"
      ]
     },
     "execution_count": 26,
     "metadata": {},
     "output_type": "execute_result"
    },
    {
     "data": {
      "image/png": "[encoded data removed]",
      "text/plain": [
       "<Figure size 432x288 with 1 Axes>"
      ]
     },
     "metadata": {
      "needs_background": "light"
     },
     "output_type": "display_data"
    }
   ],
   "source": [
    "plt.scatter(df_base['clouds_all'],df_base['traffic_volume'],alpha = 0.2)\n",
    "plt.xlabel('Clouds_All')\n",
    "plt.ylabel('Tráfego')"
   ]
  },
  {
   "cell_type": "markdown",
   "metadata": {},
   "source": [
    "Há uma distribuição, quase que, uniforme. Não há muitas reduções no volume de passageiros."
   ]
  },
  {
   "cell_type": "markdown",
   "metadata": {},
   "source": [
    "### hour"
   ]
  },
  {
   "cell_type": "code",
   "execution_count": 27,
   "metadata": {},
   "outputs": [
    {
     "data": {
      "text/plain": [
       "Text(0, 0.5, 'Tráfego')"
      ]
     },
     "execution_count": 27,
     "metadata": {},
     "output_type": "execute_result"
    },
    {
     "data": {
      "image/png": "[encoded data removed]",
      "text/plain": [
       "<Figure size 432x288 with 1 Axes>"
      ]
     },
     "metadata": {
      "needs_background": "light"
     },
     "output_type": "display_data"
    }
   ],
   "source": [
    "plt.scatter(df_base['hour'],df_base['traffic_volume'],alpha = 0.2)\n",
    "plt.xlabel('Hour')\n",
    "plt.ylabel('Tráfego')"
   ]
  },
  {
   "cell_type": "markdown",
   "metadata": {},
   "source": [
    "Foram identificados que os horários que possuem mais volume de tráfego, foram: **6h, 7h, 8h, 9h, 11h, 12h, 13h, 16h, 17h e 18h**. Então, o volume é maior nos horários de pico."
   ]
  },
  {
   "cell_type": "markdown",
   "metadata": {},
   "source": [
    "### weekday"
   ]
  },
  {
   "cell_type": "code",
   "execution_count": 28,
   "metadata": {},
   "outputs": [
    {
     "data": {
      "text/plain": [
       "Text(0, 0.5, 'Tráfego')"
      ]
     },
     "execution_count": 28,
     "metadata": {},
     "output_type": "execute_result"
    },
    {
     "data": {
      "image/png": "[encoded data removed]",
      "text/plain": [
       "<Figure size 432x288 with 1 Axes>"
      ]
     },
     "metadata": {
      "needs_background": "light"
     },
     "output_type": "display_data"
    }
   ],
   "source": [
    "plt.scatter(df_base['weekday'],df_base['traffic_volume'],alpha = 0.2)\n",
    "plt.xlabel('Weekday')\n",
    "plt.ylabel('Tráfego')"
   ]
  },
  {
   "cell_type": "markdown",
   "metadata": {},
   "source": [
    "Pode-se visualizar que há uma distribuição bem uniforme em relação aos dias da semana."
   ]
  },
  {
   "cell_type": "markdown",
   "metadata": {},
   "source": [
    "## Identificando Outliers"
   ]
  },
  {
   "cell_type": "markdown",
   "metadata": {},
   "source": [
    "### temp"
   ]
  },
  {
   "cell_type": "code",
   "execution_count": 29,
   "metadata": {},
   "outputs": [
    {
     "data": {
      "text/plain": [
       "<matplotlib.axes._subplots.AxesSubplot at 0x7f1058580e90>"
      ]
     },
     "execution_count": 29,
     "metadata": {},
     "output_type": "execute_result"
    },
    {
     "data": {
      "image/png": "[encoded data removed]",
      "text/plain": [
       "<Figure size 432x288 with 1 Axes>"
      ]
     },
     "metadata": {
      "needs_background": "light"
     },
     "output_type": "display_data"
    }
   ],
   "source": [
    "df_base['temp'].plot.box()"
   ]
  },
  {
   "cell_type": "markdown",
   "metadata": {},
   "source": [
    "Existem alguns outliers em **temp**, provavelmente com valores próximos a _0_. Para não causarem problemas nem no treinamento quanto no teste, eles serão removidos da base de dados. Foi utilizado o boxplot para realizar a visualização dos outliers. No entanto, agora será utilizado o método z-score, com métrica acima de 3 para detectar os outliers. E logo em seguida, os mesmos serão excluídos."
   ]
  },
  {
   "cell_type": "code",
   "execution_count": 30,
   "metadata": {},
   "outputs": [],
   "source": [
    "df_base = df_base[(np.abs(stats.zscore(df_base['temp'])) < 3)].copy()\n",
    "df_base.reset_index(inplace = True) \n",
    "df_base.drop(columns = ['index'], inplace = True)"
   ]
  },
  {
   "cell_type": "code",
   "execution_count": 31,
   "metadata": {},
   "outputs": [
    {
     "data": {
      "text/plain": [
       "<matplotlib.axes._subplots.AxesSubplot at 0x7f105856ad50>"
      ]
     },
     "execution_count": 31,
     "metadata": {},
     "output_type": "execute_result"
    },
    {
     "data": {
      "image/png": "[encoded data removed]",
      "text/plain": [
       "<Figure size 432x288 with 1 Axes>"
      ]
     },
     "metadata": {
      "needs_background": "light"
     },
     "output_type": "display_data"
    }
   ],
   "source": [
    "df_base['temp'].plot.box()"
   ]
  },
  {
   "cell_type": "markdown",
   "metadata": {},
   "source": [
    "Boxplot(**temp**) sem os outleirs."
   ]
  },
  {
   "cell_type": "markdown",
   "metadata": {},
   "source": [
    "### clouds_all"
   ]
  },
  {
   "cell_type": "code",
   "execution_count": 32,
   "metadata": {},
   "outputs": [
    {
     "data": {
      "text/plain": [
       "<matplotlib.axes._subplots.AxesSubplot at 0x7f10584e3e10>"
      ]
     },
     "execution_count": 32,
     "metadata": {},
     "output_type": "execute_result"
    },
    {
     "data": {
      "image/png": "[encoded data removed]",
      "text/plain": [
       "<Figure size 432x288 with 1 Axes>"
      ]
     },
     "metadata": {
      "needs_background": "light"
     },
     "output_type": "display_data"
    }
   ],
   "source": [
    "df_base['clouds_all'].plot.box()"
   ]
  },
  {
   "cell_type": "markdown",
   "metadata": {},
   "source": [
    "Não há outliers. "
   ]
  },
  {
   "cell_type": "markdown",
   "metadata": {},
   "source": [
    "### hour"
   ]
  },
  {
   "cell_type": "code",
   "execution_count": 33,
   "metadata": {},
   "outputs": [
    {
     "data": {
      "text/plain": [
       "<matplotlib.axes._subplots.AxesSubplot at 0x7f1058269c10>"
      ]
     },
     "execution_count": 33,
     "metadata": {},
     "output_type": "execute_result"
    },
    {
     "data": {
      "image/png": "[encoded data removed]",
      "text/plain": [
       "<Figure size 432x288 with 1 Axes>"
      ]
     },
     "metadata": {
      "needs_background": "light"
     },
     "output_type": "display_data"
    }
   ],
   "source": [
    "df_base['hour'].plot.box()"
   ]
  },
  {
   "cell_type": "markdown",
   "metadata": {},
   "source": [
    "Também não tem outliers."
   ]
  },
  {
   "cell_type": "markdown",
   "metadata": {},
   "source": [
    "### weekday"
   ]
  },
  {
   "cell_type": "code",
   "execution_count": 34,
   "metadata": {
    "scrolled": false
   },
   "outputs": [
    {
     "data": {
      "text/plain": [
       "<matplotlib.axes._subplots.AxesSubplot at 0x7f1058272f10>"
      ]
     },
     "execution_count": 34,
     "metadata": {},
     "output_type": "execute_result"
    },
    {
     "data": {
      "image/png": "[encoded data removed]",
      "text/plain": [
       "<Figure size 432x288 with 1 Axes>"
      ]
     },
     "metadata": {
      "needs_background": "light"
     },
     "output_type": "display_data"
    }
   ],
   "source": [
    "df_base['weekday'].plot.box()"
   ]
  },
  {
   "cell_type": "markdown",
   "metadata": {},
   "source": [
    "Também não há a presença de outliers!"
   ]
  },
  {
   "cell_type": "markdown",
   "metadata": {},
   "source": [
    "# Normalização dos Dados"
   ]
  },
  {
   "cell_type": "markdown",
   "metadata": {},
   "source": [
    "A aplicação da normalização dos dados se faz necessário para evitar que alguns atributos predominem sobre outros. A normalização utilizada aqui é a _StandardScaler_.  "
   ]
  },
  {
   "cell_type": "code",
   "execution_count": 35,
   "metadata": {},
   "outputs": [
    {
     "data": {
      "text/html": [
       "<div>\n",
       "<style scoped>\n",
       "    .dataframe tbody tr th:only-of-type {\n",
       "        vertical-align: middle;\n",
       "    }\n",
       "\n",
       "    .dataframe tbody tr th {\n",
       "        vertical-align: top;\n",
       "    }\n",
       "\n",
       "    .dataframe thead th {\n",
       "        text-align: right;\n",
       "    }\n",
       "</style>\n",
       "<table border=\"1\" class=\"dataframe\">\n",
       "  <thead>\n",
       "    <tr style=\"text-align: right;\">\n",
       "      <th></th>\n",
       "      <th>temp</th>\n",
       "      <th>clouds_all</th>\n",
       "      <th>hour</th>\n",
       "      <th>weekday</th>\n",
       "      <th>traffic_volume</th>\n",
       "    </tr>\n",
       "  </thead>\n",
       "  <tbody>\n",
       "    <tr>\n",
       "      <td>0</td>\n",
       "      <td>0.552067</td>\n",
       "      <td>-0.240326</td>\n",
       "      <td>-0.345665</td>\n",
       "      <td>-0.989296</td>\n",
       "      <td>5545</td>\n",
       "    </tr>\n",
       "    <tr>\n",
       "      <td>1</td>\n",
       "      <td>0.637041</td>\n",
       "      <td>0.656825</td>\n",
       "      <td>-0.201581</td>\n",
       "      <td>-0.989296</td>\n",
       "      <td>4516</td>\n",
       "    </tr>\n",
       "    <tr>\n",
       "      <td>2</td>\n",
       "      <td>0.654350</td>\n",
       "      <td>1.041318</td>\n",
       "      <td>-0.057497</td>\n",
       "      <td>-0.989296</td>\n",
       "      <td>4767</td>\n",
       "    </tr>\n",
       "    <tr>\n",
       "      <td>3</td>\n",
       "      <td>0.697624</td>\n",
       "      <td>1.041318</td>\n",
       "      <td>0.086587</td>\n",
       "      <td>-0.989296</td>\n",
       "      <td>5026</td>\n",
       "    </tr>\n",
       "    <tr>\n",
       "      <td>4</td>\n",
       "      <td>0.777091</td>\n",
       "      <td>0.656825</td>\n",
       "      <td>0.230672</td>\n",
       "      <td>-0.989296</td>\n",
       "      <td>4918</td>\n",
       "    </tr>\n",
       "  </tbody>\n",
       "</table>\n",
       "</div>"
      ],
      "text/plain": [
       "       temp  clouds_all      hour   weekday  traffic_volume\n",
       "0  0.552067   -0.240326 -0.345665 -0.989296            5545\n",
       "1  0.637041    0.656825 -0.201581 -0.989296            4516\n",
       "2  0.654350    1.041318 -0.057497 -0.989296            4767\n",
       "3  0.697624    1.041318  0.086587 -0.989296            5026\n",
       "4  0.777091    0.656825  0.230672 -0.989296            4918"
      ]
     },
     "execution_count": 35,
     "metadata": {},
     "output_type": "execute_result"
    }
   ],
   "source": [
    "num = df_base.select_dtypes(['float64', 'int64']).columns.values\n",
    "num = np.delete(num, np.argwhere(num == 'traffic_volume'))\n",
    "\n",
    "scaler = preprocessing.StandardScaler()\n",
    "scaled = pd.concat([pd.DataFrame(scaler.fit_transform(df_base[num]), columns = num), df_base['traffic_volume']], axis=1)\n",
    "\n",
    "scaled.head()"
   ]
  },
  {
   "cell_type": "markdown",
   "metadata": {},
   "source": [
    "# Divisão da Base de Dados - 70/30"
   ]
  },
  {
   "cell_type": "code",
   "execution_count": 36,
   "metadata": {},
   "outputs": [],
   "source": [
    "trainSample,testSample = model_selection.train_test_split(scaled.copy(), random_state = 42, test_size = 0.3, shuffle = True)\n",
    "    \n",
    "trainSample2,testSample2 = model_selection.train_test_split(scaled.copy(), random_state = 43,test_size = 0.3, shuffle = True)\n",
    "\n",
    "trainTarget = trainSample['traffic_volume'].copy()\n",
    "testTarget = testSample['traffic_volume'].copy()\n",
    "\n",
    "trainTarget2 = trainSample2['traffic_volume'].copy()\n",
    "testTarget2 = testSample2['traffic_volume'].copy()\n",
    "\n",
    "del trainSample['traffic_volume']\n",
    "del testSample['traffic_volume']\n",
    "del trainSample2['traffic_volume']\n",
    "del testSample2['traffic_volume']\n",
    "\n"
   ]
  },
  {
   "cell_type": "markdown",
   "metadata": {},
   "source": [
    "A base de dados foi divida em 70/30, isto é, 70% para o treinamento e 30% para os testes, sendo essa repartição realizada de forma aleatória. Como requerido, o experimento será realizado\n",
    "duas vezes. Por isso, o conjunto de treinamento e teste possuem duas amostras cada.\n"
   ]
  },
  {
   "cell_type": "markdown",
   "metadata": {},
   "source": [
    "# Aplicação do Algoritmo de KNN"
   ]
  },
  {
   "cell_type": "markdown",
   "metadata": {},
   "source": [
    "O algoritmo de aprendizagem de máquina escolhido é o k-Nearest Neighbors(KNN) para regressão. Com o valor de **k=3**. "
   ]
  },
  {
   "cell_type": "code",
   "execution_count": 37,
   "metadata": {},
   "outputs": [],
   "source": [
    "knn = neighbors.KNeighborsRegressor(n_neighbors=3)\n",
    "\n",
    "knn.fit(trainSample,trainTarget)\n",
    "result_firstKNN = knn.predict(testSample)\n",
    "result_trainKNN = knn.predict(trainSample) #predição do com os dados do treino\n",
    "\n",
    "\n",
    "knn.fit(trainSample2,trainTarget2)\n",
    "result_secondKNN = knn.predict(testSample2)\n",
    "result_tKNN = knn.predict(trainSample2)#predição do com os dados do treino"
   ]
  },
  {
   "cell_type": "markdown",
   "metadata": {},
   "source": [
    "O modelo será avaliado por meio de métricas. As métricas, neste caso, serão: Mean Squared Error (**MSE**), Mean Absolute Error (**MAE**) e Coefficient of Determination (*$R^2$*). Para as duas primeiras métricas de avaliação, valores próximos a 0 indicam que o modelo possui poucos erros. Já em relação a última métrica, valores próximos a 1 indicam que o modelo se ajusta muito bem aos dados."
   ]
  },
  {
   "cell_type": "code",
   "execution_count": 38,
   "metadata": {
    "scrolled": true
   },
   "outputs": [
    {
     "name": "stdout",
     "output_type": "stream",
     "text": [
      "Primeiro conjunto de teste KNN com k=3\n",
      "MSE = 304405.90050\n",
      "MAE = 328.09804\n",
      "R² = 0.92372 - teste\n",
      "R² = 0.96194 - treino\n",
      "\n",
      "\n",
      "Segundo conjunto de teste KNN com k=3\n",
      "MSE = 294229.67094\n",
      "MAE = 325.20257\n",
      "R² = 0.92515 - teste\n",
      "R² = 0.96266 - treino\n"
     ]
    }
   ],
   "source": [
    "print(\"Primeiro conjunto de teste KNN com k=3\")\n",
    "\n",
    "print(\"MSE = %0.5f\" % (metrics.mean_squared_error(testTarget,result_firstKNN)))\n",
    "print(\"MAE = %0.5f\" % (metrics.mean_absolute_error(testTarget,result_firstKNN)))\n",
    "print(\"R² = %0.5f - teste\" % (metrics.r2_score(testTarget,result_firstKNN)))\n",
    "print(\"R² = %0.5f - treino\" % (metrics.r2_score(trainTarget,result_trainKNN)))\n",
    "\n",
    "print(\"\\n\\nSegundo conjunto de teste KNN com k=3\")\n",
    "print(\"MSE = %0.5f\" % (metrics.mean_squared_error(testTarget2,result_secondKNN)))\n",
    "print(\"MAE = %0.5f\" % (metrics.mean_absolute_error(testTarget2,result_secondKNN)))\n",
    "print(\"R² = %0.5f - teste\" % (metrics.r2_score(testTarget2,result_secondKNN)))\n",
    "print(\"R² = %0.5f - treino\" % (metrics.r2_score(trainTarget2,result_tKNN)))"
   ]
  },
  {
   "cell_type": "markdown",
   "metadata": {},
   "source": [
    "Nas duas execuções do algortimo os valores de coeficiente de determinação obtido foi superior a 0.9  A partir dos resultados em (*$R^2$*), é possível perceber que nas duas execuções de testes, os valores foram superiores a 0.9. \n",
    "\n",
    "Comparando, somente, a métrica do Coefficient of Determination (*$R^2$*), tanto em relação ao valor de treino e teste, é possível perceber que não acontece um overfitting. Pois quando o conjunto de teste foi executado, eĺe apresentou valores diferentes da execução do conjunto de treino."
   ]
  },
  {
   "cell_type": "markdown",
   "metadata": {},
   "source": [
    "### Gráfico KNN"
   ]
  },
  {
   "cell_type": "code",
   "execution_count": 39,
   "metadata": {},
   "outputs": [],
   "source": [
    "def scatter(x, y,title = None):\n",
    "    fig, ax = plt.subplots()\n",
    "    ax.scatter(x, y, c='blue',alpha = 0.3)\n",
    "    line = mlines.Line2D([0, 1], [0, 1], color='black')\n",
    "    transform = ax.transAxes\n",
    "    line.set_transform(transform)\n",
    "    ax.add_line(line)\n",
    "    plt.xlabel(\"Previsto\")\n",
    "    plt.ylabel(\"Verdadeiro\")\n",
    "    if title != None:\n",
    "        plt.title(title)\n",
    "    plt.show()\n",
    "    \n",
    "   "
   ]
  },
  {
   "cell_type": "code",
   "execution_count": 40,
   "metadata": {},
   "outputs": [
    {
     "data": {
      "image/png": "[encoded data removed]",
      "text/plain": [
       "<Figure size 432x288 with 1 Axes>"
      ]
     },
     "metadata": {
      "needs_background": "light"
     },
     "output_type": "display_data"
    }
   ],
   "source": [
    "scatter(result_firstKNN,testTarget, \"KNN - primeira execução\") #primeira execução"
   ]
  },
  {
   "cell_type": "code",
   "execution_count": 41,
   "metadata": {},
   "outputs": [
    {
     "data": {
      "image/png": "[encoded data removed]",
      "text/plain": [
       "<Figure size 432x288 with 1 Axes>"
      ]
     },
     "metadata": {
      "needs_background": "light"
     },
     "output_type": "display_data"
    }
   ],
   "source": [
    "scatter(result_secondKNN,testTarget2, \"KNN - segunda execução\") #segunda execução"
   ]
  },
  {
   "cell_type": "markdown",
   "metadata": {},
   "source": [
    "A execução do KNN nas duas amostras apresentaram saídas bem parecidas. A partir das métricas, é possível perceber que o algoritmo conseguiu prever bem a saída desejada na maioria dos casos. No entanto, quando se faz a plotagem do gráfico, é possível visualizar que o algoritmo falhou em alguns casos. Uma hipótese, é inferir que o atributo **holiday**, mesmo totalmente desbalanceado, fez diferença. "
   ]
  },
  {
   "cell_type": "markdown",
   "metadata": {},
   "source": [
    "# Aplicação do Algoritmo de Árvore de Decisão"
   ]
  },
  {
   "cell_type": "markdown",
   "metadata": {},
   "source": [
    "O outro algoritmo a ser utilizado será a Árvore de Decisão para regressão. Da mesma forma que foi feito no KNN, aqui as amostras, de treino e teste, serão executadas duas vezes também."
   ]
  },
  {
   "cell_type": "code",
   "execution_count": 42,
   "metadata": {},
   "outputs": [],
   "source": [
    "tdt = tree.DecisionTreeRegressor()\n",
    "\n",
    "tdt.fit(trainSample, trainTarget)\n",
    "result_firstTree = tdt.predict(testSample)\n",
    "result_trainTree = knn.predict(trainSample) #predição do como os dados do treino\n",
    "\n",
    "tdt.fit(trainSample2, trainTarget2)\n",
    "result_secondTree = tdt.predict(testSample2)\n",
    "result_tTree = knn.predict(trainSample2)#predição do como os dados do treino"
   ]
  },
  {
   "cell_type": "code",
   "execution_count": 44,
   "metadata": {},
   "outputs": [
    {
     "name": "stdout",
     "output_type": "stream",
     "text": [
      "Primeiro conjunto de teste - Árvore de Decisão\n",
      "MSE = 344129.74618\n",
      "MAE = 297.00413\n",
      "R² = 0.91376 - teste\n",
      "R² = 0.95056 - treino\n",
      "\n",
      "\n",
      "Segundo conjunto de teste - Árvore de Decisão\n",
      "MSE = 353935.53414\n",
      "MAE = 300.24366\n",
      "R² = 0.90996 - teste\n",
      "R² = 0.96266 - treino\n"
     ]
    }
   ],
   "source": [
    "print(\"Primeiro conjunto de teste - Árvore de Decisão\")\n",
    "\n",
    "print(\"MSE = %0.5f\" % (metrics.mean_squared_error(testTarget,result_firstTree)))\n",
    "print(\"MAE = %0.5f\" % (metrics.mean_absolute_error(testTarget,result_firstTree)))\n",
    "print(\"R² = %0.5f - teste\" % (metrics.r2_score(testTarget,result_firstTree)))\n",
    "print(\"R² = %0.5f - treino\" % (metrics.r2_score(trainTarget,result_trainTree)))\n",
    "\n",
    "print(\"\\n\\nSegundo conjunto de teste - Árvore de Decisão\")\n",
    "print(\"MSE = %0.5f\" % (metrics.mean_squared_error(testTarget2,result_secondTree)))\n",
    "print(\"MAE = %0.5f\" % (metrics.mean_absolute_error(testTarget2,result_secondTree)))\n",
    "print(\"R² = %0.5f - teste\" % (metrics.r2_score(testTarget2,result_secondTree)))\n",
    "print(\"R² = %0.5f - treino\" % (metrics.r2_score(trainTarget2,result_tTree)))\n"
   ]
  },
  {
   "cell_type": "markdown",
   "metadata": {},
   "source": [
    "O algoritmo de Árvore de Decisão foi avaliado da mesma forma que o algoritmo KNN. \n",
    "\n",
    "O algoritmo de Árvore de Decisão obteve resultados parecidos nas duas amostras testadas. Aqui também não acontece overfitting, devido a diferença de valores do R² tanto quanto aos valores de treino quanto aos valores de teste. "
   ]
  },
  {
   "cell_type": "markdown",
   "metadata": {},
   "source": [
    "### Gráfico da Árvore de Decisão"
   ]
  },
  {
   "cell_type": "code",
   "execution_count": 45,
   "metadata": {},
   "outputs": [],
   "source": [
    "def scatter(x, y,title=None):\n",
    "    fig, ax = plt.subplots()\n",
    "    ax.scatter(x, y, c='blue',alpha = 0.3)\n",
    "    line = mlines.Line2D([0, 1], [0, 1], color='black')\n",
    "    transform = ax.transAxes\n",
    "    line.set_transform(transform)\n",
    "    ax.add_line(line)\n",
    "    plt.xlabel(\"Previsto\")\n",
    "    plt.ylabel(\"Verdadeiro\")\n",
    "    if title != None:\n",
    "        plt.title(title)\n",
    "    plt.show()"
   ]
  },
  {
   "cell_type": "code",
   "execution_count": 46,
   "metadata": {},
   "outputs": [
    {
     "data": {
      "image/png": "[encoded data removed]",
      "text/plain": [
       "<Figure size 432x288 with 1 Axes>"
      ]
     },
     "metadata": {
      "needs_background": "light"
     },
     "output_type": "display_data"
    }
   ],
   "source": [
    "scatter(result_secondTree,testTarget2, \"Árvore de Decisão - primeira execução\") #primeira execução"
   ]
  },
  {
   "cell_type": "code",
   "execution_count": 47,
   "metadata": {},
   "outputs": [
    {
     "data": {
      "image/png": "[encoded data removed]",
      "text/plain": [
       "<Figure size 432x288 with 1 Axes>"
      ]
     },
     "metadata": {
      "needs_background": "light"
     },
     "output_type": "display_data"
    }
   ],
   "source": [
    "scatter(result_secondKNN,testTarget2, \"Árvore de Decisão - segunda execução\") #segunda execução"
   ]
  },
  {
   "cell_type": "markdown",
   "metadata": {},
   "source": [
    "A plotagem do gráfico de Árvore de Decisão mostra que o algortimo também errou na predição de algumas saída.  \n",
    "\n",
    "\n",
    "Quanto as métricas, comparando os dois algoritmos, o **MAE** apresentou um melhor resultado em Árvore de Decisão. Já o **MSE e R²** apresentaram melhores resultado no KNN. No geral, os resultados foram um pouco inferiores com relação aos do KNN\n",
    "\n",
    "\n",
    "\n"
   ]
  },
  {
   "cell_type": "markdown",
   "metadata": {},
   "source": [
    "# Validação Cruzada"
   ]
  },
  {
   "cell_type": "markdown",
   "metadata": {},
   "source": [
    "A validação cruzada será realizada utilizando os mesmos algoritmos anteriores. Os dados foram divididos em 10 grupos. "
   ]
  },
  {
   "cell_type": "code",
   "execution_count": 48,
   "metadata": {},
   "outputs": [
    {
     "name": "stdout",
     "output_type": "stream",
     "text": [
      "Validação Cruzada - KNN\n",
      "MSE = 278136.62383\n",
      "MAE = 311.24372\n",
      "R² = 0.93100\n",
      "\n",
      "Validação Cruzada - Árvore de Decisão\n",
      "MSE = 330234.61162\n",
      "MAE = 286.05257\n",
      "R² = 0.91808\n"
     ]
    }
   ],
   "source": [
    "kf = model_selection.KFold(n_splits=10,random_state=42, shuffle=True)\n",
    "\n",
    "knn = neighbors.KNeighborsRegressor(n_neighbors=3)\n",
    "tee = tree.DecisionTreeRegressor()\n",
    "\n",
    "pred_x = scaled.copy()\n",
    "pred_y = pred_x['traffic_volume']\n",
    "\n",
    "del pred_x['traffic_volume']\n",
    "\n",
    "for train_index, test_index in kf.split(scaled):\n",
    "    x_train, x_test = pred_x.loc[train_index], pred_x.loc[test_index]\n",
    "    y_train, y_test = pred_y.loc[train_index], pred_y.loc[test_index]\n",
    "\n",
    "    knn.fit(x_train,y_train)\n",
    "    resultknn = knn.predict(x_test)\n",
    "    \n",
    "    tee.fit(x_train,y_train)\n",
    "    resulttree = tee.predict(x_test)\n",
    "\n",
    "print(\"Validação Cruzada - KNN\")\n",
    "print(\"MSE = %0.5f\" % (metrics.mean_squared_error(y_test,resultknn)))\n",
    "print(\"MAE = %0.5f\" % (metrics.mean_absolute_error(y_test,resultknn)))\n",
    "print(\"R² = %0.5f\" % (metrics.r2_score(y_test,resultknn)))\n",
    "\n",
    "    \n",
    "print(\"\\nValidação Cruzada - Árvore de Decisão\")\n",
    "print(\"MSE = %0.5f\" % (metrics.mean_squared_error(y_test,resulttree)))\n",
    "print(\"MAE = %0.5f\" % (metrics.mean_absolute_error(y_test,resulttree)))\n",
    "print(\"R² = %0.5f\" % (metrics.r2_score(y_test,resulttree)))\n",
    "        \n"
   ]
  },
  {
   "cell_type": "markdown",
   "metadata": {},
   "source": [
    "Mesmo realizando a validação cruzada, os resultados das métricas se mostraram similares aos resultados obtidos nos dois algoritmos executados anteriormente. Novamente o algoritmo de KNN se mostra melhor que de Árvore de Decisão.\n"
   ]
  },
  {
   "cell_type": "markdown",
   "metadata": {},
   "source": [
    "# Conclusão"
   ]
  },
  {
   "cell_type": "markdown",
   "metadata": {},
   "source": [
    "Pode concluir que os modelos utilizados não aparentam ter overfitting, pois adaptaram-se as diferentes amostras utilizadas. E mesmo realizando a validação cruzada, os resultados obtidos foram bastante semelhantes aos resultados até então conhecidos. "
   ]
  }
 ],
 "metadata": {
  "kernelspec": {
   "display_name": "Python 3",
   "language": "python",
   "name": "python3"
  },
  "language_info": {
   "codemirror_mode": {
    "name": "ipython",
    "version": 3
   },
   "file_extension": ".py",
   "mimetype": "text/x-python",
   "name": "python",
   "nbconvert_exporter": "python",
   "pygments_lexer": "ipython3",
   "version": "3.7.4"
  }
 },
 "nbformat": 4,
 "nbformat_minor": 2
}
